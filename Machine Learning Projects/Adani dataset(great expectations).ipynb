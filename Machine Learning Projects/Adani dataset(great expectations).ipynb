{
 "cells": [
  {
   "cell_type": "markdown",
   "id": "fa126d14",
   "metadata": {},
   "source": [
    " \"results\": This section shows the individual results of each expectation that was evaluated. In this case, there were three expectations evaluated, each represented by a separate dictionary within the \"results\" list.\n",
    " \n",
    " \n",
    "#\"expectation_config\": This section shows the configuration settings for each expectation. These settings are used to define the criteria that the data is being evaluated against.\n",
    "\n",
    "\n",
    "#\"result\": This section shows the actual results of each expectation. This can include information such as the number of missing values or unexpected values found in the data.\n",
    "\n",
    "\n",
    "#\"exception_info\": This section shows any exceptions that occurred while running the expectation. In this case, there were no exceptions raised.\n",
    "\n",
    "\n",
    "#\"success\": This section shows whether the entire validation run was successful or not. In this case, the run was successful, as all three expectations evaluated successfully.\n",
    "\n",
    "\n",
    "#\"statistics\": This section shows overall statistics for the validation run, including the total number of evaluated expectations, the number of successful expectations, and the success percentage."
   ]
  },
  {
   "cell_type": "code",
   "execution_count": 1,
   "id": "8dea61d4",
   "metadata": {},
   "outputs": [
    {
     "name": "stdout",
     "output_type": "stream",
     "text": [
      "Requirement already satisfied: numpy in c:\\users\\dell\\anaconda3\\lib\\site-packages (1.21.5)\n",
      "Requirement already satisfied: pandas in c:\\users\\dell\\anaconda3\\lib\\site-packages (1.4.4)\n",
      "Requirement already satisfied: numpy>=1.18.5 in c:\\users\\dell\\anaconda3\\lib\\site-packages (from pandas) (1.21.5)\n",
      "Requirement already satisfied: pytz>=2020.1 in c:\\users\\dell\\anaconda3\\lib\\site-packages (from pandas) (2022.1)\n",
      "Requirement already satisfied: python-dateutil>=2.8.1 in c:\\users\\dell\\anaconda3\\lib\\site-packages (from pandas) (2.8.2)\n",
      "Requirement already satisfied: six>=1.5 in c:\\users\\dell\\anaconda3\\lib\\site-packages (from python-dateutil>=2.8.1->pandas) (1.16.0)\n",
      "Collecting great_expectations\n",
      "  Downloading great_expectations-0.17.0-py3-none-any.whl (5.3 MB)\n",
      "     ---------------------------------------- 5.3/5.3 MB 12.6 MB/s eta 0:00:00\n",
      "Requirement already satisfied: colorama>=0.4.3 in c:\\users\\dell\\anaconda3\\lib\\site-packages (from great_expectations) (0.4.5)\n",
      "Collecting makefun<2,>=1.7.0\n",
      "  Downloading makefun-1.15.1-py2.py3-none-any.whl (22 kB)\n",
      "Requirement already satisfied: Ipython>=7.16.3 in c:\\users\\dell\\anaconda3\\lib\\site-packages (from great_expectations) (7.31.1)\n",
      "Collecting tzlocal>=1.2\n",
      "  Downloading tzlocal-5.0.1-py3-none-any.whl (20 kB)\n",
      "Requirement already satisfied: pytz>=2021.3 in c:\\users\\dell\\anaconda3\\lib\\site-packages (from great_expectations) (2022.1)\n",
      "Requirement already satisfied: Click>=7.1.2 in c:\\users\\dell\\anaconda3\\lib\\site-packages (from great_expectations) (8.0.4)\n",
      "Collecting ruamel.yaml<0.17.18,>=0.16\n",
      "  Downloading ruamel.yaml-0.17.17-py3-none-any.whl (109 kB)\n",
      "     -------------------------------------- 109.1/109.1 kB 6.2 MB/s eta 0:00:00\n",
      "Requirement already satisfied: pandas>=1.1.3 in c:\\users\\dell\\anaconda3\\lib\\site-packages (from great_expectations) (1.4.4)\n",
      "Requirement already satisfied: importlib-metadata>=1.7.0 in c:\\users\\dell\\anaconda3\\lib\\site-packages (from great_expectations) (4.11.3)\n",
      "Collecting jsonpatch>=1.22\n",
      "  Downloading jsonpatch-1.32-py2.py3-none-any.whl (12 kB)\n",
      "Requirement already satisfied: requests>=2.20 in c:\\users\\dell\\anaconda3\\lib\\site-packages (from great_expectations) (2.28.1)\n",
      "Requirement already satisfied: cryptography>=3.2 in c:\\users\\dell\\anaconda3\\lib\\site-packages (from great_expectations) (37.0.1)\n",
      "Requirement already satisfied: jinja2>=2.10 in c:\\users\\dell\\anaconda3\\lib\\site-packages (from great_expectations) (2.11.3)\n",
      "Requirement already satisfied: jsonschema>=2.5.1 in c:\\users\\dell\\anaconda3\\lib\\site-packages (from great_expectations) (4.16.0)\n",
      "Requirement already satisfied: mistune>=0.8.4 in c:\\users\\dell\\anaconda3\\lib\\site-packages (from great_expectations) (0.8.4)\n",
      "Collecting pydantic<2.0,>=1.9.2\n",
      "  Downloading pydantic-1.10.9-cp39-cp39-win_amd64.whl (2.2 MB)\n",
      "     ---------------------------------------- 2.2/2.2 MB 8.7 MB/s eta 0:00:00\n",
      "Requirement already satisfied: packaging in c:\\users\\dell\\anaconda3\\lib\\site-packages (from great_expectations) (21.3)\n",
      "Requirement already satisfied: pyparsing>=2.4 in c:\\users\\dell\\anaconda3\\lib\\site-packages (from great_expectations) (3.0.9)\n",
      "Collecting altair<5.0.0,>=4.2.1\n",
      "  Downloading altair-4.2.2-py3-none-any.whl (813 kB)\n",
      "     -------------------------------------- 813.6/813.6 kB 8.5 MB/s eta 0:00:00\n",
      "Requirement already satisfied: scipy>=1.6.0 in c:\\users\\dell\\anaconda3\\lib\\site-packages (from great_expectations) (1.9.1)\n",
      "Requirement already satisfied: tqdm>=4.59.0 in c:\\users\\dell\\anaconda3\\lib\\site-packages (from great_expectations) (4.64.1)\n",
      "Requirement already satisfied: notebook>=6.4.10 in c:\\users\\dell\\anaconda3\\lib\\site-packages (from great_expectations) (6.4.12)\n",
      "Requirement already satisfied: urllib3>=1.26 in c:\\users\\dell\\anaconda3\\lib\\site-packages (from great_expectations) (1.26.11)\n",
      "Requirement already satisfied: typing-extensions>=3.10.0.0 in c:\\users\\dell\\anaconda3\\lib\\site-packages (from great_expectations) (4.3.0)\n",
      "Requirement already satisfied: ipywidgets>=7.5.1 in c:\\users\\dell\\anaconda3\\lib\\site-packages (from great_expectations) (7.6.5)\n",
      "Requirement already satisfied: python-dateutil>=2.8.1 in c:\\users\\dell\\anaconda3\\lib\\site-packages (from great_expectations) (2.8.2)\n",
      "Requirement already satisfied: numpy>=1.19.5 in c:\\users\\dell\\anaconda3\\lib\\site-packages (from great_expectations) (1.21.5)\n",
      "Requirement already satisfied: nbformat>=5.0 in c:\\users\\dell\\anaconda3\\lib\\site-packages (from great_expectations) (5.5.0)\n",
      "Collecting marshmallow<4.0.0,>=3.7.1\n",
      "  Downloading marshmallow-3.19.0-py3-none-any.whl (49 kB)\n",
      "     ---------------------------------------- 49.1/49.1 kB ? eta 0:00:00\n",
      "Requirement already satisfied: entrypoints in c:\\users\\dell\\anaconda3\\lib\\site-packages (from altair<5.0.0,>=4.2.1->great_expectations) (0.4)\n",
      "Requirement already satisfied: toolz in c:\\users\\dell\\anaconda3\\lib\\site-packages (from altair<5.0.0,>=4.2.1->great_expectations) (0.11.2)\n",
      "Requirement already satisfied: cffi>=1.12 in c:\\users\\dell\\anaconda3\\lib\\site-packages (from cryptography>=3.2->great_expectations) (1.15.1)\n",
      "Requirement already satisfied: zipp>=0.5 in c:\\users\\dell\\anaconda3\\lib\\site-packages (from importlib-metadata>=1.7.0->great_expectations) (3.8.0)\n",
      "Requirement already satisfied: jedi>=0.16 in c:\\users\\dell\\anaconda3\\lib\\site-packages (from Ipython>=7.16.3->great_expectations) (0.18.1)\n",
      "Requirement already satisfied: decorator in c:\\users\\dell\\anaconda3\\lib\\site-packages (from Ipython>=7.16.3->great_expectations) (5.1.1)\n",
      "Requirement already satisfied: pickleshare in c:\\users\\dell\\anaconda3\\lib\\site-packages (from Ipython>=7.16.3->great_expectations) (0.7.5)\n",
      "Requirement already satisfied: pygments in c:\\users\\dell\\anaconda3\\lib\\site-packages (from Ipython>=7.16.3->great_expectations) (2.11.2)\n",
      "Requirement already satisfied: matplotlib-inline in c:\\users\\dell\\anaconda3\\lib\\site-packages (from Ipython>=7.16.3->great_expectations) (0.1.6)\n",
      "Requirement already satisfied: setuptools>=18.5 in c:\\users\\dell\\anaconda3\\lib\\site-packages (from Ipython>=7.16.3->great_expectations) (63.4.1)\n",
      "Requirement already satisfied: backcall in c:\\users\\dell\\anaconda3\\lib\\site-packages (from Ipython>=7.16.3->great_expectations) (0.2.0)\n",
      "Requirement already satisfied: prompt-toolkit!=3.0.0,!=3.0.1,<3.1.0,>=2.0.0 in c:\\users\\dell\\anaconda3\\lib\\site-packages (from Ipython>=7.16.3->great_expectations) (3.0.20)\n",
      "Requirement already satisfied: traitlets>=4.2 in c:\\users\\dell\\anaconda3\\lib\\site-packages (from Ipython>=7.16.3->great_expectations) (5.1.1)\n",
      "Requirement already satisfied: ipykernel>=4.5.1 in c:\\users\\dell\\anaconda3\\lib\\site-packages (from ipywidgets>=7.5.1->great_expectations) (6.15.2)\n",
      "Requirement already satisfied: widgetsnbextension~=3.5.0 in c:\\users\\dell\\anaconda3\\lib\\site-packages (from ipywidgets>=7.5.1->great_expectations) (3.5.2)\n",
      "Requirement already satisfied: jupyterlab-widgets>=1.0.0 in c:\\users\\dell\\anaconda3\\lib\\site-packages (from ipywidgets>=7.5.1->great_expectations) (1.0.0)\n",
      "Requirement already satisfied: ipython-genutils~=0.2.0 in c:\\users\\dell\\anaconda3\\lib\\site-packages (from ipywidgets>=7.5.1->great_expectations) (0.2.0)\n",
      "Requirement already satisfied: MarkupSafe>=0.23 in c:\\users\\dell\\anaconda3\\lib\\site-packages (from jinja2>=2.10->great_expectations) (2.0.1)\n",
      "Collecting jsonpointer>=1.9\n",
      "  Downloading jsonpointer-2.3-py2.py3-none-any.whl (7.8 kB)\n",
      "Requirement already satisfied: attrs>=17.4.0 in c:\\users\\dell\\anaconda3\\lib\\site-packages (from jsonschema>=2.5.1->great_expectations) (21.4.0)\n",
      "Requirement already satisfied: pyrsistent!=0.17.0,!=0.17.1,!=0.17.2,>=0.14.0 in c:\\users\\dell\\anaconda3\\lib\\site-packages (from jsonschema>=2.5.1->great_expectations) (0.18.0)\n",
      "Requirement already satisfied: jupyter_core in c:\\users\\dell\\anaconda3\\lib\\site-packages (from nbformat>=5.0->great_expectations) (4.11.1)\n",
      "Requirement already satisfied: fastjsonschema in c:\\users\\dell\\anaconda3\\lib\\site-packages (from nbformat>=5.0->great_expectations) (2.16.2)\n",
      "Requirement already satisfied: prometheus-client in c:\\users\\dell\\anaconda3\\lib\\site-packages (from notebook>=6.4.10->great_expectations) (0.14.1)\n",
      "Requirement already satisfied: Send2Trash>=1.8.0 in c:\\users\\dell\\anaconda3\\lib\\site-packages (from notebook>=6.4.10->great_expectations) (1.8.0)\n",
      "Requirement already satisfied: argon2-cffi in c:\\users\\dell\\anaconda3\\lib\\site-packages (from notebook>=6.4.10->great_expectations) (21.3.0)\n",
      "Requirement already satisfied: nest-asyncio>=1.5 in c:\\users\\dell\\anaconda3\\lib\\site-packages (from notebook>=6.4.10->great_expectations) (1.5.5)\n",
      "Requirement already satisfied: pyzmq>=17 in c:\\users\\dell\\anaconda3\\lib\\site-packages (from notebook>=6.4.10->great_expectations) (23.2.0)\n",
      "Requirement already satisfied: terminado>=0.8.3 in c:\\users\\dell\\anaconda3\\lib\\site-packages (from notebook>=6.4.10->great_expectations) (0.13.1)\n",
      "Requirement already satisfied: jupyter-client>=5.3.4 in c:\\users\\dell\\anaconda3\\lib\\site-packages (from notebook>=6.4.10->great_expectations) (7.3.4)\n",
      "Requirement already satisfied: tornado>=6.1 in c:\\users\\dell\\anaconda3\\lib\\site-packages (from notebook>=6.4.10->great_expectations) (6.1)\n",
      "Requirement already satisfied: nbconvert>=5 in c:\\users\\dell\\anaconda3\\lib\\site-packages (from notebook>=6.4.10->great_expectations) (6.4.4)\n",
      "Requirement already satisfied: six>=1.5 in c:\\users\\dell\\anaconda3\\lib\\site-packages (from python-dateutil>=2.8.1->great_expectations) (1.16.0)\n",
      "Requirement already satisfied: idna<4,>=2.5 in c:\\users\\dell\\anaconda3\\lib\\site-packages (from requests>=2.20->great_expectations) (3.3)\n",
      "Requirement already satisfied: certifi>=2017.4.17 in c:\\users\\dell\\anaconda3\\lib\\site-packages (from requests>=2.20->great_expectations) (2022.9.14)\n",
      "Requirement already satisfied: charset-normalizer<3,>=2 in c:\\users\\dell\\anaconda3\\lib\\site-packages (from requests>=2.20->great_expectations) (2.0.4)\n",
      "Collecting ruamel.yaml.clib>=0.1.2\n",
      "  Downloading ruamel.yaml.clib-0.2.7-cp39-cp39-win_amd64.whl (118 kB)\n",
      "     -------------------------------------- 118.4/118.4 kB 7.2 MB/s eta 0:00:00\n",
      "Collecting tzdata\n",
      "  Downloading tzdata-2023.3-py2.py3-none-any.whl (341 kB)\n",
      "     -------------------------------------- 341.8/341.8 kB 7.1 MB/s eta 0:00:00\n",
      "Requirement already satisfied: pycparser in c:\\users\\dell\\anaconda3\\lib\\site-packages (from cffi>=1.12->cryptography>=3.2->great_expectations) (2.21)\n",
      "Requirement already satisfied: debugpy>=1.0 in c:\\users\\dell\\anaconda3\\lib\\site-packages (from ipykernel>=4.5.1->ipywidgets>=7.5.1->great_expectations) (1.5.1)\n",
      "Requirement already satisfied: psutil in c:\\users\\dell\\anaconda3\\lib\\site-packages (from ipykernel>=4.5.1->ipywidgets>=7.5.1->great_expectations) (5.9.0)\n",
      "Requirement already satisfied: parso<0.9.0,>=0.8.0 in c:\\users\\dell\\anaconda3\\lib\\site-packages (from jedi>=0.16->Ipython>=7.16.3->great_expectations) (0.8.3)\n",
      "Requirement already satisfied: pywin32>=1.0 in c:\\users\\dell\\anaconda3\\lib\\site-packages (from jupyter_core->nbformat>=5.0->great_expectations) (302)\n",
      "Requirement already satisfied: jupyterlab-pygments in c:\\users\\dell\\anaconda3\\lib\\site-packages (from nbconvert>=5->notebook>=6.4.10->great_expectations) (0.1.2)\n",
      "Requirement already satisfied: defusedxml in c:\\users\\dell\\anaconda3\\lib\\site-packages (from nbconvert>=5->notebook>=6.4.10->great_expectations) (0.7.1)\n",
      "Requirement already satisfied: pandocfilters>=1.4.1 in c:\\users\\dell\\anaconda3\\lib\\site-packages (from nbconvert>=5->notebook>=6.4.10->great_expectations) (1.5.0)\n",
      "Requirement already satisfied: bleach in c:\\users\\dell\\anaconda3\\lib\\site-packages (from nbconvert>=5->notebook>=6.4.10->great_expectations) (4.1.0)\n",
      "Requirement already satisfied: nbclient<0.6.0,>=0.5.0 in c:\\users\\dell\\anaconda3\\lib\\site-packages (from nbconvert>=5->notebook>=6.4.10->great_expectations) (0.5.13)\n",
      "Requirement already satisfied: testpath in c:\\users\\dell\\anaconda3\\lib\\site-packages (from nbconvert>=5->notebook>=6.4.10->great_expectations) (0.6.0)\n",
      "Requirement already satisfied: beautifulsoup4 in c:\\users\\dell\\anaconda3\\lib\\site-packages (from nbconvert>=5->notebook>=6.4.10->great_expectations) (4.11.1)\n",
      "Requirement already satisfied: wcwidth in c:\\users\\dell\\anaconda3\\lib\\site-packages (from prompt-toolkit!=3.0.0,!=3.0.1,<3.1.0,>=2.0.0->Ipython>=7.16.3->great_expectations) (0.2.5)\n",
      "Requirement already satisfied: pywinpty>=1.1.0 in c:\\users\\dell\\anaconda3\\lib\\site-packages (from terminado>=0.8.3->notebook>=6.4.10->great_expectations) (2.0.2)\n",
      "Requirement already satisfied: argon2-cffi-bindings in c:\\users\\dell\\anaconda3\\lib\\site-packages (from argon2-cffi->notebook>=6.4.10->great_expectations) (21.2.0)\n",
      "Requirement already satisfied: soupsieve>1.2 in c:\\users\\dell\\anaconda3\\lib\\site-packages (from beautifulsoup4->nbconvert>=5->notebook>=6.4.10->great_expectations) (2.3.1)\n",
      "Requirement already satisfied: webencodings in c:\\users\\dell\\anaconda3\\lib\\site-packages (from bleach->nbconvert>=5->notebook>=6.4.10->great_expectations) (0.5.1)\n",
      "Installing collected packages: makefun, tzdata, ruamel.yaml.clib, pydantic, jsonpointer, tzlocal, ruamel.yaml, marshmallow, jsonpatch, altair, great_expectations\n",
      "Successfully installed altair-4.2.2 great_expectations-0.17.0 jsonpatch-1.32 jsonpointer-2.3 makefun-1.15.1 marshmallow-3.19.0 pydantic-1.10.9 ruamel.yaml-0.17.17 ruamel.yaml.clib-0.2.7 tzdata-2023.3 tzlocal-5.0.1\n"
     ]
    }
   ],
   "source": [
    "!pip install numpy\n",
    "!pip install pandas\n",
    "!pip install great_expectations"
   ]
  },
  {
   "cell_type": "code",
   "execution_count": 2,
   "id": "dd4b4653",
   "metadata": {},
   "outputs": [],
   "source": [
    "import __future__\n",
    "import great_expectations as ge\n",
    "import pandas as pd\n",
    "import numpy as np"
   ]
  },
  {
   "cell_type": "code",
   "execution_count": 3,
   "id": "6acbbd66",
   "metadata": {},
   "outputs": [],
   "source": [
    "from great_expectations.cli.datasource import sanitize_yaml_and_save_datasource,check_if_datasource_name_exists"
   ]
  },
  {
   "cell_type": "code",
   "execution_count": 4,
   "id": "c188eae3",
   "metadata": {},
   "outputs": [
    {
     "ename": "ConfigNotFoundError",
     "evalue": "Error: No great_expectations directory was found here!\n    - Please check that you are in the correct directory or have specified the correct directory.\n    - If you have never run Great Expectations in this project, please run `great_expectations init` to get started.\n",
     "output_type": "error",
     "traceback": [
      "\u001b[1;31m---------------------------------------------------------------------------\u001b[0m",
      "\u001b[1;31mConfigNotFoundError\u001b[0m                       Traceback (most recent call last)",
      "\u001b[1;32m~\\AppData\\Local\\Temp\\ipykernel_10108\\1575539711.py\u001b[0m in \u001b[0;36m<module>\u001b[1;34m\u001b[0m\n\u001b[0;32m      1\u001b[0m \u001b[1;31m# Create a data context\u001b[0m\u001b[1;33m\u001b[0m\u001b[1;33m\u001b[0m\u001b[0m\n\u001b[1;32m----> 2\u001b[1;33m \u001b[0mcontext\u001b[0m \u001b[1;33m=\u001b[0m \u001b[0mge\u001b[0m\u001b[1;33m.\u001b[0m\u001b[0mdata_context\u001b[0m\u001b[1;33m.\u001b[0m\u001b[0mDataContext\u001b[0m\u001b[1;33m(\u001b[0m\u001b[1;33m)\u001b[0m\u001b[1;33m\u001b[0m\u001b[1;33m\u001b[0m\u001b[0m\n\u001b[0m",
      "\u001b[1;32m~\\anaconda3\\lib\\site-packages\\great_expectations\\data_context\\data_context\\data_context.py\u001b[0m in \u001b[0;36mDataContext\u001b[1;34m(context_root_dir, runtime_environment, cloud_mode, cloud_base_url, cloud_access_token, cloud_organization_id, ge_cloud_mode, ge_cloud_base_url, ge_cloud_access_token, ge_cloud_organization_id)\u001b[0m\n\u001b[0;32m    154\u001b[0m     )\n\u001b[0;32m    155\u001b[0m \u001b[1;33m\u001b[0m\u001b[0m\n\u001b[1;32m--> 156\u001b[1;33m     context_root_directory = _init_context_root_directory(\n\u001b[0m\u001b[0;32m    157\u001b[0m         \u001b[0mcloud_mode\u001b[0m\u001b[1;33m=\u001b[0m\u001b[0mcloud_mode\u001b[0m\u001b[1;33m,\u001b[0m\u001b[1;33m\u001b[0m\u001b[1;33m\u001b[0m\u001b[0m\n\u001b[0;32m    158\u001b[0m         \u001b[0mcontext_root_dir\u001b[0m\u001b[1;33m=\u001b[0m\u001b[0mcontext_root_dir\u001b[0m\u001b[1;33m,\u001b[0m\u001b[1;33m\u001b[0m\u001b[1;33m\u001b[0m\u001b[0m\n",
      "\u001b[1;32m~\\anaconda3\\lib\\site-packages\\great_expectations\\data_context\\data_context\\data_context.py\u001b[0m in \u001b[0;36m_init_context_root_directory\u001b[1;34m(cloud_mode, context_root_dir)\u001b[0m\n\u001b[0;32m    235\u001b[0m     \u001b[1;32melse\u001b[0m\u001b[1;33m:\u001b[0m\u001b[1;33m\u001b[0m\u001b[1;33m\u001b[0m\u001b[0m\n\u001b[0;32m    236\u001b[0m         context_root_dir = (\n\u001b[1;32m--> 237\u001b[1;33m             \u001b[0mSerializableDataContext\u001b[0m\u001b[1;33m.\u001b[0m\u001b[0mfind_context_root_dir\u001b[0m\u001b[1;33m(\u001b[0m\u001b[1;33m)\u001b[0m\u001b[1;33m\u001b[0m\u001b[1;33m\u001b[0m\u001b[0m\n\u001b[0m\u001b[0;32m    238\u001b[0m             \u001b[1;32mif\u001b[0m \u001b[0mcontext_root_dir\u001b[0m \u001b[1;32mis\u001b[0m \u001b[1;32mNone\u001b[0m\u001b[1;33m\u001b[0m\u001b[1;33m\u001b[0m\u001b[0m\n\u001b[0;32m    239\u001b[0m             \u001b[1;32melse\u001b[0m \u001b[0mcontext_root_dir\u001b[0m\u001b[1;33m\u001b[0m\u001b[1;33m\u001b[0m\u001b[0m\n",
      "\u001b[1;32m~\\anaconda3\\lib\\site-packages\\great_expectations\\data_context\\data_context\\serializable_data_context.py\u001b[0m in \u001b[0;36mfind_context_root_dir\u001b[1;34m(cls)\u001b[0m\n\u001b[0;32m    347\u001b[0m \u001b[1;33m\u001b[0m\u001b[0m\n\u001b[0;32m    348\u001b[0m         \u001b[1;32mif\u001b[0m \u001b[0mresult\u001b[0m \u001b[1;32mis\u001b[0m \u001b[1;32mNone\u001b[0m\u001b[1;33m:\u001b[0m\u001b[1;33m\u001b[0m\u001b[1;33m\u001b[0m\u001b[0m\n\u001b[1;32m--> 349\u001b[1;33m             \u001b[1;32mraise\u001b[0m \u001b[0mgx_exceptions\u001b[0m\u001b[1;33m.\u001b[0m\u001b[0mConfigNotFoundError\u001b[0m\u001b[1;33m(\u001b[0m\u001b[1;33m)\u001b[0m\u001b[1;33m\u001b[0m\u001b[1;33m\u001b[0m\u001b[0m\n\u001b[0m\u001b[0;32m    350\u001b[0m \u001b[1;33m\u001b[0m\u001b[0m\n\u001b[0;32m    351\u001b[0m         \u001b[0mlogger\u001b[0m\u001b[1;33m.\u001b[0m\u001b[0mdebug\u001b[0m\u001b[1;33m(\u001b[0m\u001b[1;34mf\"Using project config: {yml_path}\"\u001b[0m\u001b[1;33m)\u001b[0m\u001b[1;33m\u001b[0m\u001b[1;33m\u001b[0m\u001b[0m\n",
      "\u001b[1;31mConfigNotFoundError\u001b[0m: Error: No great_expectations directory was found here!\n    - Please check that you are in the correct directory or have specified the correct directory.\n    - If you have never run Great Expectations in this project, please run `great_expectations init` to get started.\n"
     ]
    }
   ],
   "source": [
    "# Create a data context\n",
    "context = ge.data_context.DataContext()"
   ]
  },
  {
   "cell_type": "code",
   "execution_count": null,
   "id": "5c95f952",
   "metadata": {},
   "outputs": [],
   "source": [
    "data=pd.read_csv(\"ADANIENT.NS.csv\")\n",
    "data"
   ]
  },
  {
   "cell_type": "markdown",
   "id": "54d5535b",
   "metadata": {},
   "source": [
    "Date---- Date of event happen\n",
    "\n",
    "Open---- Opening value of a stock\n",
    "\n",
    "High---- Highest value of a stock\n",
    "\n",
    "Low----- Lowest value of a stock\n",
    "\n",
    "Close--- Closing value of a stock\n",
    "\n",
    "Adj Close--- Adjecent Closing value of a stock\n",
    "\n",
    "Volumn--- Number of stocks "
   ]
  },
  {
   "cell_type": "code",
   "execution_count": null,
   "id": "10e4f8c8",
   "metadata": {},
   "outputs": [],
   "source": [
    "data.columns\n"
   ]
  },
  {
   "cell_type": "code",
   "execution_count": null,
   "id": "508db9cd",
   "metadata": {},
   "outputs": [],
   "source": [
    "data1=ge.read_csv(\"ADANIENT.NS.csv\")"
   ]
  },
  {
   "cell_type": "code",
   "execution_count": null,
   "id": "25fa8ea8",
   "metadata": {},
   "outputs": [],
   "source": [
    "data1"
   ]
  },
  {
   "cell_type": "code",
   "execution_count": null,
   "id": "de74907c",
   "metadata": {},
   "outputs": [],
   "source": [
    "data1.describe()"
   ]
  },
  {
   "cell_type": "code",
   "execution_count": null,
   "id": "086d9daf",
   "metadata": {},
   "outputs": [],
   "source": [
    "data1.Open.nsmallest()"
   ]
  },
  {
   "cell_type": "code",
   "execution_count": null,
   "id": "13467fbc",
   "metadata": {},
   "outputs": [],
   "source": [
    "data1.expect_column_values_to_be_between(column=\"High\", min_value=33.402447, max_value=4190.000000)"
   ]
  },
  {
   "cell_type": "code",
   "execution_count": null,
   "id": "1cd468c7",
   "metadata": {},
   "outputs": [],
   "source": [
    "data1.expect_column_values_to_be_between(column=\"Low\", min_value=31.713251, max_value=4066.399902)"
   ]
  },
  {
   "cell_type": "code",
   "execution_count": null,
   "id": "edd4eebb",
   "metadata": {},
   "outputs": [],
   "source": [
    "data1.expect_column_values_to_be_between(column=\"Close\", min_value=32.012947, max_value=4165.299805)"
   ]
  },
  {
   "cell_type": "markdown",
   "id": "932e8a0e",
   "metadata": {},
   "source": [
    "In above example we consider that expected closing price of stocks of a product to be between 32.012947 to 4165.299805"
   ]
  },
  {
   "cell_type": "markdown",
   "id": "8be33933",
   "metadata": {},
   "source": [
    "as we can see success is true we can consider the Closing price of stocks will lie between  32.012947 to 4165.299805."
   ]
  },
  {
   "cell_type": "code",
   "execution_count": null,
   "id": "fcb4df89",
   "metadata": {},
   "outputs": [],
   "source": [
    "data1.expect_column_values_to_be_between(column=\"Open\", min_value=32.149174, max_value=4175.000000)"
   ]
  },
  {
   "cell_type": "markdown",
   "id": "2c030913",
   "metadata": {},
   "source": [
    "In above example we consider that expected Opening price of stocks of a product to be lie between 32.149174 to 4175.000000"
   ]
  },
  {
   "cell_type": "markdown",
   "id": "b8ab93ff",
   "metadata": {},
   "source": [
    "as we can see success is true,It means we can consider the Opening price of stocks will lie between  32.149174 to 4175.000000."
   ]
  },
  {
   "cell_type": "code",
   "execution_count": null,
   "id": "ad5d12ce",
   "metadata": {},
   "outputs": [],
   "source": [
    "data1.expect_column_values_to_be_increasing(column=\"Volume\")"
   ]
  },
  {
   "cell_type": "markdown",
   "id": "742bc3b2",
   "metadata": {},
   "source": [
    "expect_column_values_to_be_increasing ----is use for checking the values will always be keep on increasing or not"
   ]
  },
  {
   "cell_type": "markdown",
   "id": "1eb2b97f",
   "metadata": {},
   "source": [
    "we expect that the values in the column Volumn should be increasing day by day."
   ]
  },
  {
   "cell_type": "markdown",
   "id": "96ad8a9d",
   "metadata": {},
   "source": [
    "as we can the success of the column Volumn is False which means not in every case the volumn of stocks will increase."
   ]
  },
  {
   "cell_type": "code",
   "execution_count": null,
   "id": "fc31ccda",
   "metadata": {},
   "outputs": [],
   "source": [
    "data1.expect_column_most_common_value_to_be_in_set(column=\"Open\",value_set=[32,33,34])"
   ]
  },
  {
   "cell_type": "markdown",
   "id": "ee26eab9",
   "metadata": {},
   "source": [
    "A suite is typically used to define a set of expectations for a specific dataset, which you can then validate against to ensure the data meets the expected criteria."
   ]
  },
  {
   "cell_type": "code",
   "execution_count": null,
   "id": "96cb2e87",
   "metadata": {},
   "outputs": [],
   "source": [
    "suite = ge.dataset.PandasDataset(data1)\n",
    "suite"
   ]
  },
  {
   "cell_type": "code",
   "execution_count": null,
   "id": "ca066000",
   "metadata": {},
   "outputs": [],
   "source": [
    "suite.expect_column_to_exist(\"High\")\n",
    "suite.expect_column_to_exist(\"Low\")\n",
    "suite.expect_column_values_to_be_between(\"High\", min_value=33.402447, max_value=4190.000000)"
   ]
  },
  {
   "cell_type": "code",
   "execution_count": null,
   "id": "23c7d50e",
   "metadata": {},
   "outputs": [],
   "source": [
    "results = suite.validate()\n",
    "results"
   ]
  },
  {
   "cell_type": "code",
   "execution_count": null,
   "id": "e5464481",
   "metadata": {},
   "outputs": [],
   "source": [
    "suitex = ge.dataset.PandasDataset(data1).expect_column_values_to_not_be_null(\"Adj Close\")\n",
    "suitex"
   ]
  },
  {
   "cell_type": "code",
   "execution_count": null,
   "id": "5d0ef4cd",
   "metadata": {},
   "outputs": [],
   "source": [
    "data1.expect_column_unique_value_count_to_be_between(column='Adj Close')\n"
   ]
  },
  {
   "cell_type": "code",
   "execution_count": null,
   "id": "5a5853dc",
   "metadata": {},
   "outputs": [],
   "source": [
    "data1.expectation_suite_name"
   ]
  },
  {
   "cell_type": "code",
   "execution_count": null,
   "id": "d9033fae",
   "metadata": {},
   "outputs": [],
   "source": [
    "from great_expectations.dataset import PandasDataset\n",
    "\n"
   ]
  },
  {
   "cell_type": "code",
   "execution_count": null,
   "id": "9cbf403f",
   "metadata": {},
   "outputs": [],
   "source": [
    "from great_expectations.datasource.types import batch_kwargs"
   ]
  },
  {
   "cell_type": "code",
   "execution_count": null,
   "id": "56aa7598",
   "metadata": {},
   "outputs": [],
   "source": [
    "batch_kwargs = {\n",
    "    \"datasource\": \"data1\",\n",
    "    \"data_connector\": \"my_data_connector\",\n",
    "    \"data_asset_name\": \"my_data_asset\",\n",
    "}"
   ]
  },
  {
   "cell_type": "code",
   "execution_count": null,
   "id": "9b918919",
   "metadata": {},
   "outputs": [],
   "source": [
    "checkpoint_config = {\n",
    "    \"name\": \"my_checkpoint\",\n",
    "    \"class_name\": \"Checkpoint\",\n",
    "    \"validations\": {\n",
    "        \"expect_table_row_count_to_be_between\": {\"min_value\": 31.713251, \"max_value\": 4190.000000},\n",
    "        \n",
    "        \"expect_column_values_to_not_be_null\": {\"column\": [\"High\", \"Low\"]}\n",
    "    },\n",
    "    \"store_backend\": {\n",
    "        \"class_name\": \"TupleFilesystemStoreBackend\",\n",
    "        \"base_directory\": \"/path/to/checkpoints/\"\n",
    "    }\n",
    "}"
   ]
  },
  {
   "cell_type": "code",
   "execution_count": null,
   "id": "f2525728",
   "metadata": {},
   "outputs": [],
   "source": [
    "ge.checkpoint(\"my_checkpoint\",batch_kwargs=batch_kwargs,checkpoint_config=checkpoint_config)"
   ]
  },
  {
   "cell_type": "code",
   "execution_count": null,
   "id": "215c7ae0",
   "metadata": {},
   "outputs": [],
   "source": [
    "from statsmodels.tsa.arima.model import ARIMA\n",
    "import matplotlib.pyplot as plt"
   ]
  },
  {
   "cell_type": "code",
   "execution_count": null,
   "id": "c1b0a6b2",
   "metadata": {},
   "outputs": [],
   "source": [
    "data1.plot(x='Open', y='Close')\n",
    "plt.xlabel('Open')\n",
    "plt.ylabel('Close')\n",
    "plt.show()"
   ]
  },
  {
   "cell_type": "code",
   "execution_count": null,
   "id": "17354ae9",
   "metadata": {},
   "outputs": [],
   "source": []
  }
 ],
 "metadata": {
  "kernelspec": {
   "display_name": "Python 3 (ipykernel)",
   "language": "python",
   "name": "python3"
  },
  "language_info": {
   "codemirror_mode": {
    "name": "ipython",
    "version": 3
   },
   "file_extension": ".py",
   "mimetype": "text/x-python",
   "name": "python",
   "nbconvert_exporter": "python",
   "pygments_lexer": "ipython3",
   "version": "3.9.13"
  }
 },
 "nbformat": 4,
 "nbformat_minor": 5
}
