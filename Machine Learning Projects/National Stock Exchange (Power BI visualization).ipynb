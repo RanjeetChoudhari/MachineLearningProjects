{
 "cells": [
  {
   "cell_type": "markdown",
   "id": "13003e1a",
   "metadata": {},
   "source": [
    "# Import Libraries"
   ]
  },
  {
   "cell_type": "code",
   "execution_count": 1,
   "id": "9284b130",
   "metadata": {},
   "outputs": [],
   "source": [
    "import pandas as pd\n",
    "import numpy as np\n",
    "import matplotlib.pyplot as plt\n",
    "import seaborn as sns\n",
    "from statsmodels.tsa.arima.model import ARIMA\n",
    "from statsmodels.tsa.filters import hp_filter"
   ]
  },
  {
   "cell_type": "code",
   "execution_count": 2,
   "id": "9a344c14",
   "metadata": {},
   "outputs": [
    {
     "name": "stdout",
     "output_type": "stream",
     "text": [
      "Requirement already satisfied: prophet in /usr/local/lib64/python3.9/site-packages (1.1.2)\n",
      "Requirement already satisfied: cmdstanpy>=1.0.4 in /usr/local/lib/python3.9/site-packages (from prophet) (1.1.0)\n",
      "Requirement already satisfied: numpy>=1.15.4 in /usr/local/lib64/python3.9/site-packages (from prophet) (1.23.5)\n",
      "Requirement already satisfied: matplotlib>=2.0.0 in /usr/local/lib64/python3.9/site-packages (from prophet) (3.7.1)\n",
      "Requirement already satisfied: pandas>=1.0.4 in /usr/local/lib64/python3.9/site-packages (from prophet) (1.5.3)\n",
      "Requirement already satisfied: LunarCalendar>=0.0.9 in /usr/local/lib/python3.9/site-packages (from prophet) (0.0.9)\n",
      "Requirement already satisfied: convertdate>=2.1.2 in /usr/local/lib/python3.9/site-packages (from prophet) (2.4.0)\n",
      "Requirement already satisfied: holidays>=0.14.2 in /usr/local/lib/python3.9/site-packages (from prophet) (0.17.2)\n",
      "Requirement already satisfied: python-dateutil>=2.8.0 in /usr/local/lib/python3.9/site-packages (from prophet) (2.8.2)\n",
      "Requirement already satisfied: tqdm>=4.36.1 in /usr/local/lib/python3.9/site-packages (from prophet) (4.65.0)\n",
      "Requirement already satisfied: pymeeus<=1,>=0.3.13 in /usr/local/lib/python3.9/site-packages (from convertdate>=2.1.2->prophet) (0.5.12)\n",
      "Requirement already satisfied: hijri-converter in /usr/local/lib/python3.9/site-packages (from holidays>=0.14.2->prophet) (2.2.4)\n",
      "Requirement already satisfied: korean-lunar-calendar in /usr/local/lib/python3.9/site-packages (from holidays>=0.14.2->prophet) (0.3.1)\n",
      "Requirement already satisfied: ephem>=3.7.5.3 in /usr/local/lib64/python3.9/site-packages (from LunarCalendar>=0.0.9->prophet) (4.1.4)\n",
      "Requirement already satisfied: pytz in /usr/local/lib/python3.9/site-packages (from LunarCalendar>=0.0.9->prophet) (2022.7.1)\n",
      "Requirement already satisfied: contourpy>=1.0.1 in /usr/local/lib64/python3.9/site-packages (from matplotlib>=2.0.0->prophet) (1.0.7)\n",
      "Requirement already satisfied: cycler>=0.10 in /usr/local/lib/python3.9/site-packages (from matplotlib>=2.0.0->prophet) (0.11.0)\n",
      "Requirement already satisfied: fonttools>=4.22.0 in /usr/local/lib/python3.9/site-packages (from matplotlib>=2.0.0->prophet) (4.39.0)\n",
      "Requirement already satisfied: kiwisolver>=1.0.1 in /usr/local/lib64/python3.9/site-packages (from matplotlib>=2.0.0->prophet) (1.4.4)\n",
      "Requirement already satisfied: packaging>=20.0 in /usr/local/lib/python3.9/site-packages (from matplotlib>=2.0.0->prophet) (21.3)\n",
      "Requirement already satisfied: pillow>=6.2.0 in /usr/local/lib64/python3.9/site-packages (from matplotlib>=2.0.0->prophet) (9.4.0)\n",
      "Requirement already satisfied: pyparsing>=2.3.1 in /usr/local/lib/python3.9/site-packages (from matplotlib>=2.0.0->prophet) (3.0.9)\n",
      "Requirement already satisfied: importlib-resources>=3.2.0 in /usr/local/lib/python3.9/site-packages (from matplotlib>=2.0.0->prophet) (5.12.0)\n",
      "Requirement already satisfied: six>=1.5 in /usr/local/lib/python3.9/site-packages (from python-dateutil>=2.8.0->prophet) (1.16.0)\n",
      "Requirement already satisfied: zipp>=3.1.0 in /usr/local/lib/python3.9/site-packages (from importlib-resources>=3.2.0->matplotlib>=2.0.0->prophet) (3.15.0)\n",
      "\u001b[33mWARNING: Running pip as the 'root' user can result in broken permissions and conflicting behaviour with the system package manager. It is recommended to use a virtual environment instead: https://pip.pypa.io/warnings/venv\u001b[0m\u001b[33m\n",
      "\u001b[0m"
     ]
    }
   ],
   "source": [
    "!pip install prophet"
   ]
  },
  {
   "cell_type": "code",
   "execution_count": 3,
   "id": "c8febc88",
   "metadata": {},
   "outputs": [],
   "source": [
    "from prophet import Prophet"
   ]
  },
  {
   "cell_type": "code",
   "execution_count": 4,
   "id": "c7ea9d73",
   "metadata": {},
   "outputs": [
    {
     "name": "stdout",
     "output_type": "stream",
     "text": [
      "Requirement already satisfied: powerbiclient in /usr/local/lib/python3.9/site-packages (3.0.0)\n",
      "Requirement already satisfied: ipywidgets>=7.0.0 in /usr/local/lib/python3.9/site-packages (from powerbiclient) (8.0.4)\n",
      "Requirement already satisfied: jupyter-ui-poll>=0.1.2 in /usr/local/lib/python3.9/site-packages (from powerbiclient) (0.2.2)\n",
      "Requirement already satisfied: msal>=1.8.0 in /usr/local/lib/python3.9/site-packages (from powerbiclient) (1.22.0)\n",
      "Requirement already satisfied: requests>=2.25.1 in /usr/local/lib/python3.9/site-packages (from powerbiclient) (2.28.2)\n",
      "Requirement already satisfied: pandas in /usr/local/lib64/python3.9/site-packages (from powerbiclient) (1.5.3)\n",
      "Requirement already satisfied: ipykernel>=4.5.1 in /usr/local/lib/python3.9/site-packages (from ipywidgets>=7.0.0->powerbiclient) (6.21.3)\n",
      "Requirement already satisfied: ipython>=6.1.0 in /usr/local/lib/python3.9/site-packages (from ipywidgets>=7.0.0->powerbiclient) (8.11.0)\n",
      "Requirement already satisfied: traitlets>=4.3.1 in /usr/local/lib/python3.9/site-packages (from ipywidgets>=7.0.0->powerbiclient) (5.9.0)\n",
      "Requirement already satisfied: widgetsnbextension~=4.0 in /usr/local/lib/python3.9/site-packages (from ipywidgets>=7.0.0->powerbiclient) (4.0.5)\n",
      "Requirement already satisfied: jupyterlab-widgets~=3.0 in /usr/local/lib/python3.9/site-packages (from ipywidgets>=7.0.0->powerbiclient) (3.0.5)\n",
      "Requirement already satisfied: PyJWT[crypto]<3,>=1.0.0 in /usr/local/lib/python3.9/site-packages (from msal>=1.8.0->powerbiclient) (2.6.0)\n",
      "Requirement already satisfied: cryptography<43,>=0.6 in /usr/local/lib64/python3.9/site-packages (from msal>=1.8.0->powerbiclient) (39.0.2)\n",
      "Requirement already satisfied: charset-normalizer<4,>=2 in /usr/local/lib64/python3.9/site-packages (from requests>=2.25.1->powerbiclient) (3.1.0)\n",
      "Requirement already satisfied: idna<4,>=2.5 in /usr/local/lib/python3.9/site-packages (from requests>=2.25.1->powerbiclient) (3.4)\n",
      "Requirement already satisfied: urllib3<1.27,>=1.21.1 in /usr/local/lib/python3.9/site-packages (from requests>=2.25.1->powerbiclient) (1.26.14)\n",
      "Requirement already satisfied: certifi>=2017.4.17 in /usr/local/lib/python3.9/site-packages (from requests>=2.25.1->powerbiclient) (2022.12.7)\n",
      "Requirement already satisfied: python-dateutil>=2.8.1 in /usr/local/lib/python3.9/site-packages (from pandas->powerbiclient) (2.8.2)\n",
      "Requirement already satisfied: pytz>=2020.1 in /usr/local/lib/python3.9/site-packages (from pandas->powerbiclient) (2022.7.1)\n",
      "Requirement already satisfied: numpy>=1.20.3 in /usr/local/lib64/python3.9/site-packages (from pandas->powerbiclient) (1.23.5)\n",
      "Requirement already satisfied: cffi>=1.12 in /usr/local/lib64/python3.9/site-packages (from cryptography<43,>=0.6->msal>=1.8.0->powerbiclient) (1.15.1)\n",
      "Requirement already satisfied: comm>=0.1.1 in /usr/local/lib/python3.9/site-packages (from ipykernel>=4.5.1->ipywidgets>=7.0.0->powerbiclient) (0.1.2)\n",
      "Requirement already satisfied: debugpy>=1.6.5 in /usr/local/lib64/python3.9/site-packages (from ipykernel>=4.5.1->ipywidgets>=7.0.0->powerbiclient) (1.6.6)\n",
      "Requirement already satisfied: jupyter-client>=6.1.12 in /usr/local/lib/python3.9/site-packages (from ipykernel>=4.5.1->ipywidgets>=7.0.0->powerbiclient) (8.0.3)\n",
      "Requirement already satisfied: jupyter-core!=5.0.*,>=4.12 in /usr/local/lib/python3.9/site-packages (from ipykernel>=4.5.1->ipywidgets>=7.0.0->powerbiclient) (5.2.0)\n",
      "Requirement already satisfied: matplotlib-inline>=0.1 in /usr/local/lib/python3.9/site-packages (from ipykernel>=4.5.1->ipywidgets>=7.0.0->powerbiclient) (0.1.6)\n",
      "Requirement already satisfied: nest-asyncio in /usr/local/lib/python3.9/site-packages (from ipykernel>=4.5.1->ipywidgets>=7.0.0->powerbiclient) (1.5.6)\n",
      "Requirement already satisfied: packaging in /usr/local/lib/python3.9/site-packages (from ipykernel>=4.5.1->ipywidgets>=7.0.0->powerbiclient) (21.3)\n",
      "Requirement already satisfied: psutil in /usr/local/lib64/python3.9/site-packages (from ipykernel>=4.5.1->ipywidgets>=7.0.0->powerbiclient) (5.9.4)\n",
      "Requirement already satisfied: pyzmq>=20 in /usr/local/lib64/python3.9/site-packages (from ipykernel>=4.5.1->ipywidgets>=7.0.0->powerbiclient) (25.0.0)\n",
      "Requirement already satisfied: tornado>=6.1 in /usr/local/lib64/python3.9/site-packages (from ipykernel>=4.5.1->ipywidgets>=7.0.0->powerbiclient) (6.2)\n",
      "Requirement already satisfied: backcall in /usr/local/lib/python3.9/site-packages (from ipython>=6.1.0->ipywidgets>=7.0.0->powerbiclient) (0.2.0)\n",
      "Requirement already satisfied: decorator in /usr/local/lib/python3.9/site-packages (from ipython>=6.1.0->ipywidgets>=7.0.0->powerbiclient) (5.1.1)\n",
      "Requirement already satisfied: jedi>=0.16 in /usr/local/lib/python3.9/site-packages (from ipython>=6.1.0->ipywidgets>=7.0.0->powerbiclient) (0.18.2)\n",
      "Requirement already satisfied: pickleshare in /usr/local/lib/python3.9/site-packages (from ipython>=6.1.0->ipywidgets>=7.0.0->powerbiclient) (0.7.5)\n",
      "Requirement already satisfied: prompt-toolkit!=3.0.37,<3.1.0,>=3.0.30 in /usr/local/lib/python3.9/site-packages (from ipython>=6.1.0->ipywidgets>=7.0.0->powerbiclient) (3.0.38)\n",
      "Requirement already satisfied: pygments>=2.4.0 in /usr/local/lib/python3.9/site-packages (from ipython>=6.1.0->ipywidgets>=7.0.0->powerbiclient) (2.14.0)\n",
      "Requirement already satisfied: stack-data in /usr/local/lib/python3.9/site-packages (from ipython>=6.1.0->ipywidgets>=7.0.0->powerbiclient) (0.6.2)\n",
      "Requirement already satisfied: pexpect>4.3 in /usr/local/lib/python3.9/site-packages (from ipython>=6.1.0->ipywidgets>=7.0.0->powerbiclient) (4.8.0)\n",
      "Requirement already satisfied: six>=1.5 in /usr/local/lib/python3.9/site-packages (from python-dateutil>=2.8.1->pandas->powerbiclient) (1.16.0)\n",
      "Requirement already satisfied: pycparser in /usr/local/lib/python3.9/site-packages (from cffi>=1.12->cryptography<43,>=0.6->msal>=1.8.0->powerbiclient) (2.21)\n",
      "Requirement already satisfied: parso<0.9.0,>=0.8.0 in /usr/local/lib/python3.9/site-packages (from jedi>=0.16->ipython>=6.1.0->ipywidgets>=7.0.0->powerbiclient) (0.8.3)\n",
      "Requirement already satisfied: importlib-metadata>=4.8.3 in /usr/local/lib/python3.9/site-packages (from jupyter-client>=6.1.12->ipykernel>=4.5.1->ipywidgets>=7.0.0->powerbiclient) (5.2.0)\n",
      "Requirement already satisfied: platformdirs>=2.5 in /usr/local/lib/python3.9/site-packages (from jupyter-core!=5.0.*,>=4.12->ipykernel>=4.5.1->ipywidgets>=7.0.0->powerbiclient) (3.5.0)\n",
      "Requirement already satisfied: ptyprocess>=0.5 in /usr/local/lib/python3.9/site-packages (from pexpect>4.3->ipython>=6.1.0->ipywidgets>=7.0.0->powerbiclient) (0.7.0)\n",
      "Requirement already satisfied: wcwidth in /usr/local/lib/python3.9/site-packages (from prompt-toolkit!=3.0.37,<3.1.0,>=3.0.30->ipython>=6.1.0->ipywidgets>=7.0.0->powerbiclient) (0.2.6)\n",
      "Requirement already satisfied: pyparsing!=3.0.5,>=2.0.2 in /usr/local/lib/python3.9/site-packages (from packaging->ipykernel>=4.5.1->ipywidgets>=7.0.0->powerbiclient) (3.0.9)\n",
      "Requirement already satisfied: executing>=1.2.0 in /usr/local/lib/python3.9/site-packages (from stack-data->ipython>=6.1.0->ipywidgets>=7.0.0->powerbiclient) (1.2.0)\n",
      "Requirement already satisfied: asttokens>=2.1.0 in /usr/local/lib/python3.9/site-packages (from stack-data->ipython>=6.1.0->ipywidgets>=7.0.0->powerbiclient) (2.2.1)\n",
      "Requirement already satisfied: pure-eval in /usr/local/lib/python3.9/site-packages (from stack-data->ipython>=6.1.0->ipywidgets>=7.0.0->powerbiclient) (0.2.2)\n",
      "Requirement already satisfied: zipp>=0.5 in /usr/local/lib/python3.9/site-packages (from importlib-metadata>=4.8.3->jupyter-client>=6.1.12->ipykernel>=4.5.1->ipywidgets>=7.0.0->powerbiclient) (3.15.0)\n",
      "\u001b[33mWARNING: Running pip as the 'root' user can result in broken permissions and conflicting behaviour with the system package manager. It is recommended to use a virtual environment instead: https://pip.pypa.io/warnings/venv\u001b[0m\u001b[33m\n",
      "\u001b[0m"
     ]
    }
   ],
   "source": [
    "!pip install powerbiclient"
   ]
  },
  {
   "cell_type": "markdown",
   "id": "b8714ec3",
   "metadata": {},
   "source": [
    "# Import PowerBI Library"
   ]
  },
  {
   "cell_type": "code",
   "execution_count": 5,
   "id": "74c3373b",
   "metadata": {},
   "outputs": [],
   "source": [
    "import powerbiclient"
   ]
  },
  {
   "cell_type": "code",
   "execution_count": 6,
   "id": "9292233b",
   "metadata": {},
   "outputs": [
    {
     "name": "stdout",
     "output_type": "stream",
     "text": [
      "3.0.0\n"
     ]
    }
   ],
   "source": [
    "print(powerbiclient.__version__)"
   ]
  },
  {
   "cell_type": "code",
   "execution_count": 7,
   "id": "37d99221",
   "metadata": {},
   "outputs": [],
   "source": [
    "from powerbiclient import QuickVisualize, get_dataset_config, Report"
   ]
  },
  {
   "cell_type": "code",
   "execution_count": 8,
   "id": "221a315f",
   "metadata": {},
   "outputs": [
    {
     "name": "stdout",
     "output_type": "stream",
     "text": [
      "Requirement already satisfied: Django in /usr/local/lib/python3.9/site-packages (4.2.1)\n",
      "Requirement already satisfied: asgiref<4,>=3.6.0 in /usr/local/lib/python3.9/site-packages (from Django) (3.6.0)\n",
      "Requirement already satisfied: sqlparse>=0.3.1 in /usr/local/lib/python3.9/site-packages (from Django) (0.4.3)\n",
      "\u001b[33mWARNING: Running pip as the 'root' user can result in broken permissions and conflicting behaviour with the system package manager. It is recommended to use a virtual environment instead: https://pip.pypa.io/warnings/venv\u001b[0m\u001b[33m\n",
      "\u001b[0m"
     ]
    }
   ],
   "source": [
    "!pip install Django"
   ]
  },
  {
   "cell_type": "code",
   "execution_count": 9,
   "id": "c8e310b8",
   "metadata": {},
   "outputs": [],
   "source": [
    "from django.contrib import auth"
   ]
  },
  {
   "cell_type": "markdown",
   "id": "32014d54",
   "metadata": {},
   "source": [
    "# Import PowerBI Authentication for Sign In"
   ]
  },
  {
   "cell_type": "code",
   "execution_count": 10,
   "id": "a8746de8",
   "metadata": {},
   "outputs": [],
   "source": [
    "from powerbiclient.authentication import DeviceCodeLoginAuthentication"
   ]
  },
  {
   "cell_type": "code",
   "execution_count": 13,
   "id": "b3f69f1b",
   "metadata": {},
   "outputs": [
    {
     "name": "stdout",
     "output_type": "stream",
     "text": [
      "Performing device flow authentication. Please follow the instructions below.\n",
      "To sign in, use a web browser to open the page https://microsoft.com/devicelogin and enter the code HHAR8VVAZ to authenticate.\n",
      "\n",
      "Device flow authentication successfully completed.\n",
      "You are now logged in .\n",
      "\n",
      "The result should be passed only to trusted code in your notebook.\n"
     ]
    }
   ],
   "source": [
    "device_auth = DeviceCodeLoginAuthentication()\n",
    "#click on the link and enter the code "
   ]
  },
  {
   "cell_type": "markdown",
   "id": "6d2f6e8f",
   "metadata": {},
   "source": [
    "# Load the Dataset"
   ]
  },
  {
   "cell_type": "code",
   "execution_count": 14,
   "id": "91854428",
   "metadata": {},
   "outputs": [
    {
     "data": {
      "text/html": [
       "<div>\n",
       "<style scoped>\n",
       "    .dataframe tbody tr th:only-of-type {\n",
       "        vertical-align: middle;\n",
       "    }\n",
       "\n",
       "    .dataframe tbody tr th {\n",
       "        vertical-align: top;\n",
       "    }\n",
       "\n",
       "    .dataframe thead th {\n",
       "        text-align: right;\n",
       "    }\n",
       "</style>\n",
       "<table border=\"1\" class=\"dataframe\">\n",
       "  <thead>\n",
       "    <tr style=\"text-align: right;\">\n",
       "      <th></th>\n",
       "      <th>DATE</th>\n",
       "      <th>SYMBOL</th>\n",
       "      <th>SERIES</th>\n",
       "      <th>PREV CLOSE</th>\n",
       "      <th>OPEN</th>\n",
       "      <th>HIGH</th>\n",
       "      <th>LOW</th>\n",
       "      <th>LAST</th>\n",
       "      <th>CLOSE</th>\n",
       "      <th>VWAP</th>\n",
       "      <th>VOLUME</th>\n",
       "      <th>TURNOVER</th>\n",
       "      <th>TRADES</th>\n",
       "      <th>DELIVERABLE VOLUME</th>\n",
       "      <th>%DELIVERBLE</th>\n",
       "    </tr>\n",
       "  </thead>\n",
       "  <tbody>\n",
       "    <tr>\n",
       "      <th>0</th>\n",
       "      <td>2016-01-01</td>\n",
       "      <td>HDFC</td>\n",
       "      <td>EQ</td>\n",
       "      <td>1263.75</td>\n",
       "      <td>1261.00</td>\n",
       "      <td>1266.90</td>\n",
       "      <td>1250.65</td>\n",
       "      <td>1257.80</td>\n",
       "      <td>1258.45</td>\n",
       "      <td>1258.39</td>\n",
       "      <td>676161</td>\n",
       "      <td>8.508751e+13</td>\n",
       "      <td>13230</td>\n",
       "      <td>308262</td>\n",
       "      <td>0.4559</td>\n",
       "    </tr>\n",
       "    <tr>\n",
       "      <th>1</th>\n",
       "      <td>2016-01-04</td>\n",
       "      <td>HDFC</td>\n",
       "      <td>EQ</td>\n",
       "      <td>1258.45</td>\n",
       "      <td>1250.00</td>\n",
       "      <td>1253.90</td>\n",
       "      <td>1212.05</td>\n",
       "      <td>1217.15</td>\n",
       "      <td>1216.70</td>\n",
       "      <td>1227.55</td>\n",
       "      <td>1995329</td>\n",
       "      <td>2.449371e+14</td>\n",
       "      <td>78529</td>\n",
       "      <td>1360507</td>\n",
       "      <td>0.6818</td>\n",
       "    </tr>\n",
       "    <tr>\n",
       "      <th>2</th>\n",
       "      <td>2016-01-05</td>\n",
       "      <td>HDFC</td>\n",
       "      <td>EQ</td>\n",
       "      <td>1216.70</td>\n",
       "      <td>1229.90</td>\n",
       "      <td>1233.45</td>\n",
       "      <td>1206.50</td>\n",
       "      <td>1208.15</td>\n",
       "      <td>1209.40</td>\n",
       "      <td>1219.50</td>\n",
       "      <td>2325929</td>\n",
       "      <td>2.836464e+14</td>\n",
       "      <td>109820</td>\n",
       "      <td>1644980</td>\n",
       "      <td>0.7072</td>\n",
       "    </tr>\n",
       "    <tr>\n",
       "      <th>3</th>\n",
       "      <td>2016-01-06</td>\n",
       "      <td>HDFC</td>\n",
       "      <td>EQ</td>\n",
       "      <td>1209.40</td>\n",
       "      <td>1209.60</td>\n",
       "      <td>1220.75</td>\n",
       "      <td>1202.40</td>\n",
       "      <td>1207.55</td>\n",
       "      <td>1209.30</td>\n",
       "      <td>1210.81</td>\n",
       "      <td>2746330</td>\n",
       "      <td>3.325286e+14</td>\n",
       "      <td>96546</td>\n",
       "      <td>2001431</td>\n",
       "      <td>0.7288</td>\n",
       "    </tr>\n",
       "    <tr>\n",
       "      <th>4</th>\n",
       "      <td>2016-01-07</td>\n",
       "      <td>HDFC</td>\n",
       "      <td>EQ</td>\n",
       "      <td>1209.30</td>\n",
       "      <td>1198.85</td>\n",
       "      <td>1203.55</td>\n",
       "      <td>1175.00</td>\n",
       "      <td>1176.35</td>\n",
       "      <td>1179.45</td>\n",
       "      <td>1186.35</td>\n",
       "      <td>1780298</td>\n",
       "      <td>2.112055e+14</td>\n",
       "      <td>60151</td>\n",
       "      <td>1172564</td>\n",
       "      <td>0.6586</td>\n",
       "    </tr>\n",
       "    <tr>\n",
       "      <th>...</th>\n",
       "      <td>...</td>\n",
       "      <td>...</td>\n",
       "      <td>...</td>\n",
       "      <td>...</td>\n",
       "      <td>...</td>\n",
       "      <td>...</td>\n",
       "      <td>...</td>\n",
       "      <td>...</td>\n",
       "      <td>...</td>\n",
       "      <td>...</td>\n",
       "      <td>...</td>\n",
       "      <td>...</td>\n",
       "      <td>...</td>\n",
       "      <td>...</td>\n",
       "      <td>...</td>\n",
       "    </tr>\n",
       "    <tr>\n",
       "      <th>41226</th>\n",
       "      <td>2021-05-24</td>\n",
       "      <td>DHANBANK</td>\n",
       "      <td>EQ</td>\n",
       "      <td>14.30</td>\n",
       "      <td>14.40</td>\n",
       "      <td>14.70</td>\n",
       "      <td>14.35</td>\n",
       "      <td>14.55</td>\n",
       "      <td>14.55</td>\n",
       "      <td>14.52</td>\n",
       "      <td>1020364</td>\n",
       "      <td>1.481694e+12</td>\n",
       "      <td>1323</td>\n",
       "      <td>745223</td>\n",
       "      <td>0.7304</td>\n",
       "    </tr>\n",
       "    <tr>\n",
       "      <th>41227</th>\n",
       "      <td>2021-05-25</td>\n",
       "      <td>DHANBANK</td>\n",
       "      <td>EQ</td>\n",
       "      <td>14.55</td>\n",
       "      <td>14.60</td>\n",
       "      <td>17.45</td>\n",
       "      <td>14.40</td>\n",
       "      <td>16.55</td>\n",
       "      <td>16.60</td>\n",
       "      <td>16.67</td>\n",
       "      <td>16401581</td>\n",
       "      <td>2.734927e+13</td>\n",
       "      <td>15379</td>\n",
       "      <td>4777890</td>\n",
       "      <td>0.2913</td>\n",
       "    </tr>\n",
       "    <tr>\n",
       "      <th>41228</th>\n",
       "      <td>2021-05-26</td>\n",
       "      <td>DHANBANK</td>\n",
       "      <td>EQ</td>\n",
       "      <td>16.60</td>\n",
       "      <td>16.75</td>\n",
       "      <td>16.75</td>\n",
       "      <td>15.80</td>\n",
       "      <td>15.95</td>\n",
       "      <td>15.95</td>\n",
       "      <td>16.06</td>\n",
       "      <td>2267386</td>\n",
       "      <td>3.642436e+12</td>\n",
       "      <td>4812</td>\n",
       "      <td>1223263</td>\n",
       "      <td>0.5395</td>\n",
       "    </tr>\n",
       "    <tr>\n",
       "      <th>41229</th>\n",
       "      <td>2021-05-27</td>\n",
       "      <td>DHANBANK</td>\n",
       "      <td>EQ</td>\n",
       "      <td>15.95</td>\n",
       "      <td>15.95</td>\n",
       "      <td>16.10</td>\n",
       "      <td>15.35</td>\n",
       "      <td>15.75</td>\n",
       "      <td>15.60</td>\n",
       "      <td>15.74</td>\n",
       "      <td>1411225</td>\n",
       "      <td>2.221628e+12</td>\n",
       "      <td>2820</td>\n",
       "      <td>904246</td>\n",
       "      <td>0.6408</td>\n",
       "    </tr>\n",
       "    <tr>\n",
       "      <th>41230</th>\n",
       "      <td>2021-05-28</td>\n",
       "      <td>DHANBANK</td>\n",
       "      <td>EQ</td>\n",
       "      <td>15.60</td>\n",
       "      <td>15.60</td>\n",
       "      <td>15.80</td>\n",
       "      <td>14.90</td>\n",
       "      <td>15.20</td>\n",
       "      <td>15.00</td>\n",
       "      <td>15.25</td>\n",
       "      <td>1624736</td>\n",
       "      <td>2.477889e+12</td>\n",
       "      <td>2795</td>\n",
       "      <td>1097778</td>\n",
       "      <td>0.6757</td>\n",
       "    </tr>\n",
       "  </tbody>\n",
       "</table>\n",
       "<p>41231 rows × 15 columns</p>\n",
       "</div>"
      ],
      "text/plain": [
       "             DATE    SYMBOL SERIES  PREV CLOSE     OPEN     HIGH      LOW  \\\n",
       "0      2016-01-01      HDFC     EQ     1263.75  1261.00  1266.90  1250.65   \n",
       "1      2016-01-04      HDFC     EQ     1258.45  1250.00  1253.90  1212.05   \n",
       "2      2016-01-05      HDFC     EQ     1216.70  1229.90  1233.45  1206.50   \n",
       "3      2016-01-06      HDFC     EQ     1209.40  1209.60  1220.75  1202.40   \n",
       "4      2016-01-07      HDFC     EQ     1209.30  1198.85  1203.55  1175.00   \n",
       "...           ...       ...    ...         ...      ...      ...      ...   \n",
       "41226  2021-05-24  DHANBANK     EQ       14.30    14.40    14.70    14.35   \n",
       "41227  2021-05-25  DHANBANK     EQ       14.55    14.60    17.45    14.40   \n",
       "41228  2021-05-26  DHANBANK     EQ       16.60    16.75    16.75    15.80   \n",
       "41229  2021-05-27  DHANBANK     EQ       15.95    15.95    16.10    15.35   \n",
       "41230  2021-05-28  DHANBANK     EQ       15.60    15.60    15.80    14.90   \n",
       "\n",
       "          LAST    CLOSE     VWAP    VOLUME      TURNOVER  TRADES  \\\n",
       "0      1257.80  1258.45  1258.39    676161  8.508751e+13   13230   \n",
       "1      1217.15  1216.70  1227.55   1995329  2.449371e+14   78529   \n",
       "2      1208.15  1209.40  1219.50   2325929  2.836464e+14  109820   \n",
       "3      1207.55  1209.30  1210.81   2746330  3.325286e+14   96546   \n",
       "4      1176.35  1179.45  1186.35   1780298  2.112055e+14   60151   \n",
       "...        ...      ...      ...       ...           ...     ...   \n",
       "41226    14.55    14.55    14.52   1020364  1.481694e+12    1323   \n",
       "41227    16.55    16.60    16.67  16401581  2.734927e+13   15379   \n",
       "41228    15.95    15.95    16.06   2267386  3.642436e+12    4812   \n",
       "41229    15.75    15.60    15.74   1411225  2.221628e+12    2820   \n",
       "41230    15.20    15.00    15.25   1624736  2.477889e+12    2795   \n",
       "\n",
       "       DELIVERABLE VOLUME  %DELIVERBLE  \n",
       "0                  308262       0.4559  \n",
       "1                 1360507       0.6818  \n",
       "2                 1644980       0.7072  \n",
       "3                 2001431       0.7288  \n",
       "4                 1172564       0.6586  \n",
       "...                   ...          ...  \n",
       "41226              745223       0.7304  \n",
       "41227             4777890       0.2913  \n",
       "41228             1223263       0.5395  \n",
       "41229              904246       0.6408  \n",
       "41230             1097778       0.6757  \n",
       "\n",
       "[41231 rows x 15 columns]"
      ]
     },
     "execution_count": 14,
     "metadata": {},
     "output_type": "execute_result"
    }
   ],
   "source": [
    "df=pd.read_csv(\"NSE_BANKING_SECTOR.csv\")\n",
    "df"
   ]
  },
  {
   "cell_type": "code",
   "execution_count": 15,
   "id": "2fdbecfc",
   "metadata": {},
   "outputs": [
    {
     "name": "stdout",
     "output_type": "stream",
     "text": [
      "<class 'pandas.core.frame.DataFrame'>\n",
      "RangeIndex: 41231 entries, 0 to 41230\n",
      "Data columns (total 15 columns):\n",
      " #   Column              Non-Null Count  Dtype  \n",
      "---  ------              --------------  -----  \n",
      " 0   DATE                41231 non-null  object \n",
      " 1   SYMBOL              41231 non-null  object \n",
      " 2   SERIES              41231 non-null  object \n",
      " 3   PREV CLOSE          41231 non-null  float64\n",
      " 4   OPEN                41231 non-null  float64\n",
      " 5   HIGH                41231 non-null  float64\n",
      " 6   LOW                 41231 non-null  float64\n",
      " 7   LAST                41231 non-null  float64\n",
      " 8   CLOSE               41231 non-null  float64\n",
      " 9   VWAP                41231 non-null  float64\n",
      " 10  VOLUME              41231 non-null  int64  \n",
      " 11  TURNOVER            41231 non-null  float64\n",
      " 12  TRADES              41231 non-null  int64  \n",
      " 13  DELIVERABLE VOLUME  41231 non-null  int64  \n",
      " 14  %DELIVERBLE         41231 non-null  float64\n",
      "dtypes: float64(9), int64(3), object(3)\n",
      "memory usage: 4.7+ MB\n"
     ]
    }
   ],
   "source": [
    "df.info()"
   ]
  },
  {
   "cell_type": "code",
   "execution_count": 16,
   "id": "22e576d1",
   "metadata": {},
   "outputs": [
    {
     "data": {
      "text/plain": [
       "Index(['DATE', 'SYMBOL', 'SERIES', 'PREV CLOSE', 'OPEN', 'HIGH', 'LOW', 'LAST',\n",
       "       'CLOSE', 'VWAP', 'VOLUME', 'TURNOVER', 'TRADES', 'DELIVERABLE VOLUME',\n",
       "       '%DELIVERBLE'],\n",
       "      dtype='object')"
      ]
     },
     "execution_count": 16,
     "metadata": {},
     "output_type": "execute_result"
    }
   ],
   "source": [
    "df.columns"
   ]
  },
  {
   "cell_type": "code",
   "execution_count": 17,
   "id": "b039be76",
   "metadata": {},
   "outputs": [
    {
     "data": {
      "text/html": [
       "<div>\n",
       "<style scoped>\n",
       "    .dataframe tbody tr th:only-of-type {\n",
       "        vertical-align: middle;\n",
       "    }\n",
       "\n",
       "    .dataframe tbody tr th {\n",
       "        vertical-align: top;\n",
       "    }\n",
       "\n",
       "    .dataframe thead th {\n",
       "        text-align: right;\n",
       "    }\n",
       "</style>\n",
       "<table border=\"1\" class=\"dataframe\">\n",
       "  <thead>\n",
       "    <tr style=\"text-align: right;\">\n",
       "      <th></th>\n",
       "      <th>PREV CLOSE</th>\n",
       "      <th>OPEN</th>\n",
       "      <th>HIGH</th>\n",
       "      <th>LOW</th>\n",
       "      <th>LAST</th>\n",
       "      <th>CLOSE</th>\n",
       "      <th>VWAP</th>\n",
       "      <th>VOLUME</th>\n",
       "      <th>TURNOVER</th>\n",
       "      <th>TRADES</th>\n",
       "      <th>DELIVERABLE VOLUME</th>\n",
       "      <th>%DELIVERBLE</th>\n",
       "    </tr>\n",
       "  </thead>\n",
       "  <tbody>\n",
       "    <tr>\n",
       "      <th>count</th>\n",
       "      <td>41231.000000</td>\n",
       "      <td>41231.000000</td>\n",
       "      <td>41231.000000</td>\n",
       "      <td>41231.000000</td>\n",
       "      <td>41231.000000</td>\n",
       "      <td>41231.000000</td>\n",
       "      <td>41231.000000</td>\n",
       "      <td>4.123100e+04</td>\n",
       "      <td>4.123100e+04</td>\n",
       "      <td>4.123100e+04</td>\n",
       "      <td>4.123100e+04</td>\n",
       "      <td>41231.000000</td>\n",
       "    </tr>\n",
       "    <tr>\n",
       "      <th>mean</th>\n",
       "      <td>291.962753</td>\n",
       "      <td>292.350947</td>\n",
       "      <td>296.518484</td>\n",
       "      <td>287.723448</td>\n",
       "      <td>291.993606</td>\n",
       "      <td>292.013088</td>\n",
       "      <td>292.160731</td>\n",
       "      <td>1.042650e+07</td>\n",
       "      <td>1.953615e+14</td>\n",
       "      <td>5.221812e+04</td>\n",
       "      <td>3.026935e+06</td>\n",
       "      <td>0.415416</td>\n",
       "    </tr>\n",
       "    <tr>\n",
       "      <th>std</th>\n",
       "      <td>452.541028</td>\n",
       "      <td>452.967892</td>\n",
       "      <td>458.224757</td>\n",
       "      <td>447.069432</td>\n",
       "      <td>452.717343</td>\n",
       "      <td>452.732064</td>\n",
       "      <td>452.655314</td>\n",
       "      <td>2.953972e+07</td>\n",
       "      <td>4.038675e+14</td>\n",
       "      <td>8.851021e+04</td>\n",
       "      <td>9.387528e+06</td>\n",
       "      <td>0.196122</td>\n",
       "    </tr>\n",
       "    <tr>\n",
       "      <th>min</th>\n",
       "      <td>4.900000</td>\n",
       "      <td>4.950000</td>\n",
       "      <td>4.950000</td>\n",
       "      <td>4.800000</td>\n",
       "      <td>4.900000</td>\n",
       "      <td>4.900000</td>\n",
       "      <td>4.910000</td>\n",
       "      <td>9.194000e+03</td>\n",
       "      <td>1.681628e+10</td>\n",
       "      <td>9.400000e+01</td>\n",
       "      <td>7.392000e+03</td>\n",
       "      <td>0.020100</td>\n",
       "    </tr>\n",
       "    <tr>\n",
       "      <th>25%</th>\n",
       "      <td>37.150000</td>\n",
       "      <td>37.300000</td>\n",
       "      <td>37.975000</td>\n",
       "      <td>36.450000</td>\n",
       "      <td>37.100000</td>\n",
       "      <td>37.100000</td>\n",
       "      <td>37.230000</td>\n",
       "      <td>8.216770e+05</td>\n",
       "      <td>5.730684e+12</td>\n",
       "      <td>5.398000e+03</td>\n",
       "      <td>3.457530e+05</td>\n",
       "      <td>0.252700</td>\n",
       "    </tr>\n",
       "    <tr>\n",
       "      <th>50%</th>\n",
       "      <td>101.900000</td>\n",
       "      <td>102.000000</td>\n",
       "      <td>103.800000</td>\n",
       "      <td>99.800000</td>\n",
       "      <td>101.750000</td>\n",
       "      <td>101.850000</td>\n",
       "      <td>102.020000</td>\n",
       "      <td>2.777826e+06</td>\n",
       "      <td>4.025961e+13</td>\n",
       "      <td>1.928000e+04</td>\n",
       "      <td>9.584380e+05</td>\n",
       "      <td>0.414700</td>\n",
       "    </tr>\n",
       "    <tr>\n",
       "      <th>75%</th>\n",
       "      <td>305.675000</td>\n",
       "      <td>306.125000</td>\n",
       "      <td>311.400000</td>\n",
       "      <td>301.050000</td>\n",
       "      <td>305.775000</td>\n",
       "      <td>305.675000</td>\n",
       "      <td>306.280000</td>\n",
       "      <td>9.769572e+06</td>\n",
       "      <td>2.041632e+14</td>\n",
       "      <td>6.297200e+04</td>\n",
       "      <td>2.928749e+06</td>\n",
       "      <td>0.563200</td>\n",
       "    </tr>\n",
       "    <tr>\n",
       "      <th>max</th>\n",
       "      <td>2860.450000</td>\n",
       "      <td>2871.000000</td>\n",
       "      <td>2896.000000</td>\n",
       "      <td>2838.000000</td>\n",
       "      <td>2861.550000</td>\n",
       "      <td>2860.450000</td>\n",
       "      <td>2867.920000</td>\n",
       "      <td>1.264918e+09</td>\n",
       "      <td>1.498222e+16</td>\n",
       "      <td>1.788274e+06</td>\n",
       "      <td>7.870864e+08</td>\n",
       "      <td>1.000000</td>\n",
       "    </tr>\n",
       "  </tbody>\n",
       "</table>\n",
       "</div>"
      ],
      "text/plain": [
       "         PREV CLOSE          OPEN          HIGH           LOW          LAST  \\\n",
       "count  41231.000000  41231.000000  41231.000000  41231.000000  41231.000000   \n",
       "mean     291.962753    292.350947    296.518484    287.723448    291.993606   \n",
       "std      452.541028    452.967892    458.224757    447.069432    452.717343   \n",
       "min        4.900000      4.950000      4.950000      4.800000      4.900000   \n",
       "25%       37.150000     37.300000     37.975000     36.450000     37.100000   \n",
       "50%      101.900000    102.000000    103.800000     99.800000    101.750000   \n",
       "75%      305.675000    306.125000    311.400000    301.050000    305.775000   \n",
       "max     2860.450000   2871.000000   2896.000000   2838.000000   2861.550000   \n",
       "\n",
       "              CLOSE          VWAP        VOLUME      TURNOVER        TRADES  \\\n",
       "count  41231.000000  41231.000000  4.123100e+04  4.123100e+04  4.123100e+04   \n",
       "mean     292.013088    292.160731  1.042650e+07  1.953615e+14  5.221812e+04   \n",
       "std      452.732064    452.655314  2.953972e+07  4.038675e+14  8.851021e+04   \n",
       "min        4.900000      4.910000  9.194000e+03  1.681628e+10  9.400000e+01   \n",
       "25%       37.100000     37.230000  8.216770e+05  5.730684e+12  5.398000e+03   \n",
       "50%      101.850000    102.020000  2.777826e+06  4.025961e+13  1.928000e+04   \n",
       "75%      305.675000    306.280000  9.769572e+06  2.041632e+14  6.297200e+04   \n",
       "max     2860.450000   2867.920000  1.264918e+09  1.498222e+16  1.788274e+06   \n",
       "\n",
       "       DELIVERABLE VOLUME   %DELIVERBLE  \n",
       "count        4.123100e+04  41231.000000  \n",
       "mean         3.026935e+06      0.415416  \n",
       "std          9.387528e+06      0.196122  \n",
       "min          7.392000e+03      0.020100  \n",
       "25%          3.457530e+05      0.252700  \n",
       "50%          9.584380e+05      0.414700  \n",
       "75%          2.928749e+06      0.563200  \n",
       "max          7.870864e+08      1.000000  "
      ]
     },
     "execution_count": 17,
     "metadata": {},
     "output_type": "execute_result"
    }
   ],
   "source": [
    "df.describe()"
   ]
  },
  {
   "cell_type": "code",
   "execution_count": 18,
   "id": "f29b421a",
   "metadata": {},
   "outputs": [],
   "source": [
    "PBI_visualize = QuickVisualize(get_dataset_config(df), auth=device_auth)"
   ]
  },
  {
   "cell_type": "code",
   "execution_count": 19,
   "id": "e3bcc3a1",
   "metadata": {},
   "outputs": [
    {
     "name": "stdout",
     "output_type": "stream",
     "text": [
      "QuickVisualize()\n"
     ]
    }
   ],
   "source": [
    "print(PBI_visualize)"
   ]
  },
  {
   "cell_type": "code",
   "execution_count": 20,
   "id": "0208c317",
   "metadata": {},
   "outputs": [],
   "source": [
    "dataset_config = get_dataset_config(df)"
   ]
  },
  {
   "cell_type": "markdown",
   "id": "992a573d",
   "metadata": {},
   "source": [
    "# Create a QuickVisualize object and pass in the dataset configuration and authentication parameters"
   ]
  },
  {
   "cell_type": "code",
   "execution_count": 21,
   "id": "fcca6afa",
   "metadata": {},
   "outputs": [],
   "source": [
    "visualize = QuickVisualize(dataset_config, auth=device_auth)"
   ]
  },
  {
   "cell_type": "code",
   "execution_count": 22,
   "id": "0429a88b",
   "metadata": {},
   "outputs": [
    {
     "name": "stdout",
     "output_type": "stream",
     "text": [
      "QuickVisualize()\n"
     ]
    }
   ],
   "source": [
    "print(PBI_visualize)"
   ]
  },
  {
   "cell_type": "code",
   "execution_count": 29,
   "id": "bdc3e8c1",
   "metadata": {},
   "outputs": [],
   "source": [
    "dataset_config = get_dataset_config(df)"
   ]
  },
  {
   "cell_type": "code",
   "execution_count": 30,
   "id": "e3157066",
   "metadata": {},
   "outputs": [],
   "source": [
    "visualize = QuickVisualize(dataset_config, auth=device_auth)"
   ]
  },
  {
   "cell_type": "markdown",
   "id": "d5667f00",
   "metadata": {},
   "source": [
    "# PowerBI visualization"
   ]
  },
  {
   "cell_type": "code",
   "execution_count": 31,
   "id": "8f6a2d8c",
   "metadata": {},
   "outputs": [
    {
     "data": {
      "application/vnd.jupyter.widget-view+json": {
       "model_id": "b54722dc87b440df8de03d612014e019",
       "version_major": 2,
       "version_minor": 0
      },
      "text/plain": [
       "QuickVisualize()"
      ]
     },
     "execution_count": 31,
     "metadata": {},
     "output_type": "execute_result"
    }
   ],
   "source": [
    "visualize"
   ]
  },
  {
   "cell_type": "code",
   "execution_count": 26,
   "id": "bbd194ec",
   "metadata": {},
   "outputs": [
    {
     "data": {
      "image/png": "[encoded data removed]",
      "text/plain": [
       "<Figure size 1000x500 with 1 Axes>"
      ]
     },
     "metadata": {},
     "output_type": "display_data"
    }
   ],
   "source": [
    "plt.figure(figsize=(10,5))\n",
    "df['CLOSE'].plot()\n",
    "plt.xlabel('TIME')\n",
    "plt.ylabel('Infosys Stock Price')\n",
    "plt.grid()"
   ]
  },
  {
   "cell_type": "code",
   "execution_count": 32,
   "id": "dc7b2508",
   "metadata": {},
   "outputs": [
    {
     "data": {
      "text/plain": [
       "<Axes: xlabel='Lag', ylabel='Autocorrelation'>"
      ]
     },
     "execution_count": 32,
     "metadata": {},
     "output_type": "execute_result"
    },
    {
     "data": {
      "image/png": "[encoded data removed]",
      "text/plain": [
       "<Figure size 1000x500 with 1 Axes>"
      ]
     },
     "metadata": {},
     "output_type": "display_data"
    }
   ],
   "source": [
    "from pandas.plotting import autocorrelation_plot\n",
    "\n",
    "plt.figure(figsize=(10,5))\n",
    "autocorrelation_plot(df['CLOSE'])"
   ]
  },
  {
   "cell_type": "code",
   "execution_count": 33,
   "id": "82c177a4",
   "metadata": {},
   "outputs": [
    {
     "data": {
      "image/png": "[encoded data removed]",
      "text/plain": [
       "<Figure size 640x480 with 1 Axes>"
      ]
     },
     "metadata": {},
     "output_type": "display_data"
    }
   ],
   "source": [
    "sample_stock = df.iloc[:20,:] # First 20 months stocks Prices details only to show clearly\n",
    "\n",
    "plt.plot(sample_stock['HIGH'],label='Highest (No Marker)') # default attributes\n",
    "plt.plot(sample_stock['LOW'],label='Lowest',ls='dotted',color='green',lw=2,marker='*') \n",
    "plt.plot(sample_stock['CLOSE'],label='Closed (No Line)',linestyle='none',marker='o',color='m',markersize=7)\n",
    "\n",
    "plt.xlabel('Month',size='large')\n",
    "plt.ylabel('Value',size='large')\n",
    "plt.xticks(rotation=60)\n",
    "plt.title('Monthly Share Price Details',size='x-large',color='maroon')\n",
    "\n",
    "plt.legend()\n",
    "plt.show()"
   ]
  },
  {
   "cell_type": "code",
   "execution_count": null,
   "id": "0fcc2fd7",
   "metadata": {},
   "outputs": [],
   "source": []
  }
 ],
 "metadata": {
  "kernelspec": {
   "display_name": "Python 3 (ipykernel)",
   "language": "python",
   "name": "python3"
  },
  "language_info": {
   "codemirror_mode": {
    "name": "ipython",
    "version": 3
   },
   "file_extension": ".py",
   "mimetype": "text/x-python",
   "name": "python",
   "nbconvert_exporter": "python",
   "pygments_lexer": "ipython3",
   "version": "3.9.16"
  }
 },
 "nbformat": 4,
 "nbformat_minor": 5
}
