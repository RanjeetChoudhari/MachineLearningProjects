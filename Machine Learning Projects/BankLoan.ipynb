{
 "cells": [
  {
   "cell_type": "code",
   "execution_count": 1,
   "id": "ef542c7a",
   "metadata": {},
   "outputs": [],
   "source": [
    "import trino\n",
    "import pandas as pd\n",
    "import numpy as np\n",
    "import matplotlib.pyplot as plt\n",
    "import seaborn as sns"
   ]
  },
  {
   "cell_type": "code",
   "execution_count": 2,
   "id": "f16be14b",
   "metadata": {},
   "outputs": [],
   "source": [
    "from sklearn.metrics import mean_squared_error\n",
    "from sklearn.metrics import r2_score\n",
    "from sklearn.model_selection import train_test_split\n",
    "from sklearn.linear_model import LinearRegression\n",
    "from sklearn.linear_model import LogisticRegression\n",
    "from sklearn.metrics import confusion_matrix\n",
    "from sklearn.neighbors import KNeighborsRegressor\n",
    "from sklearn.metrics import mean_squared_error"
   ]
  },
  {
   "cell_type": "code",
   "execution_count": 3,
   "id": "a1d6a3ed",
   "metadata": {},
   "outputs": [
    {
     "data": {
      "text/plain": [
       "[['bankchurners'],\n",
       " ['bankloan'],\n",
       " ['diabetes'],\n",
       " ['german_credit_data'],\n",
       " ['gld_price_data'],\n",
       " ['heart'],\n",
       " ['insurance'],\n",
       " ['mobile'],\n",
       " ['predictive'],\n",
       " ['salary'],\n",
       " ['shipping'],\n",
       " ['shop_customer'],\n",
       " ['tesla'],\n",
       " ['walmart_sales']]"
      ]
     },
     "execution_count": 3,
     "metadata": {},
     "output_type": "execute_result"
    }
   ],
   "source": [
    "conn = trino.dbapi.connect(host='192.168.1.71',port=8083,user='trino',catalog='hive', schema=\"data\") \n",
    "cur = conn.cursor() \n",
    "cur.execute('show tables') \n",
    "i= cur.fetchall() \n",
    "i "
   ]
  },
  {
   "cell_type": "code",
   "execution_count": 4,
   "id": "eecb92d1",
   "metadata": {},
   "outputs": [
    {
     "data": {
      "text/plain": [
       "[[1, 25, 1, 49, 91107, 4, 1.6, 1, 0, 0, 1, 0, 0, 0],\n",
       " [2, 45, 19, 34, 90089, 3, 1.5, 1, 0, 0, 1, 0, 0, 0],\n",
       " [3, 39, 15, 11, 94720, 1, 1.0, 1, 0, 0, 0, 0, 0, 0],\n",
       " [4, 35, 9, 100, 94112, 1, 2.7, 2, 0, 0, 0, 0, 0, 0],\n",
       " [5, 35, 8, 45, 91330, 4, 1.0, 2, 0, 0, 0, 0, 0, 1],\n",
       " [6, 37, 13, 29, 92121, 4, 0.4, 2, 155, 0, 0, 0, 1, 0],\n",
       " [7, 53, 27, 72, 91711, 2, 1.5, 2, 0, 0, 0, 0, 1, 0],\n",
       " [8, 50, 24, 22, 93943, 1, 0.3, 3, 0, 0, 0, 0, 0, 1],\n",
       " [9, 35, 10, 81, 90089, 3, 0.6, 2, 104, 0, 0, 0, 1, 0],\n",
       " [10, 34, 9, 180, 93023, 1, 8.9, 3, 0, 1, 0, 0, 0, 0],\n",
       " [11, 65, 39, 105, 94710, 4, 2.4, 3, 0, 0, 0, 0, 0, 0],\n",
       " [12, 29, 5, 45, 90277, 3, 0.1, 2, 0, 0, 0, 0, 1, 0],\n",
       " [13, 48, 23, 114, 93106, 2, 3.8, 3, 0, 0, 1, 0, 0, 0],\n",
       " [14, 59, 32, 40, 94920, 4, 2.5, 2, 0, 0, 0, 0, 1, 0],\n",
       " [15, 67, 41, 112, 91741, 1, 2.0, 1, 0, 0, 1, 0, 0, 0],\n",
       " [16, 60, 30, 22, 95054, 1, 1.5, 3, 0, 0, 0, 0, 1, 1],\n",
       " [17, 38, 14, 130, 95010, 4, 4.7, 3, 134, 1, 0, 0, 0, 0],\n",
       " [18, 42, 18, 81, 94305, 4, 2.4, 1, 0, 0, 0, 0, 0, 0],\n",
       " [19, 46, 21, 193, 91604, 2, 8.1, 3, 0, 1, 0, 0, 0, 0],\n",
       " [20, 55, 28, 21, 94720, 1, 0.5, 2, 0, 0, 1, 0, 0, 1],\n",
       " [21, 56, 31, 25, 94015, 4, 0.9, 2, 111, 0, 0, 0, 1, 0],\n",
       " [22, 57, 27, 63, 90095, 3, 2.0, 3, 0, 0, 0, 0, 1, 0],\n",
       " [23, 29, 5, 62, 90277, 1, 1.2, 1, 260, 0, 0, 0, 1, 0],\n",
       " [24, 44, 18, 43, 91320, 2, 0.7, 1, 163, 0, 1, 0, 0, 0],\n",
       " [25, 36, 11, 152, 95521, 2, 3.9, 1, 159, 0, 0, 0, 0, 1],\n",
       " [26, 43, 19, 29, 94305, 3, 0.5, 1, 97, 0, 0, 0, 1, 0],\n",
       " [27, 40, 16, 83, 95064, 4, 0.2, 3, 0, 0, 0, 0, 0, 0],\n",
       " [28, 46, 20, 158, 90064, 1, 2.4, 1, 0, 0, 0, 0, 1, 1],\n",
       " [29, 56, 30, 48, 94539, 1, 2.2, 3, 0, 0, 0, 0, 1, 1],\n",
       " [30, 38, 13, 119, 94104, 1, 3.3, 2, 0, 1, 0, 1, 1, 1],\n",
       " [31, 59, 35, 35, 93106, 1, 1.2, 3, 122, 0, 0, 0, 1, 0],\n",
       " [32, 40, 16, 29, 94117, 1, 2.0, 2, 0, 0, 0, 0, 1, 0],\n",
       " [33, 53, 28, 41, 94801, 2, 0.6, 3, 193, 0, 0, 0, 0, 0],\n",
       " [34, 30, 6, 18, 91330, 3, 0.9, 3, 0, 0, 0, 0, 0, 0],\n",
       " [35, 31, 5, 50, 94035, 4, 1.8, 3, 0, 0, 0, 0, 1, 0],\n",
       " [36, 48, 24, 81, 92647, 3, 0.7, 1, 0, 0, 0, 0, 0, 0],\n",
       " [37, 59, 35, 121, 94720, 1, 2.9, 1, 0, 0, 0, 0, 0, 1],\n",
       " [38, 51, 25, 71, 95814, 1, 1.4, 3, 198, 0, 0, 0, 0, 0],\n",
       " [39, 42, 18, 141, 94114, 3, 5.0, 3, 0, 1, 1, 1, 1, 0],\n",
       " [40, 38, 13, 80, 94115, 4, 0.7, 3, 285, 0, 0, 0, 1, 0],\n",
       " [41, 57, 32, 84, 92672, 3, 1.6, 3, 0, 0, 1, 0, 0, 0],\n",
       " [42, 34, 9, 60, 94122, 3, 2.3, 1, 0, 0, 0, 0, 0, 0],\n",
       " [43, 32, 7, 132, 90019, 4, 1.1, 2, 412, 1, 0, 0, 1, 0],\n",
       " [44, 39, 15, 45, 95616, 1, 0.7, 1, 0, 0, 0, 0, 1, 0],\n",
       " [45, 46, 20, 104, 94065, 1, 5.7, 1, 0, 0, 0, 0, 1, 1],\n",
       " [46, 57, 31, 52, 94720, 4, 2.5, 1, 0, 0, 0, 0, 0, 1],\n",
       " [47, 39, 14, 43, 95014, 3, 0.7, 2, 153, 0, 0, 0, 1, 0],\n",
       " [48, 37, 12, 194, 91380, 4, 0.2, 3, 211, 1, 1, 1, 1, 1],\n",
       " [49, 56, 26, 81, 95747, 2, 4.5, 3, 0, 0, 0, 0, 0, 1],\n",
       " [50, 40, 16, 49, 92373, 1, 1.8, 1, 0, 0, 0, 0, 0, 1],\n",
       " [51, 32, 8, 8, 92093, 4, 0.7, 2, 0, 0, 1, 0, 1, 0],\n",
       " [52, 61, 37, 131, 94720, 1, 2.9, 1, 0, 0, 0, 0, 1, 0],\n",
       " [53, 30, 6, 72, 94005, 1, 0.1, 1, 207, 0, 0, 0, 0, 0],\n",
       " [54, 50, 26, 190, 90245, 3, 2.1, 3, 240, 1, 0, 0, 1, 0],\n",
       " [55, 29, 5, 44, 95819, 1, 0.2, 3, 0, 0, 0, 0, 1, 0],\n",
       " [56, 41, 17, 139, 94022, 2, 8.0, 1, 0, 0, 0, 0, 1, 0],\n",
       " [57, 55, 30, 29, 94005, 3, 0.1, 2, 0, 0, 1, 1, 1, 0],\n",
       " [58, 56, 31, 131, 95616, 2, 1.2, 3, 0, 1, 0, 0, 0, 0],\n",
       " [59, 28, 2, 93, 94065, 2, 0.2, 1, 0, 0, 0, 0, 0, 0],\n",
       " [60, 31, 5, 188, 91320, 2, 4.5, 1, 455, 0, 0, 0, 0, 0],\n",
       " [61, 49, 24, 39, 90404, 3, 1.7, 2, 0, 0, 1, 0, 1, 0],\n",
       " [62, 47, 21, 125, 93407, 1, 5.7, 1, 112, 0, 1, 0, 0, 0],\n",
       " [63, 42, 18, 22, 90089, 1, 1.0, 1, 0, 0, 0, 0, 0, 0],\n",
       " [64, 42, 17, 32, 94523, 4, 0.0, 2, 0, 0, 0, 0, 1, 0],\n",
       " [65, 47, 23, 105, 90024, 2, 3.3, 1, 0, 0, 0, 0, 0, 0],\n",
       " [66, 59, 35, 131, 91360, 1, 3.8, 1, 0, 0, 0, 0, 1, 1],\n",
       " [67, 62, 36, 105, 95670, 2, 2.8, 1, 336, 0, 0, 0, 0, 0],\n",
       " [68, 53, 23, 45, 95123, 4, 2.0, 3, 132, 0, 1, 0, 0, 0],\n",
       " [69, 47, 21, 60, 93407, 3, 2.1, 1, 0, 0, 0, 0, 1, 1],\n",
       " [70, 53, 29, 20, 90045, 4, 0.2, 1, 0, 0, 0, 0, 1, 0],\n",
       " [71, 42, 18, 115, 91335, 1, 3.5, 1, 0, 0, 0, 0, 0, 1],\n",
       " [72, 53, 29, 69, 93907, 4, 1.0, 2, 0, 0, 0, 0, 1, 0],\n",
       " [73, 44, 20, 130, 92007, 1, 5.0, 1, 0, 0, 0, 0, 0, 1],\n",
       " [74, 41, 16, 85, 94606, 1, 4.0, 3, 0, 0, 0, 0, 1, 1],\n",
       " [75, 28, 3, 135, 94611, 2, 3.3, 1, 0, 0, 0, 0, 0, 1],\n",
       " [76, 31, 7, 135, 94901, 4, 3.8, 2, 0, 1, 0, 1, 1, 1],\n",
       " [77, 58, 32, 12, 91320, 3, 0.3, 3, 0, 0, 0, 0, 0, 0],\n",
       " [78, 46, 20, 29, 92220, 3, 0.5, 2, 0, 0, 0, 0, 0, 0],\n",
       " [79, 54, 30, 133, 93305, 2, 2.6, 3, 0, 1, 0, 0, 0, 0],\n",
       " [80, 50, 26, 19, 94720, 2, 0.4, 1, 118, 0, 0, 0, 1, 0],\n",
       " [81, 60, 36, 41, 95134, 4, 1.3, 1, 174, 0, 0, 0, 1, 1],\n",
       " [82, 47, 22, 40, 94612, 3, 2.7, 2, 0, 0, 0, 0, 1, 0],\n",
       " [83, 41, 16, 82, 92507, 1, 4.0, 3, 0, 0, 0, 0, 1, 0],\n",
       " [84, 33, 9, 50, 94305, 1, 2.4, 2, 0, 0, 0, 0, 0, 0],\n",
       " [85, 46, 22, 18, 91730, 1, 0.9, 3, 0, 0, 0, 0, 1, 0],\n",
       " [86, 27, 2, 109, 94005, 4, 1.8, 3, 0, 0, 0, 0, 0, 0],\n",
       " [87, 40, 16, 42, 94501, 4, 2.2, 2, 126, 0, 0, 0, 0, 0],\n",
       " [88, 48, 22, 78, 94305, 3, 1.1, 1, 0, 0, 0, 0, 1, 0],\n",
       " [89, 65, 41, 51, 94117, 2, 1.1, 1, 0, 0, 0, 0, 1, 0],\n",
       " [90, 25, -1, 113, 94303, 4, 2.3, 3, 0, 0, 0, 0, 0, 1],\n",
       " [91, 55, 30, 118, 90277, 4, 5.6, 2, 0, 1, 0, 0, 1, 0],\n",
       " [92, 35, 10, 29, 94105, 4, 1.1, 3, 0, 0, 0, 0, 1, 0],\n",
       " [93, 43, 19, 34, 94305, 3, 0.6, 2, 0, 0, 0, 0, 0, 0],\n",
       " [94, 60, 34, 64, 94550, 2, 1.7, 3, 236, 0, 1, 0, 1, 0],\n",
       " [95, 65, 39, 121, 92612, 1, 2.0, 1, 0, 0, 0, 0, 0, 0],\n",
       " [96, 38, 12, 48, 95617, 4, 0.2, 3, 0, 0, 0, 0, 1, 0],\n",
       " [97, 41, 15, 80, 95014, 1, 5.2, 1, 0, 0, 0, 0, 0, 0],\n",
       " [98, 54, 28, 161, 92121, 1, 2.9, 1, 0, 0, 0, 0, 1, 0],\n",
       " [99, 49, 23, 94, 92374, 1, 0.3, 1, 0, 0, 0, 0, 1, 0]]"
      ]
     },
     "execution_count": 4,
     "metadata": {},
     "output_type": "execute_result"
    }
   ],
   "source": [
    "conn = trino.dbapi.connect(host='192.168.1.71',port=8083,user='trino',catalog='hive', schema=\"data\") \n",
    "cur = conn.cursor() \n",
    "cur.execute('select * from bankloan') \n",
    "f= cur.fetchall() \n",
    "f "
   ]
  },
  {
   "cell_type": "code",
   "execution_count": 5,
   "id": "7a6403f1",
   "metadata": {},
   "outputs": [],
   "source": [
    "df=pd.DataFrame(f,columns=[i[0] for i in cur.description])"
   ]
  },
  {
   "cell_type": "code",
   "execution_count": 6,
   "id": "bb63d67c",
   "metadata": {},
   "outputs": [
    {
     "data": {
      "text/html": [
       "<div>\n",
       "<style scoped>\n",
       "    .dataframe tbody tr th:only-of-type {\n",
       "        vertical-align: middle;\n",
       "    }\n",
       "\n",
       "    .dataframe tbody tr th {\n",
       "        vertical-align: top;\n",
       "    }\n",
       "\n",
       "    .dataframe thead th {\n",
       "        text-align: right;\n",
       "    }\n",
       "</style>\n",
       "<table border=\"1\" class=\"dataframe\">\n",
       "  <thead>\n",
       "    <tr style=\"text-align: right;\">\n",
       "      <th></th>\n",
       "      <th>id</th>\n",
       "      <th>age</th>\n",
       "      <th>experience</th>\n",
       "      <th>income</th>\n",
       "      <th>zip code</th>\n",
       "      <th>family</th>\n",
       "      <th>ccavg</th>\n",
       "      <th>education</th>\n",
       "      <th>mortgage</th>\n",
       "      <th>personal loan</th>\n",
       "      <th>securities account</th>\n",
       "      <th>cd account</th>\n",
       "      <th>online</th>\n",
       "      <th>creditcard</th>\n",
       "    </tr>\n",
       "  </thead>\n",
       "  <tbody>\n",
       "    <tr>\n",
       "      <th>0</th>\n",
       "      <td>1</td>\n",
       "      <td>25</td>\n",
       "      <td>1</td>\n",
       "      <td>49</td>\n",
       "      <td>91107</td>\n",
       "      <td>4</td>\n",
       "      <td>1.6</td>\n",
       "      <td>1</td>\n",
       "      <td>0</td>\n",
       "      <td>0</td>\n",
       "      <td>1</td>\n",
       "      <td>0</td>\n",
       "      <td>0</td>\n",
       "      <td>0</td>\n",
       "    </tr>\n",
       "    <tr>\n",
       "      <th>1</th>\n",
       "      <td>2</td>\n",
       "      <td>45</td>\n",
       "      <td>19</td>\n",
       "      <td>34</td>\n",
       "      <td>90089</td>\n",
       "      <td>3</td>\n",
       "      <td>1.5</td>\n",
       "      <td>1</td>\n",
       "      <td>0</td>\n",
       "      <td>0</td>\n",
       "      <td>1</td>\n",
       "      <td>0</td>\n",
       "      <td>0</td>\n",
       "      <td>0</td>\n",
       "    </tr>\n",
       "    <tr>\n",
       "      <th>2</th>\n",
       "      <td>3</td>\n",
       "      <td>39</td>\n",
       "      <td>15</td>\n",
       "      <td>11</td>\n",
       "      <td>94720</td>\n",
       "      <td>1</td>\n",
       "      <td>1.0</td>\n",
       "      <td>1</td>\n",
       "      <td>0</td>\n",
       "      <td>0</td>\n",
       "      <td>0</td>\n",
       "      <td>0</td>\n",
       "      <td>0</td>\n",
       "      <td>0</td>\n",
       "    </tr>\n",
       "    <tr>\n",
       "      <th>3</th>\n",
       "      <td>4</td>\n",
       "      <td>35</td>\n",
       "      <td>9</td>\n",
       "      <td>100</td>\n",
       "      <td>94112</td>\n",
       "      <td>1</td>\n",
       "      <td>2.7</td>\n",
       "      <td>2</td>\n",
       "      <td>0</td>\n",
       "      <td>0</td>\n",
       "      <td>0</td>\n",
       "      <td>0</td>\n",
       "      <td>0</td>\n",
       "      <td>0</td>\n",
       "    </tr>\n",
       "    <tr>\n",
       "      <th>4</th>\n",
       "      <td>5</td>\n",
       "      <td>35</td>\n",
       "      <td>8</td>\n",
       "      <td>45</td>\n",
       "      <td>91330</td>\n",
       "      <td>4</td>\n",
       "      <td>1.0</td>\n",
       "      <td>2</td>\n",
       "      <td>0</td>\n",
       "      <td>0</td>\n",
       "      <td>0</td>\n",
       "      <td>0</td>\n",
       "      <td>0</td>\n",
       "      <td>1</td>\n",
       "    </tr>\n",
       "    <tr>\n",
       "      <th>...</th>\n",
       "      <td>...</td>\n",
       "      <td>...</td>\n",
       "      <td>...</td>\n",
       "      <td>...</td>\n",
       "      <td>...</td>\n",
       "      <td>...</td>\n",
       "      <td>...</td>\n",
       "      <td>...</td>\n",
       "      <td>...</td>\n",
       "      <td>...</td>\n",
       "      <td>...</td>\n",
       "      <td>...</td>\n",
       "      <td>...</td>\n",
       "      <td>...</td>\n",
       "    </tr>\n",
       "    <tr>\n",
       "      <th>94</th>\n",
       "      <td>95</td>\n",
       "      <td>65</td>\n",
       "      <td>39</td>\n",
       "      <td>121</td>\n",
       "      <td>92612</td>\n",
       "      <td>1</td>\n",
       "      <td>2.0</td>\n",
       "      <td>1</td>\n",
       "      <td>0</td>\n",
       "      <td>0</td>\n",
       "      <td>0</td>\n",
       "      <td>0</td>\n",
       "      <td>0</td>\n",
       "      <td>0</td>\n",
       "    </tr>\n",
       "    <tr>\n",
       "      <th>95</th>\n",
       "      <td>96</td>\n",
       "      <td>38</td>\n",
       "      <td>12</td>\n",
       "      <td>48</td>\n",
       "      <td>95617</td>\n",
       "      <td>4</td>\n",
       "      <td>0.2</td>\n",
       "      <td>3</td>\n",
       "      <td>0</td>\n",
       "      <td>0</td>\n",
       "      <td>0</td>\n",
       "      <td>0</td>\n",
       "      <td>1</td>\n",
       "      <td>0</td>\n",
       "    </tr>\n",
       "    <tr>\n",
       "      <th>96</th>\n",
       "      <td>97</td>\n",
       "      <td>41</td>\n",
       "      <td>15</td>\n",
       "      <td>80</td>\n",
       "      <td>95014</td>\n",
       "      <td>1</td>\n",
       "      <td>5.2</td>\n",
       "      <td>1</td>\n",
       "      <td>0</td>\n",
       "      <td>0</td>\n",
       "      <td>0</td>\n",
       "      <td>0</td>\n",
       "      <td>0</td>\n",
       "      <td>0</td>\n",
       "    </tr>\n",
       "    <tr>\n",
       "      <th>97</th>\n",
       "      <td>98</td>\n",
       "      <td>54</td>\n",
       "      <td>28</td>\n",
       "      <td>161</td>\n",
       "      <td>92121</td>\n",
       "      <td>1</td>\n",
       "      <td>2.9</td>\n",
       "      <td>1</td>\n",
       "      <td>0</td>\n",
       "      <td>0</td>\n",
       "      <td>0</td>\n",
       "      <td>0</td>\n",
       "      <td>1</td>\n",
       "      <td>0</td>\n",
       "    </tr>\n",
       "    <tr>\n",
       "      <th>98</th>\n",
       "      <td>99</td>\n",
       "      <td>49</td>\n",
       "      <td>23</td>\n",
       "      <td>94</td>\n",
       "      <td>92374</td>\n",
       "      <td>1</td>\n",
       "      <td>0.3</td>\n",
       "      <td>1</td>\n",
       "      <td>0</td>\n",
       "      <td>0</td>\n",
       "      <td>0</td>\n",
       "      <td>0</td>\n",
       "      <td>1</td>\n",
       "      <td>0</td>\n",
       "    </tr>\n",
       "  </tbody>\n",
       "</table>\n",
       "<p>99 rows × 14 columns</p>\n",
       "</div>"
      ],
      "text/plain": [
       "    id  age  experience  income  zip code  family  ccavg  education  mortgage  \\\n",
       "0    1   25           1      49     91107       4    1.6          1         0   \n",
       "1    2   45          19      34     90089       3    1.5          1         0   \n",
       "2    3   39          15      11     94720       1    1.0          1         0   \n",
       "3    4   35           9     100     94112       1    2.7          2         0   \n",
       "4    5   35           8      45     91330       4    1.0          2         0   \n",
       "..  ..  ...         ...     ...       ...     ...    ...        ...       ...   \n",
       "94  95   65          39     121     92612       1    2.0          1         0   \n",
       "95  96   38          12      48     95617       4    0.2          3         0   \n",
       "96  97   41          15      80     95014       1    5.2          1         0   \n",
       "97  98   54          28     161     92121       1    2.9          1         0   \n",
       "98  99   49          23      94     92374       1    0.3          1         0   \n",
       "\n",
       "    personal loan  securities account  cd account  online  creditcard  \n",
       "0               0                   1           0       0           0  \n",
       "1               0                   1           0       0           0  \n",
       "2               0                   0           0       0           0  \n",
       "3               0                   0           0       0           0  \n",
       "4               0                   0           0       0           1  \n",
       "..            ...                 ...         ...     ...         ...  \n",
       "94              0                   0           0       0           0  \n",
       "95              0                   0           0       1           0  \n",
       "96              0                   0           0       0           0  \n",
       "97              0                   0           0       1           0  \n",
       "98              0                   0           0       1           0  \n",
       "\n",
       "[99 rows x 14 columns]"
      ]
     },
     "execution_count": 6,
     "metadata": {},
     "output_type": "execute_result"
    }
   ],
   "source": [
    "df"
   ]
  },
  {
   "cell_type": "code",
   "execution_count": 7,
   "id": "01fa0ccb",
   "metadata": {},
   "outputs": [
    {
     "data": {
      "text/plain": [
       "id                    0\n",
       "age                   0\n",
       "experience            0\n",
       "income                0\n",
       "zip code              0\n",
       "family                0\n",
       "ccavg                 0\n",
       "education             0\n",
       "mortgage              0\n",
       "personal loan         0\n",
       "securities account    0\n",
       "cd account            0\n",
       "online                0\n",
       "creditcard            0\n",
       "dtype: int64"
      ]
     },
     "execution_count": 7,
     "metadata": {},
     "output_type": "execute_result"
    }
   ],
   "source": [
    "df.isnull().sum()"
   ]
  },
  {
   "cell_type": "code",
   "execution_count": 8,
   "id": "75bc014a",
   "metadata": {},
   "outputs": [
    {
     "data": {
      "text/html": [
       "<div>\n",
       "<style scoped>\n",
       "    .dataframe tbody tr th:only-of-type {\n",
       "        vertical-align: middle;\n",
       "    }\n",
       "\n",
       "    .dataframe tbody tr th {\n",
       "        vertical-align: top;\n",
       "    }\n",
       "\n",
       "    .dataframe thead th {\n",
       "        text-align: right;\n",
       "    }\n",
       "</style>\n",
       "<table border=\"1\" class=\"dataframe\">\n",
       "  <thead>\n",
       "    <tr style=\"text-align: right;\">\n",
       "      <th></th>\n",
       "      <th>id</th>\n",
       "      <th>age</th>\n",
       "      <th>experience</th>\n",
       "      <th>income</th>\n",
       "      <th>zip code</th>\n",
       "      <th>family</th>\n",
       "      <th>ccavg</th>\n",
       "      <th>education</th>\n",
       "      <th>mortgage</th>\n",
       "      <th>personal loan</th>\n",
       "      <th>securities account</th>\n",
       "      <th>cd account</th>\n",
       "      <th>online</th>\n",
       "      <th>creditcard</th>\n",
       "    </tr>\n",
       "  </thead>\n",
       "  <tbody>\n",
       "    <tr>\n",
       "      <th>count</th>\n",
       "      <td>99.000000</td>\n",
       "      <td>99.000000</td>\n",
       "      <td>99.000000</td>\n",
       "      <td>99.000000</td>\n",
       "      <td>99.000000</td>\n",
       "      <td>99.000000</td>\n",
       "      <td>99.000000</td>\n",
       "      <td>99.000000</td>\n",
       "      <td>99.000000</td>\n",
       "      <td>99.000000</td>\n",
       "      <td>99.000000</td>\n",
       "      <td>99.000000</td>\n",
       "      <td>99.000000</td>\n",
       "      <td>99.000000</td>\n",
       "    </tr>\n",
       "    <tr>\n",
       "      <th>mean</th>\n",
       "      <td>50.000000</td>\n",
       "      <td>45.080808</td>\n",
       "      <td>19.929293</td>\n",
       "      <td>78.010101</td>\n",
       "      <td>93281.929293</td>\n",
       "      <td>2.404040</td>\n",
       "      <td>2.116162</td>\n",
       "      <td>1.939394</td>\n",
       "      <td>49.424242</td>\n",
       "      <td>0.121212</td>\n",
       "      <td>0.151515</td>\n",
       "      <td>0.050505</td>\n",
       "      <td>0.505051</td>\n",
       "      <td>0.232323</td>\n",
       "    </tr>\n",
       "    <tr>\n",
       "      <th>std</th>\n",
       "      <td>28.722813</td>\n",
       "      <td>10.647101</td>\n",
       "      <td>10.331498</td>\n",
       "      <td>47.759708</td>\n",
       "      <td>1754.722033</td>\n",
       "      <td>1.219896</td>\n",
       "      <td>1.829950</td>\n",
       "      <td>0.866828</td>\n",
       "      <td>97.336476</td>\n",
       "      <td>0.328035</td>\n",
       "      <td>0.360375</td>\n",
       "      <td>0.220099</td>\n",
       "      <td>0.502519</td>\n",
       "      <td>0.424463</td>\n",
       "    </tr>\n",
       "    <tr>\n",
       "      <th>min</th>\n",
       "      <td>1.000000</td>\n",
       "      <td>25.000000</td>\n",
       "      <td>-1.000000</td>\n",
       "      <td>8.000000</td>\n",
       "      <td>90019.000000</td>\n",
       "      <td>1.000000</td>\n",
       "      <td>0.000000</td>\n",
       "      <td>1.000000</td>\n",
       "      <td>0.000000</td>\n",
       "      <td>0.000000</td>\n",
       "      <td>0.000000</td>\n",
       "      <td>0.000000</td>\n",
       "      <td>0.000000</td>\n",
       "      <td>0.000000</td>\n",
       "    </tr>\n",
       "    <tr>\n",
       "      <th>25%</th>\n",
       "      <td>25.500000</td>\n",
       "      <td>37.500000</td>\n",
       "      <td>12.500000</td>\n",
       "      <td>40.500000</td>\n",
       "      <td>91735.500000</td>\n",
       "      <td>1.000000</td>\n",
       "      <td>0.700000</td>\n",
       "      <td>1.000000</td>\n",
       "      <td>0.000000</td>\n",
       "      <td>0.000000</td>\n",
       "      <td>0.000000</td>\n",
       "      <td>0.000000</td>\n",
       "      <td>0.000000</td>\n",
       "      <td>0.000000</td>\n",
       "    </tr>\n",
       "    <tr>\n",
       "      <th>50%</th>\n",
       "      <td>50.000000</td>\n",
       "      <td>45.000000</td>\n",
       "      <td>20.000000</td>\n",
       "      <td>71.000000</td>\n",
       "      <td>94022.000000</td>\n",
       "      <td>2.000000</td>\n",
       "      <td>1.700000</td>\n",
       "      <td>2.000000</td>\n",
       "      <td>0.000000</td>\n",
       "      <td>0.000000</td>\n",
       "      <td>0.000000</td>\n",
       "      <td>0.000000</td>\n",
       "      <td>1.000000</td>\n",
       "      <td>0.000000</td>\n",
       "    </tr>\n",
       "    <tr>\n",
       "      <th>75%</th>\n",
       "      <td>74.500000</td>\n",
       "      <td>54.000000</td>\n",
       "      <td>28.000000</td>\n",
       "      <td>114.500000</td>\n",
       "      <td>94661.000000</td>\n",
       "      <td>4.000000</td>\n",
       "      <td>2.850000</td>\n",
       "      <td>3.000000</td>\n",
       "      <td>48.500000</td>\n",
       "      <td>0.000000</td>\n",
       "      <td>0.000000</td>\n",
       "      <td>0.000000</td>\n",
       "      <td>1.000000</td>\n",
       "      <td>0.000000</td>\n",
       "    </tr>\n",
       "    <tr>\n",
       "      <th>max</th>\n",
       "      <td>99.000000</td>\n",
       "      <td>67.000000</td>\n",
       "      <td>41.000000</td>\n",
       "      <td>194.000000</td>\n",
       "      <td>95819.000000</td>\n",
       "      <td>4.000000</td>\n",
       "      <td>8.900000</td>\n",
       "      <td>3.000000</td>\n",
       "      <td>455.000000</td>\n",
       "      <td>1.000000</td>\n",
       "      <td>1.000000</td>\n",
       "      <td>1.000000</td>\n",
       "      <td>1.000000</td>\n",
       "      <td>1.000000</td>\n",
       "    </tr>\n",
       "  </tbody>\n",
       "</table>\n",
       "</div>"
      ],
      "text/plain": [
       "              id        age  experience      income      zip code     family  \\\n",
       "count  99.000000  99.000000   99.000000   99.000000     99.000000  99.000000   \n",
       "mean   50.000000  45.080808   19.929293   78.010101  93281.929293   2.404040   \n",
       "std    28.722813  10.647101   10.331498   47.759708   1754.722033   1.219896   \n",
       "min     1.000000  25.000000   -1.000000    8.000000  90019.000000   1.000000   \n",
       "25%    25.500000  37.500000   12.500000   40.500000  91735.500000   1.000000   \n",
       "50%    50.000000  45.000000   20.000000   71.000000  94022.000000   2.000000   \n",
       "75%    74.500000  54.000000   28.000000  114.500000  94661.000000   4.000000   \n",
       "max    99.000000  67.000000   41.000000  194.000000  95819.000000   4.000000   \n",
       "\n",
       "           ccavg  education    mortgage  personal loan  securities account  \\\n",
       "count  99.000000  99.000000   99.000000      99.000000           99.000000   \n",
       "mean    2.116162   1.939394   49.424242       0.121212            0.151515   \n",
       "std     1.829950   0.866828   97.336476       0.328035            0.360375   \n",
       "min     0.000000   1.000000    0.000000       0.000000            0.000000   \n",
       "25%     0.700000   1.000000    0.000000       0.000000            0.000000   \n",
       "50%     1.700000   2.000000    0.000000       0.000000            0.000000   \n",
       "75%     2.850000   3.000000   48.500000       0.000000            0.000000   \n",
       "max     8.900000   3.000000  455.000000       1.000000            1.000000   \n",
       "\n",
       "       cd account     online  creditcard  \n",
       "count   99.000000  99.000000   99.000000  \n",
       "mean     0.050505   0.505051    0.232323  \n",
       "std      0.220099   0.502519    0.424463  \n",
       "min      0.000000   0.000000    0.000000  \n",
       "25%      0.000000   0.000000    0.000000  \n",
       "50%      0.000000   1.000000    0.000000  \n",
       "75%      0.000000   1.000000    0.000000  \n",
       "max      1.000000   1.000000    1.000000  "
      ]
     },
     "execution_count": 8,
     "metadata": {},
     "output_type": "execute_result"
    }
   ],
   "source": [
    "df.describe()"
   ]
  },
  {
   "cell_type": "code",
   "execution_count": 9,
   "id": "b546ee1b",
   "metadata": {},
   "outputs": [],
   "source": [
    "df.drop('mortgage', axis=1,inplace=True)"
   ]
  },
  {
   "cell_type": "code",
   "execution_count": 10,
   "id": "fd7a6cd7",
   "metadata": {},
   "outputs": [],
   "source": [
    "df.drop('zip code', axis=1,inplace=True)"
   ]
  },
  {
   "cell_type": "code",
   "execution_count": 11,
   "id": "364943e2",
   "metadata": {},
   "outputs": [
    {
     "data": {
      "text/html": [
       "<div>\n",
       "<style scoped>\n",
       "    .dataframe tbody tr th:only-of-type {\n",
       "        vertical-align: middle;\n",
       "    }\n",
       "\n",
       "    .dataframe tbody tr th {\n",
       "        vertical-align: top;\n",
       "    }\n",
       "\n",
       "    .dataframe thead th {\n",
       "        text-align: right;\n",
       "    }\n",
       "</style>\n",
       "<table border=\"1\" class=\"dataframe\">\n",
       "  <thead>\n",
       "    <tr style=\"text-align: right;\">\n",
       "      <th></th>\n",
       "      <th>id</th>\n",
       "      <th>age</th>\n",
       "      <th>experience</th>\n",
       "      <th>income</th>\n",
       "      <th>family</th>\n",
       "      <th>ccavg</th>\n",
       "      <th>education</th>\n",
       "      <th>personal loan</th>\n",
       "      <th>securities account</th>\n",
       "      <th>cd account</th>\n",
       "      <th>online</th>\n",
       "      <th>creditcard</th>\n",
       "    </tr>\n",
       "  </thead>\n",
       "  <tbody>\n",
       "    <tr>\n",
       "      <th>0</th>\n",
       "      <td>1</td>\n",
       "      <td>25</td>\n",
       "      <td>1</td>\n",
       "      <td>49</td>\n",
       "      <td>4</td>\n",
       "      <td>1.6</td>\n",
       "      <td>1</td>\n",
       "      <td>0</td>\n",
       "      <td>1</td>\n",
       "      <td>0</td>\n",
       "      <td>0</td>\n",
       "      <td>0</td>\n",
       "    </tr>\n",
       "    <tr>\n",
       "      <th>1</th>\n",
       "      <td>2</td>\n",
       "      <td>45</td>\n",
       "      <td>19</td>\n",
       "      <td>34</td>\n",
       "      <td>3</td>\n",
       "      <td>1.5</td>\n",
       "      <td>1</td>\n",
       "      <td>0</td>\n",
       "      <td>1</td>\n",
       "      <td>0</td>\n",
       "      <td>0</td>\n",
       "      <td>0</td>\n",
       "    </tr>\n",
       "    <tr>\n",
       "      <th>2</th>\n",
       "      <td>3</td>\n",
       "      <td>39</td>\n",
       "      <td>15</td>\n",
       "      <td>11</td>\n",
       "      <td>1</td>\n",
       "      <td>1.0</td>\n",
       "      <td>1</td>\n",
       "      <td>0</td>\n",
       "      <td>0</td>\n",
       "      <td>0</td>\n",
       "      <td>0</td>\n",
       "      <td>0</td>\n",
       "    </tr>\n",
       "    <tr>\n",
       "      <th>3</th>\n",
       "      <td>4</td>\n",
       "      <td>35</td>\n",
       "      <td>9</td>\n",
       "      <td>100</td>\n",
       "      <td>1</td>\n",
       "      <td>2.7</td>\n",
       "      <td>2</td>\n",
       "      <td>0</td>\n",
       "      <td>0</td>\n",
       "      <td>0</td>\n",
       "      <td>0</td>\n",
       "      <td>0</td>\n",
       "    </tr>\n",
       "    <tr>\n",
       "      <th>4</th>\n",
       "      <td>5</td>\n",
       "      <td>35</td>\n",
       "      <td>8</td>\n",
       "      <td>45</td>\n",
       "      <td>4</td>\n",
       "      <td>1.0</td>\n",
       "      <td>2</td>\n",
       "      <td>0</td>\n",
       "      <td>0</td>\n",
       "      <td>0</td>\n",
       "      <td>0</td>\n",
       "      <td>1</td>\n",
       "    </tr>\n",
       "  </tbody>\n",
       "</table>\n",
       "</div>"
      ],
      "text/plain": [
       "   id  age  experience  income  family  ccavg  education  personal loan  \\\n",
       "0   1   25           1      49       4    1.6          1              0   \n",
       "1   2   45          19      34       3    1.5          1              0   \n",
       "2   3   39          15      11       1    1.0          1              0   \n",
       "3   4   35           9     100       1    2.7          2              0   \n",
       "4   5   35           8      45       4    1.0          2              0   \n",
       "\n",
       "   securities account  cd account  online  creditcard  \n",
       "0                   1           0       0           0  \n",
       "1                   1           0       0           0  \n",
       "2                   0           0       0           0  \n",
       "3                   0           0       0           0  \n",
       "4                   0           0       0           1  "
      ]
     },
     "execution_count": 11,
     "metadata": {},
     "output_type": "execute_result"
    }
   ],
   "source": [
    "df.head()"
   ]
  },
  {
   "cell_type": "code",
   "execution_count": 12,
   "id": "0c0aea81",
   "metadata": {},
   "outputs": [
    {
     "name": "stdout",
     "output_type": "stream",
     "text": [
      "No missing values present\n"
     ]
    }
   ],
   "source": [
    "val=df.isnull().values.any()\n",
    "\n",
    "if val==True:\n",
    "    print(\"Missing values present : \", df.isnull().values.sum())\n",
    "    my_data=df.dropna()\n",
    "else:\n",
    "    print(\"No missing values present\")"
   ]
  },
  {
   "cell_type": "code",
   "execution_count": 13,
   "id": "3462cd3c",
   "metadata": {},
   "outputs": [
    {
     "data": {
      "text/html": [
       "<div>\n",
       "<style scoped>\n",
       "    .dataframe tbody tr th:only-of-type {\n",
       "        vertical-align: middle;\n",
       "    }\n",
       "\n",
       "    .dataframe tbody tr th {\n",
       "        vertical-align: top;\n",
       "    }\n",
       "\n",
       "    .dataframe thead th {\n",
       "        text-align: right;\n",
       "    }\n",
       "</style>\n",
       "<table border=\"1\" class=\"dataframe\">\n",
       "  <thead>\n",
       "    <tr style=\"text-align: right;\">\n",
       "      <th></th>\n",
       "      <th>count</th>\n",
       "      <th>mean</th>\n",
       "      <th>std</th>\n",
       "      <th>min</th>\n",
       "      <th>25%</th>\n",
       "      <th>50%</th>\n",
       "      <th>75%</th>\n",
       "      <th>max</th>\n",
       "    </tr>\n",
       "  </thead>\n",
       "  <tbody>\n",
       "    <tr>\n",
       "      <th>id</th>\n",
       "      <td>99.0</td>\n",
       "      <td>50.000000</td>\n",
       "      <td>28.722813</td>\n",
       "      <td>1.0</td>\n",
       "      <td>25.5</td>\n",
       "      <td>50.0</td>\n",
       "      <td>74.50</td>\n",
       "      <td>99.0</td>\n",
       "    </tr>\n",
       "    <tr>\n",
       "      <th>age</th>\n",
       "      <td>99.0</td>\n",
       "      <td>45.080808</td>\n",
       "      <td>10.647101</td>\n",
       "      <td>25.0</td>\n",
       "      <td>37.5</td>\n",
       "      <td>45.0</td>\n",
       "      <td>54.00</td>\n",
       "      <td>67.0</td>\n",
       "    </tr>\n",
       "    <tr>\n",
       "      <th>experience</th>\n",
       "      <td>99.0</td>\n",
       "      <td>19.929293</td>\n",
       "      <td>10.331498</td>\n",
       "      <td>-1.0</td>\n",
       "      <td>12.5</td>\n",
       "      <td>20.0</td>\n",
       "      <td>28.00</td>\n",
       "      <td>41.0</td>\n",
       "    </tr>\n",
       "    <tr>\n",
       "      <th>income</th>\n",
       "      <td>99.0</td>\n",
       "      <td>78.010101</td>\n",
       "      <td>47.759708</td>\n",
       "      <td>8.0</td>\n",
       "      <td>40.5</td>\n",
       "      <td>71.0</td>\n",
       "      <td>114.50</td>\n",
       "      <td>194.0</td>\n",
       "    </tr>\n",
       "    <tr>\n",
       "      <th>family</th>\n",
       "      <td>99.0</td>\n",
       "      <td>2.404040</td>\n",
       "      <td>1.219896</td>\n",
       "      <td>1.0</td>\n",
       "      <td>1.0</td>\n",
       "      <td>2.0</td>\n",
       "      <td>4.00</td>\n",
       "      <td>4.0</td>\n",
       "    </tr>\n",
       "    <tr>\n",
       "      <th>ccavg</th>\n",
       "      <td>99.0</td>\n",
       "      <td>2.116162</td>\n",
       "      <td>1.829950</td>\n",
       "      <td>0.0</td>\n",
       "      <td>0.7</td>\n",
       "      <td>1.7</td>\n",
       "      <td>2.85</td>\n",
       "      <td>8.9</td>\n",
       "    </tr>\n",
       "    <tr>\n",
       "      <th>education</th>\n",
       "      <td>99.0</td>\n",
       "      <td>1.939394</td>\n",
       "      <td>0.866828</td>\n",
       "      <td>1.0</td>\n",
       "      <td>1.0</td>\n",
       "      <td>2.0</td>\n",
       "      <td>3.00</td>\n",
       "      <td>3.0</td>\n",
       "    </tr>\n",
       "    <tr>\n",
       "      <th>personal loan</th>\n",
       "      <td>99.0</td>\n",
       "      <td>0.121212</td>\n",
       "      <td>0.328035</td>\n",
       "      <td>0.0</td>\n",
       "      <td>0.0</td>\n",
       "      <td>0.0</td>\n",
       "      <td>0.00</td>\n",
       "      <td>1.0</td>\n",
       "    </tr>\n",
       "    <tr>\n",
       "      <th>securities account</th>\n",
       "      <td>99.0</td>\n",
       "      <td>0.151515</td>\n",
       "      <td>0.360375</td>\n",
       "      <td>0.0</td>\n",
       "      <td>0.0</td>\n",
       "      <td>0.0</td>\n",
       "      <td>0.00</td>\n",
       "      <td>1.0</td>\n",
       "    </tr>\n",
       "    <tr>\n",
       "      <th>cd account</th>\n",
       "      <td>99.0</td>\n",
       "      <td>0.050505</td>\n",
       "      <td>0.220099</td>\n",
       "      <td>0.0</td>\n",
       "      <td>0.0</td>\n",
       "      <td>0.0</td>\n",
       "      <td>0.00</td>\n",
       "      <td>1.0</td>\n",
       "    </tr>\n",
       "    <tr>\n",
       "      <th>online</th>\n",
       "      <td>99.0</td>\n",
       "      <td>0.505051</td>\n",
       "      <td>0.502519</td>\n",
       "      <td>0.0</td>\n",
       "      <td>0.0</td>\n",
       "      <td>1.0</td>\n",
       "      <td>1.00</td>\n",
       "      <td>1.0</td>\n",
       "    </tr>\n",
       "    <tr>\n",
       "      <th>creditcard</th>\n",
       "      <td>99.0</td>\n",
       "      <td>0.232323</td>\n",
       "      <td>0.424463</td>\n",
       "      <td>0.0</td>\n",
       "      <td>0.0</td>\n",
       "      <td>0.0</td>\n",
       "      <td>0.00</td>\n",
       "      <td>1.0</td>\n",
       "    </tr>\n",
       "  </tbody>\n",
       "</table>\n",
       "</div>"
      ],
      "text/plain": [
       "                    count       mean        std   min   25%   50%     75%  \\\n",
       "id                   99.0  50.000000  28.722813   1.0  25.5  50.0   74.50   \n",
       "age                  99.0  45.080808  10.647101  25.0  37.5  45.0   54.00   \n",
       "experience           99.0  19.929293  10.331498  -1.0  12.5  20.0   28.00   \n",
       "income               99.0  78.010101  47.759708   8.0  40.5  71.0  114.50   \n",
       "family               99.0   2.404040   1.219896   1.0   1.0   2.0    4.00   \n",
       "ccavg                99.0   2.116162   1.829950   0.0   0.7   1.7    2.85   \n",
       "education            99.0   1.939394   0.866828   1.0   1.0   2.0    3.00   \n",
       "personal loan        99.0   0.121212   0.328035   0.0   0.0   0.0    0.00   \n",
       "securities account   99.0   0.151515   0.360375   0.0   0.0   0.0    0.00   \n",
       "cd account           99.0   0.050505   0.220099   0.0   0.0   0.0    0.00   \n",
       "online               99.0   0.505051   0.502519   0.0   0.0   1.0    1.00   \n",
       "creditcard           99.0   0.232323   0.424463   0.0   0.0   0.0    0.00   \n",
       "\n",
       "                      max  \n",
       "id                   99.0  \n",
       "age                  67.0  \n",
       "experience           41.0  \n",
       "income              194.0  \n",
       "family                4.0  \n",
       "ccavg                 8.9  \n",
       "education             3.0  \n",
       "personal loan         1.0  \n",
       "securities account    1.0  \n",
       "cd account            1.0  \n",
       "online                1.0  \n",
       "creditcard            1.0  "
      ]
     },
     "execution_count": 13,
     "metadata": {},
     "output_type": "execute_result"
    }
   ],
   "source": [
    "df.describe().T"
   ]
  },
  {
   "cell_type": "code",
   "execution_count": 14,
   "id": "af7af74e",
   "metadata": {},
   "outputs": [
    {
     "data": {
      "text/plain": [
       "id                    99\n",
       "age                   38\n",
       "experience            38\n",
       "income                68\n",
       "family                 4\n",
       "ccavg                 42\n",
       "education              3\n",
       "personal loan          2\n",
       "securities account     2\n",
       "cd account             2\n",
       "online                 2\n",
       "creditcard             2\n",
       "dtype: int64"
      ]
     },
     "execution_count": 14,
     "metadata": {},
     "output_type": "execute_result"
    }
   ],
   "source": [
    "df.apply(lambda x: len(x.unique()))"
   ]
  },
  {
   "cell_type": "code",
   "execution_count": 15,
   "id": "98a3f5d3",
   "metadata": {},
   "outputs": [
    {
     "data": {
      "image/png": "[encoded data removed]",
      "text/plain": [
       "<Figure size 1000x1000 with 12 Axes>"
      ]
     },
     "metadata": {},
     "output_type": "display_data"
    }
   ],
   "source": [
    "df.hist(figsize=(10,10),color=\"blueviolet\",grid=False)\n",
    "plt.show()"
   ]
  },
  {
   "cell_type": "code",
   "execution_count": 29,
   "id": "21906e71",
   "metadata": {},
   "outputs": [
    {
     "data": {
      "text/plain": [
       "0"
      ]
     },
     "execution_count": 29,
     "metadata": {},
     "output_type": "execute_result"
    }
   ],
   "source": [
    "df[df['experience'] < 0]['experience'].count()"
   ]
  },
  {
   "cell_type": "code",
   "execution_count": 30,
   "id": "1b4c3817",
   "metadata": {},
   "outputs": [],
   "source": [
    "my_dataExp = df.loc[df['experience'] >0]\n",
    "negExp = df.experience < 0\n",
    "column_name = 'experience'\n",
    "my_data_list = df.loc[negExp]['id'].tolist()"
   ]
  },
  {
   "cell_type": "code",
   "execution_count": 31,
   "id": "2d5b6349",
   "metadata": {},
   "outputs": [
    {
     "data": {
      "text/plain": [
       "False    99\n",
       "Name: experience, dtype: int64"
      ]
     },
     "execution_count": 31,
     "metadata": {},
     "output_type": "execute_result"
    }
   ],
   "source": [
    "negExp.value_counts()"
   ]
  },
  {
   "cell_type": "code",
   "execution_count": 32,
   "id": "e6b09918",
   "metadata": {},
   "outputs": [],
   "source": [
    "for id in my_data_list:\n",
    "    age = df.loc[np.where(df['id']==id)][\"age\"].tolist()[0]\n",
    "    education = df.loc[np.where(df['id']==id)][\"education\"].tolist()[0]\n",
    "    df_filtered = my_dataExp[(my_dataExp.age == age) & (my_dataExp.education == education)]\n",
    "    exp = df_filtered['experience'].median()\n",
    "    df.loc[df.loc[np.where(df['id']==id)].index, 'experience'] = exp\n",
    "    \n",
    "#The records with the ID, get the values of Age and Education columns.\n",
    "#Then apply filter for the records matching the criteria from the dataframe \n",
    "#which has records with positive experience and take the median.\n",
    "#Apply the median again to the location(records) which had negative experience.   "
   ]
  },
  {
   "cell_type": "code",
   "execution_count": 33,
   "id": "cbf1339d",
   "metadata": {},
   "outputs": [
    {
     "data": {
      "text/plain": [
       "0"
      ]
     },
     "execution_count": 33,
     "metadata": {},
     "output_type": "execute_result"
    }
   ],
   "source": [
    "df[df['experience'] < 0]['experience'].count()"
   ]
  },
  {
   "cell_type": "code",
   "execution_count": 34,
   "id": "d136bf0f",
   "metadata": {},
   "outputs": [
    {
     "data": {
      "text/html": [
       "<div>\n",
       "<style scoped>\n",
       "    .dataframe tbody tr th:only-of-type {\n",
       "        vertical-align: middle;\n",
       "    }\n",
       "\n",
       "    .dataframe tbody tr th {\n",
       "        vertical-align: top;\n",
       "    }\n",
       "\n",
       "    .dataframe thead th {\n",
       "        text-align: right;\n",
       "    }\n",
       "</style>\n",
       "<table border=\"1\" class=\"dataframe\">\n",
       "  <thead>\n",
       "    <tr style=\"text-align: right;\">\n",
       "      <th></th>\n",
       "      <th>count</th>\n",
       "      <th>mean</th>\n",
       "      <th>std</th>\n",
       "      <th>min</th>\n",
       "      <th>25%</th>\n",
       "      <th>50%</th>\n",
       "      <th>75%</th>\n",
       "      <th>max</th>\n",
       "    </tr>\n",
       "  </thead>\n",
       "  <tbody>\n",
       "    <tr>\n",
       "      <th>id</th>\n",
       "      <td>99.0</td>\n",
       "      <td>50.000000</td>\n",
       "      <td>28.722813</td>\n",
       "      <td>1.0</td>\n",
       "      <td>25.5</td>\n",
       "      <td>50.0</td>\n",
       "      <td>74.50</td>\n",
       "      <td>99.0</td>\n",
       "    </tr>\n",
       "    <tr>\n",
       "      <th>age</th>\n",
       "      <td>99.0</td>\n",
       "      <td>45.080808</td>\n",
       "      <td>10.647101</td>\n",
       "      <td>25.0</td>\n",
       "      <td>37.5</td>\n",
       "      <td>45.0</td>\n",
       "      <td>54.00</td>\n",
       "      <td>67.0</td>\n",
       "    </tr>\n",
       "    <tr>\n",
       "      <th>experience</th>\n",
       "      <td>98.0</td>\n",
       "      <td>20.142857</td>\n",
       "      <td>10.162596</td>\n",
       "      <td>1.0</td>\n",
       "      <td>13.0</td>\n",
       "      <td>20.0</td>\n",
       "      <td>28.00</td>\n",
       "      <td>41.0</td>\n",
       "    </tr>\n",
       "    <tr>\n",
       "      <th>income</th>\n",
       "      <td>99.0</td>\n",
       "      <td>78.010101</td>\n",
       "      <td>47.759708</td>\n",
       "      <td>8.0</td>\n",
       "      <td>40.5</td>\n",
       "      <td>71.0</td>\n",
       "      <td>114.50</td>\n",
       "      <td>194.0</td>\n",
       "    </tr>\n",
       "    <tr>\n",
       "      <th>family</th>\n",
       "      <td>99.0</td>\n",
       "      <td>2.404040</td>\n",
       "      <td>1.219896</td>\n",
       "      <td>1.0</td>\n",
       "      <td>1.0</td>\n",
       "      <td>2.0</td>\n",
       "      <td>4.00</td>\n",
       "      <td>4.0</td>\n",
       "    </tr>\n",
       "    <tr>\n",
       "      <th>ccavg</th>\n",
       "      <td>99.0</td>\n",
       "      <td>2.116162</td>\n",
       "      <td>1.829950</td>\n",
       "      <td>0.0</td>\n",
       "      <td>0.7</td>\n",
       "      <td>1.7</td>\n",
       "      <td>2.85</td>\n",
       "      <td>8.9</td>\n",
       "    </tr>\n",
       "    <tr>\n",
       "      <th>education</th>\n",
       "      <td>99.0</td>\n",
       "      <td>1.939394</td>\n",
       "      <td>0.866828</td>\n",
       "      <td>1.0</td>\n",
       "      <td>1.0</td>\n",
       "      <td>2.0</td>\n",
       "      <td>3.00</td>\n",
       "      <td>3.0</td>\n",
       "    </tr>\n",
       "    <tr>\n",
       "      <th>personal loan</th>\n",
       "      <td>99.0</td>\n",
       "      <td>0.121212</td>\n",
       "      <td>0.328035</td>\n",
       "      <td>0.0</td>\n",
       "      <td>0.0</td>\n",
       "      <td>0.0</td>\n",
       "      <td>0.00</td>\n",
       "      <td>1.0</td>\n",
       "    </tr>\n",
       "    <tr>\n",
       "      <th>securities account</th>\n",
       "      <td>99.0</td>\n",
       "      <td>0.151515</td>\n",
       "      <td>0.360375</td>\n",
       "      <td>0.0</td>\n",
       "      <td>0.0</td>\n",
       "      <td>0.0</td>\n",
       "      <td>0.00</td>\n",
       "      <td>1.0</td>\n",
       "    </tr>\n",
       "    <tr>\n",
       "      <th>cd account</th>\n",
       "      <td>99.0</td>\n",
       "      <td>0.050505</td>\n",
       "      <td>0.220099</td>\n",
       "      <td>0.0</td>\n",
       "      <td>0.0</td>\n",
       "      <td>0.0</td>\n",
       "      <td>0.00</td>\n",
       "      <td>1.0</td>\n",
       "    </tr>\n",
       "    <tr>\n",
       "      <th>online</th>\n",
       "      <td>99.0</td>\n",
       "      <td>0.505051</td>\n",
       "      <td>0.502519</td>\n",
       "      <td>0.0</td>\n",
       "      <td>0.0</td>\n",
       "      <td>1.0</td>\n",
       "      <td>1.00</td>\n",
       "      <td>1.0</td>\n",
       "    </tr>\n",
       "    <tr>\n",
       "      <th>creditcard</th>\n",
       "      <td>99.0</td>\n",
       "      <td>0.232323</td>\n",
       "      <td>0.424463</td>\n",
       "      <td>0.0</td>\n",
       "      <td>0.0</td>\n",
       "      <td>0.0</td>\n",
       "      <td>0.00</td>\n",
       "      <td>1.0</td>\n",
       "    </tr>\n",
       "  </tbody>\n",
       "</table>\n",
       "</div>"
      ],
      "text/plain": [
       "                    count       mean        std   min   25%   50%     75%  \\\n",
       "id                   99.0  50.000000  28.722813   1.0  25.5  50.0   74.50   \n",
       "age                  99.0  45.080808  10.647101  25.0  37.5  45.0   54.00   \n",
       "experience           98.0  20.142857  10.162596   1.0  13.0  20.0   28.00   \n",
       "income               99.0  78.010101  47.759708   8.0  40.5  71.0  114.50   \n",
       "family               99.0   2.404040   1.219896   1.0   1.0   2.0    4.00   \n",
       "ccavg                99.0   2.116162   1.829950   0.0   0.7   1.7    2.85   \n",
       "education            99.0   1.939394   0.866828   1.0   1.0   2.0    3.00   \n",
       "personal loan        99.0   0.121212   0.328035   0.0   0.0   0.0    0.00   \n",
       "securities account   99.0   0.151515   0.360375   0.0   0.0   0.0    0.00   \n",
       "cd account           99.0   0.050505   0.220099   0.0   0.0   0.0    0.00   \n",
       "online               99.0   0.505051   0.502519   0.0   0.0   1.0    1.00   \n",
       "creditcard           99.0   0.232323   0.424463   0.0   0.0   0.0    0.00   \n",
       "\n",
       "                      max  \n",
       "id                   99.0  \n",
       "age                  67.0  \n",
       "experience           41.0  \n",
       "income              194.0  \n",
       "family                4.0  \n",
       "ccavg                 8.9  \n",
       "education             3.0  \n",
       "personal loan         1.0  \n",
       "securities account    1.0  \n",
       "cd account            1.0  \n",
       "online                1.0  \n",
       "creditcard            1.0  "
      ]
     },
     "execution_count": 34,
     "metadata": {},
     "output_type": "execute_result"
    }
   ],
   "source": [
    "df.describe().T"
   ]
  },
  {
   "cell_type": "code",
   "execution_count": 35,
   "id": "308582c2",
   "metadata": {},
   "outputs": [
    {
     "data": {
      "text/plain": [
       "<Axes: xlabel='family', ylabel='count'>"
      ]
     },
     "execution_count": 35,
     "metadata": {},
     "output_type": "execute_result"
    },
    {
     "data": {
      "image/png": "[encoded data removed]",
      "text/plain": [
       "<Figure size 640x480 with 1 Axes>"
      ]
     },
     "metadata": {},
     "output_type": "display_data"
    }
   ],
   "source": [
    "sns.countplot(x='family',data=df,hue='personal loan')"
   ]
  },
  {
   "cell_type": "code",
   "execution_count": 38,
   "id": "0f39144f",
   "metadata": {},
   "outputs": [
    {
     "data": {
      "text/html": [
       "<div>\n",
       "<style scoped>\n",
       "    .dataframe tbody tr th:only-of-type {\n",
       "        vertical-align: middle;\n",
       "    }\n",
       "\n",
       "    .dataframe tbody tr th {\n",
       "        vertical-align: top;\n",
       "    }\n",
       "\n",
       "    .dataframe thead th {\n",
       "        text-align: right;\n",
       "    }\n",
       "</style>\n",
       "<table border=\"1\" class=\"dataframe\">\n",
       "  <thead>\n",
       "    <tr style=\"text-align: right;\">\n",
       "      <th></th>\n",
       "      <th>age</th>\n",
       "      <th>income</th>\n",
       "      <th>family</th>\n",
       "      <th>ccavg</th>\n",
       "      <th>education</th>\n",
       "      <th>personal loan</th>\n",
       "      <th>securities account</th>\n",
       "      <th>cd account</th>\n",
       "      <th>online</th>\n",
       "      <th>creditcard</th>\n",
       "    </tr>\n",
       "  </thead>\n",
       "  <tbody>\n",
       "    <tr>\n",
       "      <th>0</th>\n",
       "      <td>25</td>\n",
       "      <td>49</td>\n",
       "      <td>4</td>\n",
       "      <td>1.6</td>\n",
       "      <td>1</td>\n",
       "      <td>0</td>\n",
       "      <td>1</td>\n",
       "      <td>0</td>\n",
       "      <td>0</td>\n",
       "      <td>0</td>\n",
       "    </tr>\n",
       "    <tr>\n",
       "      <th>1</th>\n",
       "      <td>45</td>\n",
       "      <td>34</td>\n",
       "      <td>3</td>\n",
       "      <td>1.5</td>\n",
       "      <td>1</td>\n",
       "      <td>0</td>\n",
       "      <td>1</td>\n",
       "      <td>0</td>\n",
       "      <td>0</td>\n",
       "      <td>0</td>\n",
       "    </tr>\n",
       "    <tr>\n",
       "      <th>2</th>\n",
       "      <td>39</td>\n",
       "      <td>11</td>\n",
       "      <td>1</td>\n",
       "      <td>1.0</td>\n",
       "      <td>1</td>\n",
       "      <td>0</td>\n",
       "      <td>0</td>\n",
       "      <td>0</td>\n",
       "      <td>0</td>\n",
       "      <td>0</td>\n",
       "    </tr>\n",
       "    <tr>\n",
       "      <th>3</th>\n",
       "      <td>35</td>\n",
       "      <td>100</td>\n",
       "      <td>1</td>\n",
       "      <td>2.7</td>\n",
       "      <td>2</td>\n",
       "      <td>0</td>\n",
       "      <td>0</td>\n",
       "      <td>0</td>\n",
       "      <td>0</td>\n",
       "      <td>0</td>\n",
       "    </tr>\n",
       "    <tr>\n",
       "      <th>4</th>\n",
       "      <td>35</td>\n",
       "      <td>45</td>\n",
       "      <td>4</td>\n",
       "      <td>1.0</td>\n",
       "      <td>2</td>\n",
       "      <td>0</td>\n",
       "      <td>0</td>\n",
       "      <td>0</td>\n",
       "      <td>0</td>\n",
       "      <td>1</td>\n",
       "    </tr>\n",
       "    <tr>\n",
       "      <th>5</th>\n",
       "      <td>37</td>\n",
       "      <td>29</td>\n",
       "      <td>4</td>\n",
       "      <td>0.4</td>\n",
       "      <td>2</td>\n",
       "      <td>0</td>\n",
       "      <td>0</td>\n",
       "      <td>0</td>\n",
       "      <td>1</td>\n",
       "      <td>0</td>\n",
       "    </tr>\n",
       "    <tr>\n",
       "      <th>6</th>\n",
       "      <td>53</td>\n",
       "      <td>72</td>\n",
       "      <td>2</td>\n",
       "      <td>1.5</td>\n",
       "      <td>2</td>\n",
       "      <td>0</td>\n",
       "      <td>0</td>\n",
       "      <td>0</td>\n",
       "      <td>1</td>\n",
       "      <td>0</td>\n",
       "    </tr>\n",
       "    <tr>\n",
       "      <th>7</th>\n",
       "      <td>50</td>\n",
       "      <td>22</td>\n",
       "      <td>1</td>\n",
       "      <td>0.3</td>\n",
       "      <td>3</td>\n",
       "      <td>0</td>\n",
       "      <td>0</td>\n",
       "      <td>0</td>\n",
       "      <td>0</td>\n",
       "      <td>1</td>\n",
       "    </tr>\n",
       "    <tr>\n",
       "      <th>8</th>\n",
       "      <td>35</td>\n",
       "      <td>81</td>\n",
       "      <td>3</td>\n",
       "      <td>0.6</td>\n",
       "      <td>2</td>\n",
       "      <td>0</td>\n",
       "      <td>0</td>\n",
       "      <td>0</td>\n",
       "      <td>1</td>\n",
       "      <td>0</td>\n",
       "    </tr>\n",
       "    <tr>\n",
       "      <th>9</th>\n",
       "      <td>34</td>\n",
       "      <td>180</td>\n",
       "      <td>1</td>\n",
       "      <td>8.9</td>\n",
       "      <td>3</td>\n",
       "      <td>1</td>\n",
       "      <td>0</td>\n",
       "      <td>0</td>\n",
       "      <td>0</td>\n",
       "      <td>0</td>\n",
       "    </tr>\n",
       "  </tbody>\n",
       "</table>\n",
       "</div>"
      ],
      "text/plain": [
       "   age  income  family  ccavg  education  personal loan  securities account  \\\n",
       "0   25      49       4    1.6          1              0                   1   \n",
       "1   45      34       3    1.5          1              0                   1   \n",
       "2   39      11       1    1.0          1              0                   0   \n",
       "3   35     100       1    2.7          2              0                   0   \n",
       "4   35      45       4    1.0          2              0                   0   \n",
       "5   37      29       4    0.4          2              0                   0   \n",
       "6   53      72       2    1.5          2              0                   0   \n",
       "7   50      22       1    0.3          3              0                   0   \n",
       "8   35      81       3    0.6          2              0                   0   \n",
       "9   34     180       1    8.9          3              1                   0   \n",
       "\n",
       "   cd account  online  creditcard  \n",
       "0           0       0           0  \n",
       "1           0       0           0  \n",
       "2           0       0           0  \n",
       "3           0       0           0  \n",
       "4           0       0           1  \n",
       "5           0       1           0  \n",
       "6           0       1           0  \n",
       "7           0       0           1  \n",
       "8           0       1           0  \n",
       "9           0       0           0  "
      ]
     },
     "execution_count": 38,
     "metadata": {},
     "output_type": "execute_result"
    }
   ],
   "source": [
    "data=df.drop(['id','experience'], axis =1 )\n",
    "data.head(10)"
   ]
  },
  {
   "cell_type": "code",
   "execution_count": 40,
   "id": "0e5053cb",
   "metadata": {},
   "outputs": [],
   "source": [
    "data1=data[['age','income','family','ccavg','education','securities account','cd account','online','creditcard','personal loan']]"
   ]
  },
  {
   "cell_type": "code",
   "execution_count": 41,
   "id": "40268f8f",
   "metadata": {},
   "outputs": [
    {
     "data": {
      "text/html": [
       "<div>\n",
       "<style scoped>\n",
       "    .dataframe tbody tr th:only-of-type {\n",
       "        vertical-align: middle;\n",
       "    }\n",
       "\n",
       "    .dataframe tbody tr th {\n",
       "        vertical-align: top;\n",
       "    }\n",
       "\n",
       "    .dataframe thead th {\n",
       "        text-align: right;\n",
       "    }\n",
       "</style>\n",
       "<table border=\"1\" class=\"dataframe\">\n",
       "  <thead>\n",
       "    <tr style=\"text-align: right;\">\n",
       "      <th></th>\n",
       "      <th>age</th>\n",
       "      <th>income</th>\n",
       "      <th>family</th>\n",
       "      <th>ccavg</th>\n",
       "      <th>education</th>\n",
       "      <th>securities account</th>\n",
       "      <th>cd account</th>\n",
       "      <th>online</th>\n",
       "      <th>creditcard</th>\n",
       "      <th>personal loan</th>\n",
       "    </tr>\n",
       "  </thead>\n",
       "  <tbody>\n",
       "    <tr>\n",
       "      <th>0</th>\n",
       "      <td>25</td>\n",
       "      <td>49</td>\n",
       "      <td>4</td>\n",
       "      <td>1.6</td>\n",
       "      <td>1</td>\n",
       "      <td>1</td>\n",
       "      <td>0</td>\n",
       "      <td>0</td>\n",
       "      <td>0</td>\n",
       "      <td>0</td>\n",
       "    </tr>\n",
       "    <tr>\n",
       "      <th>1</th>\n",
       "      <td>45</td>\n",
       "      <td>34</td>\n",
       "      <td>3</td>\n",
       "      <td>1.5</td>\n",
       "      <td>1</td>\n",
       "      <td>1</td>\n",
       "      <td>0</td>\n",
       "      <td>0</td>\n",
       "      <td>0</td>\n",
       "      <td>0</td>\n",
       "    </tr>\n",
       "    <tr>\n",
       "      <th>2</th>\n",
       "      <td>39</td>\n",
       "      <td>11</td>\n",
       "      <td>1</td>\n",
       "      <td>1.0</td>\n",
       "      <td>1</td>\n",
       "      <td>0</td>\n",
       "      <td>0</td>\n",
       "      <td>0</td>\n",
       "      <td>0</td>\n",
       "      <td>0</td>\n",
       "    </tr>\n",
       "    <tr>\n",
       "      <th>3</th>\n",
       "      <td>35</td>\n",
       "      <td>100</td>\n",
       "      <td>1</td>\n",
       "      <td>2.7</td>\n",
       "      <td>2</td>\n",
       "      <td>0</td>\n",
       "      <td>0</td>\n",
       "      <td>0</td>\n",
       "      <td>0</td>\n",
       "      <td>0</td>\n",
       "    </tr>\n",
       "    <tr>\n",
       "      <th>4</th>\n",
       "      <td>35</td>\n",
       "      <td>45</td>\n",
       "      <td>4</td>\n",
       "      <td>1.0</td>\n",
       "      <td>2</td>\n",
       "      <td>0</td>\n",
       "      <td>0</td>\n",
       "      <td>0</td>\n",
       "      <td>1</td>\n",
       "      <td>0</td>\n",
       "    </tr>\n",
       "    <tr>\n",
       "      <th>...</th>\n",
       "      <td>...</td>\n",
       "      <td>...</td>\n",
       "      <td>...</td>\n",
       "      <td>...</td>\n",
       "      <td>...</td>\n",
       "      <td>...</td>\n",
       "      <td>...</td>\n",
       "      <td>...</td>\n",
       "      <td>...</td>\n",
       "      <td>...</td>\n",
       "    </tr>\n",
       "    <tr>\n",
       "      <th>94</th>\n",
       "      <td>65</td>\n",
       "      <td>121</td>\n",
       "      <td>1</td>\n",
       "      <td>2.0</td>\n",
       "      <td>1</td>\n",
       "      <td>0</td>\n",
       "      <td>0</td>\n",
       "      <td>0</td>\n",
       "      <td>0</td>\n",
       "      <td>0</td>\n",
       "    </tr>\n",
       "    <tr>\n",
       "      <th>95</th>\n",
       "      <td>38</td>\n",
       "      <td>48</td>\n",
       "      <td>4</td>\n",
       "      <td>0.2</td>\n",
       "      <td>3</td>\n",
       "      <td>0</td>\n",
       "      <td>0</td>\n",
       "      <td>1</td>\n",
       "      <td>0</td>\n",
       "      <td>0</td>\n",
       "    </tr>\n",
       "    <tr>\n",
       "      <th>96</th>\n",
       "      <td>41</td>\n",
       "      <td>80</td>\n",
       "      <td>1</td>\n",
       "      <td>5.2</td>\n",
       "      <td>1</td>\n",
       "      <td>0</td>\n",
       "      <td>0</td>\n",
       "      <td>0</td>\n",
       "      <td>0</td>\n",
       "      <td>0</td>\n",
       "    </tr>\n",
       "    <tr>\n",
       "      <th>97</th>\n",
       "      <td>54</td>\n",
       "      <td>161</td>\n",
       "      <td>1</td>\n",
       "      <td>2.9</td>\n",
       "      <td>1</td>\n",
       "      <td>0</td>\n",
       "      <td>0</td>\n",
       "      <td>1</td>\n",
       "      <td>0</td>\n",
       "      <td>0</td>\n",
       "    </tr>\n",
       "    <tr>\n",
       "      <th>98</th>\n",
       "      <td>49</td>\n",
       "      <td>94</td>\n",
       "      <td>1</td>\n",
       "      <td>0.3</td>\n",
       "      <td>1</td>\n",
       "      <td>0</td>\n",
       "      <td>0</td>\n",
       "      <td>1</td>\n",
       "      <td>0</td>\n",
       "      <td>0</td>\n",
       "    </tr>\n",
       "  </tbody>\n",
       "</table>\n",
       "<p>99 rows × 10 columns</p>\n",
       "</div>"
      ],
      "text/plain": [
       "    age  income  family  ccavg  education  securities account  cd account  \\\n",
       "0    25      49       4    1.6          1                   1           0   \n",
       "1    45      34       3    1.5          1                   1           0   \n",
       "2    39      11       1    1.0          1                   0           0   \n",
       "3    35     100       1    2.7          2                   0           0   \n",
       "4    35      45       4    1.0          2                   0           0   \n",
       "..  ...     ...     ...    ...        ...                 ...         ...   \n",
       "94   65     121       1    2.0          1                   0           0   \n",
       "95   38      48       4    0.2          3                   0           0   \n",
       "96   41      80       1    5.2          1                   0           0   \n",
       "97   54     161       1    2.9          1                   0           0   \n",
       "98   49      94       1    0.3          1                   0           0   \n",
       "\n",
       "    online  creditcard  personal loan  \n",
       "0        0           0              0  \n",
       "1        0           0              0  \n",
       "2        0           0              0  \n",
       "3        0           0              0  \n",
       "4        0           1              0  \n",
       "..     ...         ...            ...  \n",
       "94       0           0              0  \n",
       "95       1           0              0  \n",
       "96       0           0              0  \n",
       "97       1           0              0  \n",
       "98       1           0              0  \n",
       "\n",
       "[99 rows x 10 columns]"
      ]
     },
     "execution_count": 41,
     "metadata": {},
     "output_type": "execute_result"
    }
   ],
   "source": [
    "data1"
   ]
  },
  {
   "cell_type": "code",
   "execution_count": 43,
   "id": "bc1fe57c",
   "metadata": {},
   "outputs": [
    {
     "data": {
      "text/plain": [
       "numpy.ndarray"
      ]
     },
     "execution_count": 43,
     "metadata": {},
     "output_type": "execute_result"
    }
   ],
   "source": [
    "array = data1.values\n",
    "X = array[:,0:9] # select all rows and first 10 columns which are the attributes\n",
    "Y = array[:,9]   # select all rows and the 10th column which is the classification \"0\", \"1\"\n",
    "test_size = 0.30 # taking 70:30 training and test set\n",
    "seed = 15  # Random numbmer seeding for reapeatability of the code\n",
    "X_train, X_test, y_train, y_test = train_test_split(X, Y, test_size=test_size, random_state=seed) # To set the random state\n",
    "type(X_train)"
   ]
  },
  {
   "cell_type": "markdown",
   "id": "3e66c050",
   "metadata": {},
   "source": [
    "# LogisticRegression"
   ]
  },
  {
   "cell_type": "code",
   "execution_count": 44,
   "id": "53c9b0fa",
   "metadata": {},
   "outputs": [
    {
     "name": "stdout",
     "output_type": "stream",
     "text": [
      "Accuracy: 0.9\n",
      "confusion_matrix:\n",
      "[[24  2]\n",
      " [ 1  3]]\n"
     ]
    },
    {
     "name": "stderr",
     "output_type": "stream",
     "text": [
      "/usr/local/lib64/python3.9/site-packages/sklearn/linear_model/_logistic.py:458: ConvergenceWarning: lbfgs failed to converge (status=1):\n",
      "STOP: TOTAL NO. of ITERATIONS REACHED LIMIT.\n",
      "\n",
      "Increase the number of iterations (max_iter) or scale the data as shown in:\n",
      "    https://scikit-learn.org/stable/modules/preprocessing.html\n",
      "Please also refer to the documentation for alternative solver options:\n",
      "    https://scikit-learn.org/stable/modules/linear_model.html#logistic-regression\n",
      "  n_iter_i = _check_optimize_result(\n"
     ]
    }
   ],
   "source": [
    "# Fit the model on 30%\n",
    "from sklearn import metrics\n",
    "model = LogisticRegression()\n",
    "model.fit(X_train, y_train)\n",
    "y_predict = model.predict(X_test)\n",
    "model_score = model.score(X_test, y_test)\n",
    "accuracy=print('Accuracy:',model_score)\n",
    "print('confusion_matrix:')\n",
    "print(metrics.confusion_matrix(y_test, y_predict))\n",
    "A=model_score  # Accuracy of Logistic regression model"
   ]
  },
  {
   "cell_type": "code",
   "execution_count": null,
   "id": "5d156302",
   "metadata": {},
   "outputs": [],
   "source": []
  },
  {
   "cell_type": "code",
   "execution_count": 45,
   "id": "289155bf",
   "metadata": {},
   "outputs": [],
   "source": [
    "#from sklearn.preprocessing import Imputer\n",
    "from sklearn.impute import SimpleImputer \n",
    "imputer = SimpleImputer(missing_values=np.nan, strategy='mean')\n",
    "from sklearn import preprocessing\n",
    "from sklearn.naive_bayes import GaussianNB\n",
    "from sklearn.metrics import accuracy_score"
   ]
  },
  {
   "cell_type": "code",
   "execution_count": 48,
   "id": "2d96c10a",
   "metadata": {},
   "outputs": [],
   "source": [
    "X = data1.values[:,0:9]  ## Features\n",
    "Y = data1.values[:,9]  ## Target.values[:,10]  ## Target"
   ]
  },
  {
   "cell_type": "code",
   "execution_count": 49,
   "id": "574933a6",
   "metadata": {},
   "outputs": [],
   "source": [
    "X_train, X_test, Y_train, Y_test = train_test_split(X, Y, test_size = 0.30, random_state = 7)"
   ]
  },
  {
   "cell_type": "code",
   "execution_count": 50,
   "id": "76c7901c",
   "metadata": {},
   "outputs": [
    {
     "data": {
      "text/html": [
       "<style>#sk-container-id-1 {color: black;background-color: white;}#sk-container-id-1 pre{padding: 0;}#sk-container-id-1 div.sk-toggleable {background-color: white;}#sk-container-id-1 label.sk-toggleable__label {cursor: pointer;display: block;width: 100%;margin-bottom: 0;padding: 0.3em;box-sizing: border-box;text-align: center;}#sk-container-id-1 label.sk-toggleable__label-arrow:before {content: \"▸\";float: left;margin-right: 0.25em;color: #696969;}#sk-container-id-1 label.sk-toggleable__label-arrow:hover:before {color: black;}#sk-container-id-1 div.sk-estimator:hover label.sk-toggleable__label-arrow:before {color: black;}#sk-container-id-1 div.sk-toggleable__content {max-height: 0;max-width: 0;overflow: hidden;text-align: left;background-color: #f0f8ff;}#sk-container-id-1 div.sk-toggleable__content pre {margin: 0.2em;color: black;border-radius: 0.25em;background-color: #f0f8ff;}#sk-container-id-1 input.sk-toggleable__control:checked~div.sk-toggleable__content {max-height: 200px;max-width: 100%;overflow: auto;}#sk-container-id-1 input.sk-toggleable__control:checked~label.sk-toggleable__label-arrow:before {content: \"▾\";}#sk-container-id-1 div.sk-estimator input.sk-toggleable__control:checked~label.sk-toggleable__label {background-color: #d4ebff;}#sk-container-id-1 div.sk-label input.sk-toggleable__control:checked~label.sk-toggleable__label {background-color: #d4ebff;}#sk-container-id-1 input.sk-hidden--visually {border: 0;clip: rect(1px 1px 1px 1px);clip: rect(1px, 1px, 1px, 1px);height: 1px;margin: -1px;overflow: hidden;padding: 0;position: absolute;width: 1px;}#sk-container-id-1 div.sk-estimator {font-family: monospace;background-color: #f0f8ff;border: 1px dotted black;border-radius: 0.25em;box-sizing: border-box;margin-bottom: 0.5em;}#sk-container-id-1 div.sk-estimator:hover {background-color: #d4ebff;}#sk-container-id-1 div.sk-parallel-item::after {content: \"\";width: 100%;border-bottom: 1px solid gray;flex-grow: 1;}#sk-container-id-1 div.sk-label:hover label.sk-toggleable__label {background-color: #d4ebff;}#sk-container-id-1 div.sk-serial::before {content: \"\";position: absolute;border-left: 1px solid gray;box-sizing: border-box;top: 0;bottom: 0;left: 50%;z-index: 0;}#sk-container-id-1 div.sk-serial {display: flex;flex-direction: column;align-items: center;background-color: white;padding-right: 0.2em;padding-left: 0.2em;position: relative;}#sk-container-id-1 div.sk-item {position: relative;z-index: 1;}#sk-container-id-1 div.sk-parallel {display: flex;align-items: stretch;justify-content: center;background-color: white;position: relative;}#sk-container-id-1 div.sk-item::before, #sk-container-id-1 div.sk-parallel-item::before {content: \"\";position: absolute;border-left: 1px solid gray;box-sizing: border-box;top: 0;bottom: 0;left: 50%;z-index: -1;}#sk-container-id-1 div.sk-parallel-item {display: flex;flex-direction: column;z-index: 1;position: relative;background-color: white;}#sk-container-id-1 div.sk-parallel-item:first-child::after {align-self: flex-end;width: 50%;}#sk-container-id-1 div.sk-parallel-item:last-child::after {align-self: flex-start;width: 50%;}#sk-container-id-1 div.sk-parallel-item:only-child::after {width: 0;}#sk-container-id-1 div.sk-dashed-wrapped {border: 1px dashed gray;margin: 0 0.4em 0.5em 0.4em;box-sizing: border-box;padding-bottom: 0.4em;background-color: white;}#sk-container-id-1 div.sk-label label {font-family: monospace;font-weight: bold;display: inline-block;line-height: 1.2em;}#sk-container-id-1 div.sk-label-container {text-align: center;}#sk-container-id-1 div.sk-container {/* jupyter's `normalize.less` sets `[hidden] { display: none; }` but bootstrap.min.css set `[hidden] { display: none !important; }` so we also need the `!important` here to be able to override the default hidden behavior on the sphinx rendered scikit-learn.org. See: https://github.com/scikit-learn/scikit-learn/issues/21755 */display: inline-block !important;position: relative;}#sk-container-id-1 div.sk-text-repr-fallback {display: none;}</style><div id=\"sk-container-id-1\" class=\"sk-top-container\"><div class=\"sk-text-repr-fallback\"><pre>GaussianNB()</pre><b>In a Jupyter environment, please rerun this cell to show the HTML representation or trust the notebook. <br />On GitHub, the HTML representation is unable to render, please try loading this page with nbviewer.org.</b></div><div class=\"sk-container\" hidden><div class=\"sk-item\"><div class=\"sk-estimator sk-toggleable\"><input class=\"sk-toggleable__control sk-hidden--visually\" id=\"sk-estimator-id-1\" type=\"checkbox\" checked><label for=\"sk-estimator-id-1\" class=\"sk-toggleable__label sk-toggleable__label-arrow\">GaussianNB</label><div class=\"sk-toggleable__content\"><pre>GaussianNB()</pre></div></div></div></div></div>"
      ],
      "text/plain": [
       "GaussianNB()"
      ]
     },
     "execution_count": 50,
     "metadata": {},
     "output_type": "execute_result"
    }
   ],
   "source": [
    "clf = GaussianNB()\n",
    "clf.fit(X_train, Y_train)"
   ]
  },
  {
   "cell_type": "code",
   "execution_count": 51,
   "id": "f1ab41e6",
   "metadata": {},
   "outputs": [],
   "source": [
    "Y_pred = clf.predict(X_test)"
   ]
  },
  {
   "cell_type": "code",
   "execution_count": 52,
   "id": "7ac671fd",
   "metadata": {},
   "outputs": [
    {
     "name": "stdout",
     "output_type": "stream",
     "text": [
      "Accuracy_score: 1.0\n"
     ]
    }
   ],
   "source": [
    "B=accuracy_score(Y_test, Y_pred, normalize = True) #Accuracy of Naive Bayes' Model\n",
    "print('Accuracy_score:',B)"
   ]
  },
  {
   "cell_type": "code",
   "execution_count": 53,
   "id": "58e9c797",
   "metadata": {},
   "outputs": [
    {
     "name": "stdout",
     "output_type": "stream",
     "text": [
      "1.0\n"
     ]
    }
   ],
   "source": [
    "from sklearn.metrics import recall_score\n",
    "print(recall_score(Y_test, Y_pred))"
   ]
  },
  {
   "cell_type": "code",
   "execution_count": 54,
   "id": "849cf0ec",
   "metadata": {},
   "outputs": [
    {
     "name": "stdout",
     "output_type": "stream",
     "text": [
      "Confusion_matrix:\n",
      "[[29  0]\n",
      " [ 0  1]]\n"
     ]
    }
   ],
   "source": [
    "print('Confusion_matrix:')\n",
    "print(metrics.confusion_matrix(Y_test,Y_pred))"
   ]
  },
  {
   "cell_type": "code",
   "execution_count": 55,
   "id": "1cd27d12",
   "metadata": {},
   "outputs": [],
   "source": [
    "from sklearn import preprocessing\n",
    "from sklearn.preprocessing import StandardScaler"
   ]
  },
  {
   "cell_type": "code",
   "execution_count": 56,
   "id": "57a76d27",
   "metadata": {},
   "outputs": [],
   "source": [
    "X_std = pd.DataFrame(StandardScaler().fit_transform(data1))\n",
    "X_std.columns = data1.columns"
   ]
  },
  {
   "cell_type": "code",
   "execution_count": 57,
   "id": "72466920",
   "metadata": {},
   "outputs": [],
   "source": [
    "import numpy as np\n",
    "from sklearn.model_selection import train_test_split\n",
    "\n",
    "# Transform data into features and target\n",
    "X = np.array(data1.iloc[:,1:11]) \n",
    "y = np.array(data1['personal loan'])\n",
    "\n",
    "# split into train and test\n",
    "X_train, X_test, y_train, y_test = train_test_split(X, y, test_size=0.2, random_state=5)"
   ]
  },
  {
   "cell_type": "markdown",
   "id": "ba2ae73b",
   "metadata": {},
   "source": [
    "# KNeighborsClassifier"
   ]
  },
  {
   "cell_type": "code",
   "execution_count": 58,
   "id": "47132ce9",
   "metadata": {},
   "outputs": [
    {
     "name": "stdout",
     "output_type": "stream",
     "text": [
      "0.95\n",
      "0.95\n",
      "0.9\n",
      "0.9\n"
     ]
    }
   ],
   "source": [
    "# loading library\n",
    "from sklearn.neighbors import KNeighborsClassifier\n",
    "from sklearn.metrics import accuracy_score\n",
    "from sklearn.metrics import recall_score\n",
    "\n",
    "# instantiate learning model (k = 1)\n",
    "knn = KNeighborsClassifier(n_neighbors = 1)\n",
    "\n",
    "# fitting the model\n",
    "knn.fit(X_train, y_train)\n",
    "\n",
    "# predict the response\n",
    "y_pred = knn.predict(X_test)\n",
    "\n",
    "# evaluate accuracy\n",
    "print(accuracy_score(y_test, y_pred))\n",
    "\n",
    "# instantiate learning model (k = 5)\n",
    "knn = KNeighborsClassifier(n_neighbors=5)\n",
    "\n",
    "# fitting the model\n",
    "knn.fit(X_train, y_train)\n",
    "\n",
    "# predict the response\n",
    "y_pred = knn.predict(X_test)\n",
    "\n",
    "# evaluate accuracy\n",
    "print(accuracy_score(y_test, y_pred))\n",
    "\n",
    "# instantiate learning model (k = 3)\n",
    "knn = KNeighborsClassifier(n_neighbors=3)\n",
    "\n",
    "# fitting the model\n",
    "knn.fit(X_train, y_train)\n",
    "\n",
    "# predict the response\n",
    "y_pred = knn.predict(X_test)\n",
    "\n",
    "# evaluate accuracy\n",
    "print(accuracy_score(y_test, y_pred))\n",
    "# instantiate learning model (k = 7)\n",
    "knn = KNeighborsClassifier(n_neighbors=7)\n",
    "\n",
    "# fitting the model\n",
    "knn.fit(X_train, y_train)\n",
    "\n",
    "# predict the response\n",
    "y_pred = knn.predict(X_test)\n",
    "\n",
    "# evaluate accuracy\n",
    "print(accuracy_score(y_test, y_pred))"
   ]
  },
  {
   "cell_type": "code",
   "execution_count": 59,
   "id": "c9361966",
   "metadata": {},
   "outputs": [],
   "source": [
    "myList = list(range(1,20))\n",
    "\n",
    "# subsetting just the odd ones\n",
    "neighbors = list(filter(lambda x: x % 2 != 0, myList))\n"
   ]
  },
  {
   "cell_type": "code",
   "execution_count": 65,
   "id": "4a3a247c",
   "metadata": {},
   "outputs": [
    {
     "name": "stdout",
     "output_type": "stream",
     "text": [
      "The optimal number of neighbors is 1\n"
     ]
    }
   ],
   "source": [
    "from sklearn.metrics import accuracy_score\n",
    "\n",
    "neighbors = range(1, 20, 2)\n",
    "scores = []\n",
    "\n",
    "for k in neighbors:\n",
    "    knn = KNeighborsClassifier(n_neighbors=k)\n",
    "    knn.fit(X_train, y_train)\n",
    "    # predict the response\n",
    "    y_pred = knn.predict(X_test)\n",
    "    # evaluate accuracy\n",
    "    score = accuracy_score(y_test, y_pred)\n",
    "    scores.append(score)\n",
    "\n",
    "# changing to misclassification error\n",
    "MSE = [1 - x for x in scores]\n",
    "\n",
    "# determining best k\n",
    "optimal_k = neighbors[MSE.index(min(MSE))]\n",
    "print(\"The optimal number of neighbors is %d\" % optimal_k)"
   ]
  },
  {
   "cell_type": "code",
   "execution_count": 66,
   "id": "21eab368",
   "metadata": {},
   "outputs": [
    {
     "data": {
      "image/png": "[encoded data removed]",
      "text/plain": [
       "<Figure size 640x480 with 1 Axes>"
      ]
     },
     "metadata": {},
     "output_type": "display_data"
    }
   ],
   "source": [
    "#Plot misclassification error vs k (with k value on X-axis) using matplotlib.\n",
    "import matplotlib.pyplot as plt\n",
    "# plot misclassification error vs k\n",
    "plt.plot(neighbors, MSE)\n",
    "plt.xlabel('Number of Neighbors K')\n",
    "plt.ylabel('Misclassification Error')\n",
    "plt.show()"
   ]
  },
  {
   "cell_type": "code",
   "execution_count": 67,
   "id": "9dc2c681",
   "metadata": {},
   "outputs": [
    {
     "name": "stdout",
     "output_type": "stream",
     "text": [
      "Accuracy_score: 0.95\n",
      "1.0\n"
     ]
    }
   ],
   "source": [
    "#Use k=1 as the final model for prediction\n",
    "knn = KNeighborsClassifier(n_neighbors = 1)\n",
    "\n",
    "# fitting the model\n",
    "knn.fit(X_train, y_train)\n",
    "\n",
    "# predict the response\n",
    "y_pred = knn.predict(X_test)\n",
    "\n",
    "# evaluate accuracy\n",
    "C=accuracy_score(y_test, y_pred)   #Accuracy of KNN model\n",
    "print('Accuracy_score:',C)    \n",
    "print(recall_score(y_test, y_pred))"
   ]
  },
  {
   "cell_type": "code",
   "execution_count": 68,
   "id": "39e542d9",
   "metadata": {},
   "outputs": [
    {
     "name": "stdout",
     "output_type": "stream",
     "text": [
      "Confusion_matrix:\n",
      "[[17  1]\n",
      " [ 0  2]]\n"
     ]
    }
   ],
   "source": [
    "print('Confusion_matrix:')\n",
    "print(metrics.confusion_matrix(y_test, y_pred))"
   ]
  },
  {
   "cell_type": "code",
   "execution_count": 70,
   "id": "130dbbbf",
   "metadata": {},
   "outputs": [],
   "source": [
    "from sklearn.model_selection import train_test_split\n",
    "\n",
    "# To calculate the accuracy score of the model\n",
    "from sklearn.metrics import accuracy_score, confusion_matrix\n",
    "\n",
    "target = df[\"personal loan\"]\n",
    "features=df.drop(['id','experience'], axis =1 )\n",
    "X_train, X_test, y_train, y_test = train_test_split(features,target, test_size = 0.30, random_state = 10)"
   ]
  },
  {
   "cell_type": "markdown",
   "id": "6b899b88",
   "metadata": {},
   "source": [
    "# SVC"
   ]
  },
  {
   "cell_type": "code",
   "execution_count": 71,
   "id": "44b5a418",
   "metadata": {},
   "outputs": [],
   "source": [
    "from sklearn.svm import SVC\n",
    "\n",
    "# Building a Support Vector Machine on train data\n",
    "svc_model= SVC(kernel='linear')\n",
    "svc_model.fit(X_train, y_train)\n",
    "\n",
    "prediction = svc_model.predict(X_test)"
   ]
  },
  {
   "cell_type": "code",
   "execution_count": 72,
   "id": "0b1d105d",
   "metadata": {},
   "outputs": [
    {
     "name": "stdout",
     "output_type": "stream",
     "text": [
      "1.0\n",
      "1.0\n"
     ]
    }
   ],
   "source": [
    "# check the accuracy on the training set\n",
    "print(svc_model.score(X_train, y_train))\n",
    "print(svc_model.score(X_test, y_test))"
   ]
  },
  {
   "cell_type": "code",
   "execution_count": 73,
   "id": "40e36bee",
   "metadata": {},
   "outputs": [
    {
     "name": "stdout",
     "output_type": "stream",
     "text": [
      "Confusion Matrix:\n",
      " [[28  0]\n",
      " [ 0  2]]\n"
     ]
    }
   ],
   "source": [
    "print(\"Confusion Matrix:\\n\",confusion_matrix(prediction,y_test))"
   ]
  },
  {
   "cell_type": "code",
   "execution_count": 74,
   "id": "6d2f7b98",
   "metadata": {},
   "outputs": [
    {
     "data": {
      "text/html": [
       "<div>\n",
       "<style scoped>\n",
       "    .dataframe tbody tr th:only-of-type {\n",
       "        vertical-align: middle;\n",
       "    }\n",
       "\n",
       "    .dataframe tbody tr th {\n",
       "        vertical-align: top;\n",
       "    }\n",
       "\n",
       "    .dataframe thead th {\n",
       "        text-align: right;\n",
       "    }\n",
       "</style>\n",
       "<table border=\"1\" class=\"dataframe\">\n",
       "  <thead>\n",
       "    <tr style=\"text-align: right;\">\n",
       "      <th></th>\n",
       "      <th>Kernel</th>\n",
       "      <th>Accuracy</th>\n",
       "    </tr>\n",
       "  </thead>\n",
       "  <tbody>\n",
       "    <tr>\n",
       "      <th>0</th>\n",
       "      <td>Linear</td>\n",
       "      <td>1.0</td>\n",
       "    </tr>\n",
       "  </tbody>\n",
       "</table>\n",
       "</div>"
      ],
      "text/plain": [
       "   Kernel  Accuracy\n",
       "0  Linear       1.0"
      ]
     },
     "execution_count": 74,
     "metadata": {},
     "output_type": "execute_result"
    }
   ],
   "source": [
    "#Store the accuracy results for each kernel in a dataframe for final comparison\n",
    "resultsDf = pd.DataFrame({'Kernel':['Linear'], 'Accuracy': svc_model.score(X_train, y_train)})\n",
    "resultsDf = resultsDf[['Kernel', 'Accuracy']]\n",
    "resultsDf"
   ]
  },
  {
   "cell_type": "code",
   "execution_count": 75,
   "id": "d59f6c39",
   "metadata": {},
   "outputs": [
    {
     "data": {
      "text/html": [
       "<style>#sk-container-id-2 {color: black;background-color: white;}#sk-container-id-2 pre{padding: 0;}#sk-container-id-2 div.sk-toggleable {background-color: white;}#sk-container-id-2 label.sk-toggleable__label {cursor: pointer;display: block;width: 100%;margin-bottom: 0;padding: 0.3em;box-sizing: border-box;text-align: center;}#sk-container-id-2 label.sk-toggleable__label-arrow:before {content: \"▸\";float: left;margin-right: 0.25em;color: #696969;}#sk-container-id-2 label.sk-toggleable__label-arrow:hover:before {color: black;}#sk-container-id-2 div.sk-estimator:hover label.sk-toggleable__label-arrow:before {color: black;}#sk-container-id-2 div.sk-toggleable__content {max-height: 0;max-width: 0;overflow: hidden;text-align: left;background-color: #f0f8ff;}#sk-container-id-2 div.sk-toggleable__content pre {margin: 0.2em;color: black;border-radius: 0.25em;background-color: #f0f8ff;}#sk-container-id-2 input.sk-toggleable__control:checked~div.sk-toggleable__content {max-height: 200px;max-width: 100%;overflow: auto;}#sk-container-id-2 input.sk-toggleable__control:checked~label.sk-toggleable__label-arrow:before {content: \"▾\";}#sk-container-id-2 div.sk-estimator input.sk-toggleable__control:checked~label.sk-toggleable__label {background-color: #d4ebff;}#sk-container-id-2 div.sk-label input.sk-toggleable__control:checked~label.sk-toggleable__label {background-color: #d4ebff;}#sk-container-id-2 input.sk-hidden--visually {border: 0;clip: rect(1px 1px 1px 1px);clip: rect(1px, 1px, 1px, 1px);height: 1px;margin: -1px;overflow: hidden;padding: 0;position: absolute;width: 1px;}#sk-container-id-2 div.sk-estimator {font-family: monospace;background-color: #f0f8ff;border: 1px dotted black;border-radius: 0.25em;box-sizing: border-box;margin-bottom: 0.5em;}#sk-container-id-2 div.sk-estimator:hover {background-color: #d4ebff;}#sk-container-id-2 div.sk-parallel-item::after {content: \"\";width: 100%;border-bottom: 1px solid gray;flex-grow: 1;}#sk-container-id-2 div.sk-label:hover label.sk-toggleable__label {background-color: #d4ebff;}#sk-container-id-2 div.sk-serial::before {content: \"\";position: absolute;border-left: 1px solid gray;box-sizing: border-box;top: 0;bottom: 0;left: 50%;z-index: 0;}#sk-container-id-2 div.sk-serial {display: flex;flex-direction: column;align-items: center;background-color: white;padding-right: 0.2em;padding-left: 0.2em;position: relative;}#sk-container-id-2 div.sk-item {position: relative;z-index: 1;}#sk-container-id-2 div.sk-parallel {display: flex;align-items: stretch;justify-content: center;background-color: white;position: relative;}#sk-container-id-2 div.sk-item::before, #sk-container-id-2 div.sk-parallel-item::before {content: \"\";position: absolute;border-left: 1px solid gray;box-sizing: border-box;top: 0;bottom: 0;left: 50%;z-index: -1;}#sk-container-id-2 div.sk-parallel-item {display: flex;flex-direction: column;z-index: 1;position: relative;background-color: white;}#sk-container-id-2 div.sk-parallel-item:first-child::after {align-self: flex-end;width: 50%;}#sk-container-id-2 div.sk-parallel-item:last-child::after {align-self: flex-start;width: 50%;}#sk-container-id-2 div.sk-parallel-item:only-child::after {width: 0;}#sk-container-id-2 div.sk-dashed-wrapped {border: 1px dashed gray;margin: 0 0.4em 0.5em 0.4em;box-sizing: border-box;padding-bottom: 0.4em;background-color: white;}#sk-container-id-2 div.sk-label label {font-family: monospace;font-weight: bold;display: inline-block;line-height: 1.2em;}#sk-container-id-2 div.sk-label-container {text-align: center;}#sk-container-id-2 div.sk-container {/* jupyter's `normalize.less` sets `[hidden] { display: none; }` but bootstrap.min.css set `[hidden] { display: none !important; }` so we also need the `!important` here to be able to override the default hidden behavior on the sphinx rendered scikit-learn.org. See: https://github.com/scikit-learn/scikit-learn/issues/21755 */display: inline-block !important;position: relative;}#sk-container-id-2 div.sk-text-repr-fallback {display: none;}</style><div id=\"sk-container-id-2\" class=\"sk-top-container\"><div class=\"sk-text-repr-fallback\"><pre>SVC()</pre><b>In a Jupyter environment, please rerun this cell to show the HTML representation or trust the notebook. <br />On GitHub, the HTML representation is unable to render, please try loading this page with nbviewer.org.</b></div><div class=\"sk-container\" hidden><div class=\"sk-item\"><div class=\"sk-estimator sk-toggleable\"><input class=\"sk-toggleable__control sk-hidden--visually\" id=\"sk-estimator-id-2\" type=\"checkbox\" checked><label for=\"sk-estimator-id-2\" class=\"sk-toggleable__label sk-toggleable__label-arrow\">SVC</label><div class=\"sk-toggleable__content\"><pre>SVC()</pre></div></div></div></div></div>"
      ],
      "text/plain": [
       "SVC()"
      ]
     },
     "execution_count": 75,
     "metadata": {},
     "output_type": "execute_result"
    }
   ],
   "source": [
    "# Building a Support Vector Machine on train data\n",
    "svc_model = SVC(kernel='rbf')\n",
    "svc_model.fit(X_train, y_train)"
   ]
  },
  {
   "cell_type": "code",
   "execution_count": 76,
   "id": "3fa684e7",
   "metadata": {},
   "outputs": [
    {
     "name": "stdout",
     "output_type": "stream",
     "text": [
      "0.8985507246376812\n",
      "0.9333333333333333\n"
     ]
    }
   ],
   "source": [
    "print(svc_model.score(X_train, y_train))\n",
    "print(svc_model.score(X_test, y_test))"
   ]
  },
  {
   "cell_type": "code",
   "execution_count": 77,
   "id": "eae468e8",
   "metadata": {},
   "outputs": [
    {
     "data": {
      "text/html": [
       "<div>\n",
       "<style scoped>\n",
       "    .dataframe tbody tr th:only-of-type {\n",
       "        vertical-align: middle;\n",
       "    }\n",
       "\n",
       "    .dataframe tbody tr th {\n",
       "        vertical-align: top;\n",
       "    }\n",
       "\n",
       "    .dataframe thead th {\n",
       "        text-align: right;\n",
       "    }\n",
       "</style>\n",
       "<table border=\"1\" class=\"dataframe\">\n",
       "  <thead>\n",
       "    <tr style=\"text-align: right;\">\n",
       "      <th></th>\n",
       "      <th>Kernel</th>\n",
       "      <th>Accuracy</th>\n",
       "    </tr>\n",
       "  </thead>\n",
       "  <tbody>\n",
       "    <tr>\n",
       "      <th>0</th>\n",
       "      <td>Linear</td>\n",
       "      <td>1.000000</td>\n",
       "    </tr>\n",
       "    <tr>\n",
       "      <th>0</th>\n",
       "      <td>RBF</td>\n",
       "      <td>0.898551</td>\n",
       "    </tr>\n",
       "  </tbody>\n",
       "</table>\n",
       "</div>"
      ],
      "text/plain": [
       "   Kernel  Accuracy\n",
       "0  Linear  1.000000\n",
       "0     RBF  0.898551"
      ]
     },
     "execution_count": 77,
     "metadata": {},
     "output_type": "execute_result"
    }
   ],
   "source": [
    "tempResultsDf = pd.DataFrame({'Kernel':['RBF'], 'Accuracy': svc_model.score(X_train, y_train)})\n",
    "resultsDf = pd.concat([resultsDf, tempResultsDf])\n",
    "resultsDf = resultsDf[['Kernel', 'Accuracy']]\n",
    "resultsDf"
   ]
  },
  {
   "cell_type": "code",
   "execution_count": 78,
   "id": "29fdb79f",
   "metadata": {},
   "outputs": [
    {
     "name": "stdout",
     "output_type": "stream",
     "text": [
      "0.8985507246376812\n",
      "0.9333333333333333\n"
     ]
    }
   ],
   "source": [
    "#Building a Support Vector Machine on train data(changing the kernel)\n",
    "svc_model  = SVC(kernel='poly')\n",
    "svc_model.fit(X_train, y_train)\n",
    "\n",
    "prediction = svc_model.predict(X_test)\n",
    "\n",
    "print(svc_model.score(X_train, y_train))\n",
    "print(svc_model.score(X_test, y_test))"
   ]
  },
  {
   "cell_type": "code",
   "execution_count": 79,
   "id": "c334b483",
   "metadata": {},
   "outputs": [
    {
     "data": {
      "text/html": [
       "<div>\n",
       "<style scoped>\n",
       "    .dataframe tbody tr th:only-of-type {\n",
       "        vertical-align: middle;\n",
       "    }\n",
       "\n",
       "    .dataframe tbody tr th {\n",
       "        vertical-align: top;\n",
       "    }\n",
       "\n",
       "    .dataframe thead th {\n",
       "        text-align: right;\n",
       "    }\n",
       "</style>\n",
       "<table border=\"1\" class=\"dataframe\">\n",
       "  <thead>\n",
       "    <tr style=\"text-align: right;\">\n",
       "      <th></th>\n",
       "      <th>Kernel</th>\n",
       "      <th>Accuracy</th>\n",
       "    </tr>\n",
       "  </thead>\n",
       "  <tbody>\n",
       "    <tr>\n",
       "      <th>0</th>\n",
       "      <td>Linear</td>\n",
       "      <td>1.000000</td>\n",
       "    </tr>\n",
       "    <tr>\n",
       "      <th>0</th>\n",
       "      <td>RBF</td>\n",
       "      <td>0.898551</td>\n",
       "    </tr>\n",
       "    <tr>\n",
       "      <th>0</th>\n",
       "      <td>Poly</td>\n",
       "      <td>0.898551</td>\n",
       "    </tr>\n",
       "  </tbody>\n",
       "</table>\n",
       "</div>"
      ],
      "text/plain": [
       "   Kernel  Accuracy\n",
       "0  Linear  1.000000\n",
       "0     RBF  0.898551\n",
       "0    Poly  0.898551"
      ]
     },
     "execution_count": 79,
     "metadata": {},
     "output_type": "execute_result"
    }
   ],
   "source": [
    "#Store the accuracy results for each kernel in a dataframe for final comparison\n",
    "tempResultsDf = pd.DataFrame({'Kernel':['Poly'], 'Accuracy': svc_model.score(X_train, y_train)})\n",
    "resultsDf = pd.concat([resultsDf, tempResultsDf])\n",
    "resultsDf = resultsDf[['Kernel', 'Accuracy']]\n",
    "resultsDf"
   ]
  },
  {
   "cell_type": "code",
   "execution_count": 80,
   "id": "6cc76766",
   "metadata": {},
   "outputs": [
    {
     "name": "stdout",
     "output_type": "stream",
     "text": [
      "0.9333333333333333\n"
     ]
    }
   ],
   "source": [
    "svc_model = SVC(kernel='sigmoid')\n",
    "svc_model.fit(X_train, y_train)\n",
    "\n",
    "prediction = svc_model.predict(X_test)\n",
    "\n",
    "##print(svc_model.score(X_train, y_train))\n",
    "print(svc_model.score(X_test, y_test))"
   ]
  },
  {
   "cell_type": "code",
   "execution_count": 81,
   "id": "0ed10c94",
   "metadata": {},
   "outputs": [
    {
     "data": {
      "text/html": [
       "<div>\n",
       "<style scoped>\n",
       "    .dataframe tbody tr th:only-of-type {\n",
       "        vertical-align: middle;\n",
       "    }\n",
       "\n",
       "    .dataframe tbody tr th {\n",
       "        vertical-align: top;\n",
       "    }\n",
       "\n",
       "    .dataframe thead th {\n",
       "        text-align: right;\n",
       "    }\n",
       "</style>\n",
       "<table border=\"1\" class=\"dataframe\">\n",
       "  <thead>\n",
       "    <tr style=\"text-align: right;\">\n",
       "      <th></th>\n",
       "      <th>Kernel</th>\n",
       "      <th>Accuracy</th>\n",
       "    </tr>\n",
       "  </thead>\n",
       "  <tbody>\n",
       "    <tr>\n",
       "      <th>0</th>\n",
       "      <td>Linear</td>\n",
       "      <td>1.000000</td>\n",
       "    </tr>\n",
       "    <tr>\n",
       "      <th>0</th>\n",
       "      <td>RBF</td>\n",
       "      <td>0.898551</td>\n",
       "    </tr>\n",
       "    <tr>\n",
       "      <th>0</th>\n",
       "      <td>Poly</td>\n",
       "      <td>0.898551</td>\n",
       "    </tr>\n",
       "    <tr>\n",
       "      <th>0</th>\n",
       "      <td>Sigmoid</td>\n",
       "      <td>0.855072</td>\n",
       "    </tr>\n",
       "  </tbody>\n",
       "</table>\n",
       "</div>"
      ],
      "text/plain": [
       "    Kernel  Accuracy\n",
       "0   Linear  1.000000\n",
       "0      RBF  0.898551\n",
       "0     Poly  0.898551\n",
       "0  Sigmoid  0.855072"
      ]
     },
     "execution_count": 81,
     "metadata": {},
     "output_type": "execute_result"
    }
   ],
   "source": [
    "#Store the accuracy results for each kernel in a dataframe for final comparison\n",
    "tempResultsDf = pd.DataFrame({'Kernel':['Sigmoid'], 'Accuracy': svc_model.score(X_train, y_train)})\n",
    "resultsDf = pd.concat([resultsDf, tempResultsDf])\n",
    "resultsDf = resultsDf[['Kernel', 'Accuracy']]\n",
    "resultsDf"
   ]
  },
  {
   "cell_type": "code",
   "execution_count": 82,
   "id": "d6049168",
   "metadata": {},
   "outputs": [
    {
     "name": "stdout",
     "output_type": "stream",
     "text": [
      "0.9\n"
     ]
    }
   ],
   "source": [
    "print(A) #Accuracy of Logistic regression model"
   ]
  },
  {
   "cell_type": "code",
   "execution_count": 83,
   "id": "2cc9ff19",
   "metadata": {},
   "outputs": [
    {
     "name": "stdout",
     "output_type": "stream",
     "text": [
      "1.0\n"
     ]
    }
   ],
   "source": [
    "print(B) #Accuracy of Naive Bayes' Model"
   ]
  },
  {
   "cell_type": "code",
   "execution_count": 84,
   "id": "290cbc9c",
   "metadata": {},
   "outputs": [
    {
     "name": "stdout",
     "output_type": "stream",
     "text": [
      "0.95\n"
     ]
    }
   ],
   "source": [
    "print(C)  #Accuracy of KNN Model"
   ]
  },
  {
   "cell_type": "code",
   "execution_count": 85,
   "id": "3c8c6e4f",
   "metadata": {},
   "outputs": [
    {
     "data": {
      "text/html": [
       "<div>\n",
       "<style scoped>\n",
       "    .dataframe tbody tr th:only-of-type {\n",
       "        vertical-align: middle;\n",
       "    }\n",
       "\n",
       "    .dataframe tbody tr th {\n",
       "        vertical-align: top;\n",
       "    }\n",
       "\n",
       "    .dataframe thead th {\n",
       "        text-align: right;\n",
       "    }\n",
       "</style>\n",
       "<table border=\"1\" class=\"dataframe\">\n",
       "  <thead>\n",
       "    <tr style=\"text-align: right;\">\n",
       "      <th></th>\n",
       "      <th>Kernel</th>\n",
       "      <th>Accuracy</th>\n",
       "    </tr>\n",
       "  </thead>\n",
       "  <tbody>\n",
       "    <tr>\n",
       "      <th>0</th>\n",
       "      <td>Linear</td>\n",
       "      <td>1.000000</td>\n",
       "    </tr>\n",
       "    <tr>\n",
       "      <th>0</th>\n",
       "      <td>RBF</td>\n",
       "      <td>0.898551</td>\n",
       "    </tr>\n",
       "    <tr>\n",
       "      <th>0</th>\n",
       "      <td>Poly</td>\n",
       "      <td>0.898551</td>\n",
       "    </tr>\n",
       "    <tr>\n",
       "      <th>0</th>\n",
       "      <td>Sigmoid</td>\n",
       "      <td>0.855072</td>\n",
       "    </tr>\n",
       "  </tbody>\n",
       "</table>\n",
       "</div>"
      ],
      "text/plain": [
       "    Kernel  Accuracy\n",
       "0   Linear  1.000000\n",
       "0      RBF  0.898551\n",
       "0     Poly  0.898551\n",
       "0  Sigmoid  0.855072"
      ]
     },
     "execution_count": 85,
     "metadata": {},
     "output_type": "execute_result"
    }
   ],
   "source": [
    "resultsDf #Accuracy of SVM Model"
   ]
  },
  {
   "cell_type": "markdown",
   "id": "13c19a7e",
   "metadata": {},
   "source": [
    "Conclusion:\n",
    "The classification goal is to predict the likelihood of a liability customer buying personal loans.\n",
    "A bank wants a new marketing campaign; so that they need information about the correlation between the variables given in the dataset.\n",
    "Here I used 4 classification models to study.\n",
    "From the accuracy scores , it seems like \"KNN\" algorithm have the highest accuracy and stability.\n",
    "But we can use SVM also as all the Kernels have good accuracy as well."
   ]
  },
  {
   "cell_type": "code",
   "execution_count": 86,
   "id": "2a86db37",
   "metadata": {},
   "outputs": [],
   "source": [
    "import os\n",
    "os.environ[\"MLFLOW_TRACKING_URI\"] = \"http://localhost:5000\""
   ]
  },
  {
   "cell_type": "code",
   "execution_count": 87,
   "id": "5ca05b82",
   "metadata": {},
   "outputs": [],
   "source": [
    "import mlflow\n",
    "\n",
    "mlflow.set_tracking_uri(\"http://localhost:5000\")\n",
    "mlflow.set_experiment(\"bankloan\")\n",
    "with mlflow.start_run():\n",
    "    mlflow.log_param(\"param1\", 1)\n",
    "    mlflow.log_metric(\"metric1\", 2.5)\n"
   ]
  },
  {
   "cell_type": "code",
   "execution_count": 88,
   "id": "1a17ee3a",
   "metadata": {},
   "outputs": [],
   "source": [
    "import os \n",
    "from random import random, randint \n",
    "from mlflow import log_metric, log_param,artifacts"
   ]
  },
  {
   "cell_type": "code",
   "execution_count": 89,
   "id": "b5b60c60",
   "metadata": {},
   "outputs": [],
   "source": [
    "import mlflow\n",
    "\n",
    "def create_experiment(experiment_name, run_name, run_metrics, model,knn,svc_model, confusion_matrix_path=None, run_params=None):\n",
    "\n",
    "    mlflow.set_experiment(experiment_name)\n",
    "\n",
    "    with mlflow.start_run(run_name=run_name):\n",
    "\n",
    "        if run_params is not None:\n",
    "            for param in run_params:\n",
    "                mlflow.log_param(param, run_params[param])\n",
    "\n",
    "        for metric in run_metrics:\n",
    "            mlflow.log_metric(metric, run_metrics[metric])\n",
    "\n",
    "        if confusion_matrix_path is not None:\n",
    "            mlflow.log_artifact(confusion_matrix_path, 'confusion_matrix.png')\n",
    "\n",
    "        # if roc_auc_plot_path is not None:\n",
    "        # mlflow.log_artifact(roc_auc_plot_path, \"roc_auc_plot.png\")\n",
    "\n",
    "        mlflow.set_tag(\"tag1\", \"bankloan\")\n",
    "        mlflow.set_tags({\"tag2\": \"Logistic Regression\", \"tag3\": \"KNeighborsClassifier\", \"tag4\": \"SVC\"})\n",
    "        mlflow.sklearn.log_model(model, \"model\",knn,\"knn\",svc_model,\"svc\", registered_model_name=\"bankloan\")\n"
   ]
  },
  {
   "cell_type": "code",
   "execution_count": 90,
   "id": "f0f488d7",
   "metadata": {
    "scrolled": true
   },
   "outputs": [
    {
     "name": "stderr",
     "output_type": "stream",
     "text": [
      "Registered model 'LogisticRegression' already exists. Creating a new version of this model...\n",
      "2023/04/05 14:34:07 INFO mlflow.tracking._model_registry.client: Waiting up to 300 seconds for model version to finish creation.                     Model name: LogisticRegression, version 2\n",
      "Created version '2' of model 'LogisticRegression'.\n"
     ]
    }
   ],
   "source": [
    "from random import random, randint\n",
    "from sklearn.ensemble import RandomForestRegressor\n",
    "from sklearn.linear_model import LogisticRegression\n",
    "from sklearn.metrics import confusion_matrix\n",
    "from sklearn.neighbors import KNeighborsRegressor\n",
    "from sklearn.svm import SVC\n",
    "import mlflow\n",
    "import mlflow.sklearn\n",
    "\n",
    "with mlflow.start_run(run_name=\"Bankloan\") as run:\n",
    "    params = {\"random_state\": 42}\n",
    "    sk_learn_lr = LogisticRegression(**params)\n",
    "\n",
    "    # Log parameters and metrics using the MLflow APIs\n",
    "    mlflow.log_params(params)\n",
    "    mlflow.log_param(\"param_1\", randint(0, 100))\n",
    "    mlflow.log_metrics({\"metric_1\": random(), \"metric_2\": random() + 1})\n",
    "\n",
    "    # Log the sklearn model and register as version 1\n",
    "    mlflow.sklearn.log_model(\n",
    "        sk_model=sk_learn_lr,\n",
    "        artifact_path=\"LogisticRegression\",\n",
    "        registered_model_name=\"LogisticRegression\",\n",
    "    )\n",
    "\n",
    "\n",
    "\n"
   ]
  },
  {
   "cell_type": "code",
   "execution_count": 92,
   "id": "36e280fb",
   "metadata": {},
   "outputs": [
    {
     "data": {
      "text/plain": [
       "<ModelVersion: creation_timestamp=1680685447514, current_stage='Production', description='', last_updated_timestamp=1680685576389, name='LogisticRegression', run_id='e52bd040b72e43cebcc8451f049132e2', run_link='', source='mlflow-artifacts:/668818565217247779/e52bd040b72e43cebcc8451f049132e2/artifacts/LogisticRegression', status='READY', status_message='', tags={}, user_id='', version='2'>"
      ]
     },
     "execution_count": 92,
     "metadata": {},
     "output_type": "execute_result"
    }
   ],
   "source": [
    "client = mlflow.tracking.MlflowClient()\n",
    "\n",
    "client.transition_model_version_stage(\n",
    "    name=\"LogisticRegression\",\n",
    "    version=2,\n",
    "    stage=\"Production\"\n",
    ")\n"
   ]
  },
  {
   "cell_type": "code",
   "execution_count": 95,
   "id": "5a86060e",
   "metadata": {},
   "outputs": [
    {
     "name": "stderr",
     "output_type": "stream",
     "text": [
      "Successfully registered model 'SVC'.\n",
      "2023/04/05 14:55:40 INFO mlflow.tracking._model_registry.client: Waiting up to 300 seconds for model version to finish creation.                     Model name: SVC, version 1\n",
      "Created version '1' of model 'SVC'.\n"
     ]
    }
   ],
   "source": [
    "from random import random, randint\n",
    "from sklearn.ensemble import RandomForestRegressor\n",
    "from sklearn.linear_model import LogisticRegression\n",
    "from sklearn.metrics import confusion_matrix\n",
    "from sklearn.neighbors import KNeighborsRegressor\n",
    "from sklearn.svm import SVC\n",
    "import mlflow\n",
    "import mlflow.sklearn\n",
    "\n",
    "with mlflow.start_run(run_name=\"Bankloan\") as run:\n",
    "    params = {\"random_state\": 42}\n",
    "    sk_learn_lr = SVC(**params)\n",
    "\n",
    "    # Log parameters and metrics using the MLflow APIs\n",
    "    mlflow.log_params(params)\n",
    "    mlflow.log_param(\"param_1\", randint(0, 100))\n",
    "    mlflow.log_metrics({\"metric_1\": random(), \"metric_2\": random() + 1})\n",
    "\n",
    "    # Log the sklearn model and register as version 1\n",
    "    mlflow.sklearn.log_model(\n",
    "        sk_model=sk_learn_lr,\n",
    "        artifact_path=\"SVC\",\n",
    "        registered_model_name=\"SVC\",\n",
    "    )\n"
   ]
  },
  {
   "cell_type": "code",
   "execution_count": 98,
   "id": "22b65e33",
   "metadata": {},
   "outputs": [
    {
     "data": {
      "text/plain": [
       "<ModelVersion: creation_timestamp=1680686740016, current_stage='Production', description='', last_updated_timestamp=1680687048363, name='SVC', run_id='66044b02e145439f88c0aaae43a1d213', run_link='', source='mlflow-artifacts:/668818565217247779/66044b02e145439f88c0aaae43a1d213/artifacts/SVC', status='READY', status_message='', tags={}, user_id='', version='1'>"
      ]
     },
     "execution_count": 98,
     "metadata": {},
     "output_type": "execute_result"
    }
   ],
   "source": [
    "client = mlflow.tracking.MlflowClient()\n",
    "\n",
    "client.transition_model_version_stage(\n",
    "    name=\"SVC\",\n",
    "    version=1,\n",
    "    stage=\"Production\"\n",
    ")\n"
   ]
  },
  {
   "cell_type": "code",
   "execution_count": 104,
   "id": "1f3e2304",
   "metadata": {},
   "outputs": [
    {
     "name": "stderr",
     "output_type": "stream",
     "text": [
      "Successfully registered model 'KNN'.\n",
      "2023/04/05 15:37:06 INFO mlflow.tracking._model_registry.client: Waiting up to 300 seconds for model version to finish creation.                     Model name: KNN, version 1\n",
      "Created version '1' of model 'KNN'.\n"
     ]
    }
   ],
   "source": [
    "from random import random, randint\n",
    "import numpy as np\n",
    "from sklearn.ensemble import RandomForestRegressor\n",
    "from sklearn.linear_model import LogisticRegression\n",
    "from sklearn.metrics import confusion_matrix\n",
    "from sklearn.neighbors import KNeighborsRegressor\n",
    "from sklearn.svm import SVC\n",
    "import mlflow\n",
    "import mlflow.sklearn\n",
    "\n",
    "def knn_regressor():\n",
    "    return KNeighborsRegressor(n_neighbors=5)\n",
    "\n",
    "with mlflow.start_run(run_name=\"Bankloan\") as run:\n",
    "    np.random.seed(42)  # set the random seed\n",
    "\n",
    "    sk_learn_lr = knn_regressor()\n",
    "\n",
    "    # Log parameters and metrics using the MLflow APIs\n",
    "    params = {\"random_state\": 42}\n",
    "    mlflow.log_params(params)\n",
    "    mlflow.log_param(\"param_1\", randint(0, 100))\n",
    "    mlflow.log_metrics({\"metric_1\": random(), \"metric_2\": random() + 1})\n",
    "\n",
    "    # Log the sklearn model and register as version 1\n",
    "    mlflow.sklearn.log_model(\n",
    "        sk_model=sk_learn_lr,\n",
    "        artifact_path=\"KNN\",\n",
    "        registered_model_name=\"KNN\",\n",
    "    )\n"
   ]
  },
  {
   "cell_type": "code",
   "execution_count": 105,
   "id": "b7488b10",
   "metadata": {},
   "outputs": [
    {
     "data": {
      "text/plain": [
       "<ModelVersion: creation_timestamp=1680689226505, current_stage='Production', description='', last_updated_timestamp=1680689321176, name='KNN', run_id='4072c0d765b24a0a8aa6f63046a623a7', run_link='', source='mlflow-artifacts:/668818565217247779/4072c0d765b24a0a8aa6f63046a623a7/artifacts/KNN', status='READY', status_message='', tags={}, user_id='', version='1'>"
      ]
     },
     "execution_count": 105,
     "metadata": {},
     "output_type": "execute_result"
    }
   ],
   "source": [
    "client = mlflow.tracking.MlflowClient()\n",
    "\n",
    "client.transition_model_version_stage(\n",
    "    name=\"KNN\",\n",
    "    version=1,\n",
    "    stage=\"Production\"\n",
    ")\n",
    "\n",
    "#http://127.0.0.1:5000"
   ]
  },
  {
   "cell_type": "code",
   "execution_count": 1,
   "id": "b6e2b5f6",
   "metadata": {},
   "outputs": [
    {
     "name": "stdout",
     "output_type": "stream",
     "text": [
      "Collecting mysql-connector-python\n",
      "  Downloading mysql_connector_python-8.0.32-cp39-cp39-manylinux1_x86_64.whl (23.5 MB)\n",
      "\u001b[2K     \u001b[90m━━━━━━━━━━━━━━━━━━━━━━━━━━━━━━━━━━━━━━━━\u001b[0m \u001b[32m23.5/23.5 MB\u001b[0m \u001b[31m7.7 MB/s\u001b[0m eta \u001b[36m0:00:00\u001b[0m00:01\u001b[0m00:01\u001b[0m\n",
      "\u001b[?25hCollecting protobuf<=3.20.3,>=3.11.0\n",
      "  Downloading protobuf-3.20.3-cp39-cp39-manylinux_2_5_x86_64.manylinux1_x86_64.whl (1.0 MB)\n",
      "\u001b[2K     \u001b[90m━━━━━━━━━━━━━━━━━━━━━━━━━━━━━━━━━━━━━━━━\u001b[0m \u001b[32m1.0/1.0 MB\u001b[0m \u001b[31m3.4 MB/s\u001b[0m eta \u001b[36m0:00:00\u001b[0m00:01\u001b[0m00:01\u001b[0m\n",
      "\u001b[?25hInstalling collected packages: protobuf, mysql-connector-python\n",
      "  Attempting uninstall: protobuf\n",
      "    Found existing installation: protobuf 4.22.1\n",
      "    Uninstalling protobuf-4.22.1:\n",
      "      Successfully uninstalled protobuf-4.22.1\n",
      "Successfully installed mysql-connector-python-8.0.32 protobuf-3.20.3\n",
      "\u001b[33mWARNING: Running pip as the 'root' user can result in broken permissions and conflicting behaviour with the system package manager. It is recommended to use a virtual environment instead: https://pip.pypa.io/warnings/venv\u001b[0m\u001b[33m\n",
      "\u001b[0m"
     ]
    }
   ],
   "source": [
    "!pip install mysql-connector-python"
   ]
  }
 ],
 "metadata": {
  "kernelspec": {
   "display_name": "Python 3 (ipykernel)",
   "language": "python",
   "name": "python3"
  },
  "language_info": {
   "codemirror_mode": {
    "name": "ipython",
    "version": 3
   },
   "file_extension": ".py",
   "mimetype": "text/x-python",
   "name": "python",
   "nbconvert_exporter": "python",
   "pygments_lexer": "ipython3",
   "version": "3.9.16"
  }
 },
 "nbformat": 4,
 "nbformat_minor": 5
}
